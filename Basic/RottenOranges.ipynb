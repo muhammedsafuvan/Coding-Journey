{
 "cells": [
  {
   "cell_type": "code",
   "execution_count": 2,
   "metadata": {},
   "outputs": [
    {
     "name": "stdout",
     "output_type": "stream",
     "text": [
      "4\n"
     ]
    }
   ],
   "source": [
    "def rottenOranges(grid):\n",
    "    r,c,fresh,t = len(grid), len(grid[0]), 0, 0\n",
    "    rotten = []\n",
    "    for i in range(r):\n",
    "        for j in range(c):\n",
    "            if grid[i][j] == 1:\n",
    "                fresh += 1\n",
    "            elif grid[i][j] == 2:\n",
    "                rotten.append([i,j])\n",
    "                \n",
    "    while len(rotten) > 0:\n",
    "        num = len(rotten)\n",
    "        for i in range(num):\n",
    "            x,y = rotten[0]\n",
    "            rotten.pop(0)\n",
    "            if x > 0 and grid[x-1][y] == 1: grid[x-1][y] = 2; fresh -= 1; rotten.append([x-1,y])\n",
    "            if y > 0 and grid[x][y-1] == 1: grid[x][y-1] = 2; fresh -= 1; rotten.append([x,y-1])\n",
    "            if x < r-1 and grid[x+1][y] == 1: grid[x+1][y] = 2; fresh -= 1; rotten.append([x+1,y])\n",
    "            if y < c-1 and grid[x][y+1] == 1: grid[x][y+1] = 2; fresh -= 1; rotten.append([x,y+1])\n",
    "                \n",
    "        if (len(rotten) > 0):\n",
    "            t+=1 \n",
    "        \n",
    "    if fresh == 0:\n",
    "        return t\n",
    "    else:\n",
    "        return -1\n",
    "\n",
    "#grid = [[0,1,2],[0,0,2],[1,0,1]]\n",
    "grid = [[2,1,1],[1,1,0],[0,1,1]]\n",
    "print(rottenOranges(grid))\n",
    "            "
   ]
  },
  {
   "cell_type": "markdown",
   "metadata": {},
   "source": [
    "# Using set"
   ]
  },
  {
   "cell_type": "code",
   "execution_count": 3,
   "metadata": {},
   "outputs": [
    {
     "name": "stdout",
     "output_type": "stream",
     "text": [
      "None\n"
     ]
    }
   ],
   "source": [
    "def oranges(mat):\n",
    "    r,c,fresh,t = len(mat), len(mat[0]), 0, 0\n",
    "    rotten = set()\n",
    "    for i in range(r):\n",
    "        for j in range(c):\n",
    "            if mat[i][j] == 1:\n",
    "                fresh += 1\n",
    "            elif mat[i][j] == 2:\n",
    "                rotten.add((i,j))\n",
    "    for i,j in rotten:\n",
    "        for x,y in {(1,0),(-1,0),(0,1),(0,-1)} :\n",
    "            m = i+x\n",
    "            n = j+y\n",
    "            if 0 <= m < r and 0 <= n < c and mat[m][n] == 1:\n",
    "                fresh -= 1\n",
    "    return \n",
    "mat = [[2,1,1],[1,1,0],[0,1,1]]\n",
    "print(oranges(mat))\n",
    "                \n",
    "    "
   ]
  },
  {
   "cell_type": "code",
   "execution_count": null,
   "metadata": {},
   "outputs": [],
   "source": []
  }
 ],
 "metadata": {
  "kernelspec": {
   "display_name": "Python 3",
   "language": "python",
   "name": "python3"
  },
  "language_info": {
   "codemirror_mode": {
    "name": "ipython",
    "version": 3
   },
   "file_extension": ".py",
   "mimetype": "text/x-python",
   "name": "python",
   "nbconvert_exporter": "python",
   "pygments_lexer": "ipython3",
   "version": "3.8.5"
  }
 },
 "nbformat": 4,
 "nbformat_minor": 4
}
