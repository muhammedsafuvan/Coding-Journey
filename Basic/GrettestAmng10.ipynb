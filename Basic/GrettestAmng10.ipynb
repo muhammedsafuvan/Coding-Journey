{
 "cells": [
  {
   "cell_type": "code",
   "execution_count": 7,
   "metadata": {},
   "outputs": [
    {
     "name": "stdout",
     "output_type": "stream",
     "text": [
      "9\n"
     ]
    }
   ],
   "source": [
    "def greatest(a):\n",
    "    n = len(a)\n",
    "    ans = 0\n",
    "    for i in range(n-1):\n",
    "        if(a[i] > a[i+1]):\n",
    "            num = a[i]\n",
    "            if(ans<num):\n",
    "                ans = num\n",
    "        \n",
    "    return ans\n",
    "\n",
    "a = [0,9,7,5,3,1,2,4,8,6,6]\n",
    "print(greatest(a))"
   ]
  },
  {
   "cell_type": "code",
   "execution_count": 20,
   "metadata": {},
   "outputs": [
    {
     "name": "stdout",
     "output_type": "stream",
     "text": [
      "4\n"
     ]
    }
   ],
   "source": [
    "import math\n",
    "def nth_root(m,n):\n",
    "    #return math.ceil(pow(m,1/n))\n",
    "    for i in range(1,m):\n",
    "        if(i**n == m):\n",
    "            return i\n",
    "    return -1\n",
    "\n",
    "print(nth_root(4096,6))"
   ]
  },
  {
   "cell_type": "code",
   "execution_count": null,
   "metadata": {},
   "outputs": [],
   "source": []
  }
 ],
 "metadata": {
  "kernelspec": {
   "display_name": "Python 3",
   "language": "python",
   "name": "python3"
  },
  "language_info": {
   "codemirror_mode": {
    "name": "ipython",
    "version": 3
   },
   "file_extension": ".py",
   "mimetype": "text/x-python",
   "name": "python",
   "nbconvert_exporter": "python",
   "pygments_lexer": "ipython3",
   "version": "3.8.5"
  }
 },
 "nbformat": 4,
 "nbformat_minor": 4
}
