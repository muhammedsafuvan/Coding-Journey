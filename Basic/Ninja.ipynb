{
 "cells": [
  {
   "cell_type": "markdown",
   "metadata": {},
   "source": [
    "# pattern"
   ]
  },
  {
   "cell_type": "code",
   "execution_count": 4,
   "metadata": {},
   "outputs": [
    {
     "name": "stdout",
     "output_type": "stream",
     "text": [
      "*      \n",
      "* *     \n",
      "* * *    \n",
      "* * * *   \n",
      "* * * * *  \n"
     ]
    }
   ],
   "source": [
    "def pattern(N):\n",
    "    for i in range(1,N+1):\n",
    "        print(i*'* ' + (N+1-i)*' ')\n",
    "pattern(5)"
   ]
  },
  {
   "cell_type": "markdown",
   "metadata": {},
   "source": [
    "# matrix"
   ]
  },
  {
   "cell_type": "code",
   "execution_count": 13,
   "metadata": {},
   "outputs": [
    {
     "name": "stdout",
     "output_type": "stream",
     "text": [
      "20\n"
     ]
    }
   ],
   "source": [
    "def rowSum(A):\n",
    "    r = len(A)\n",
    "    c = len(A[0])\n",
    "    M = 0\n",
    "    for i in range(r):\n",
    "        s = 0\n",
    "        for j in range(c):\n",
    "            s += A[i][j]\n",
    "        if s > M:\n",
    "            M = s\n",
    "    print(M)\n",
    "    \n",
    "A = [[1,2,9],[3,4,0],[-1,3,18]]\n",
    "rowSum(A)\n",
    "            "
   ]
  },
  {
   "cell_type": "markdown",
   "metadata": {},
   "source": [
    "# colSum"
   ]
  },
  {
   "cell_type": "code",
   "execution_count": 16,
   "metadata": {},
   "outputs": [
    {
     "name": "stdout",
     "output_type": "stream",
     "text": [
      "19\n"
     ]
    }
   ],
   "source": [
    "def colSum(A):\n",
    "    r = len(A)\n",
    "    c = len(A[0])\n",
    "    M = 0\n",
    "    for i in range(r):\n",
    "        s = 0\n",
    "        for j in range(c):\n",
    "            s += A[j][i]\n",
    "        if s > M:\n",
    "            M = s\n",
    "    print(M)\n",
    "    \n",
    "A = [[1,12,9],[3,4,0],[-1,3,1]]\n",
    "colSum(A)"
   ]
  },
  {
   "cell_type": "markdown",
   "metadata": {},
   "source": [
    "# Sequence"
   ]
  },
  {
   "cell_type": "code",
   "execution_count": 17,
   "metadata": {},
   "outputs": [
    {
     "name": "stdout",
     "output_type": "stream",
     "text": [
      "0 0 2 1 4 2 6 3 8 4 10 5 12 6 14 7 16 8 "
     ]
    }
   ],
   "source": [
    "def seq(N):\n",
    "    for i in range(N+1):\n",
    "        print(2*i,end = \" \")\n",
    "        print(i,end= \" \")\n",
    "seq(8)"
   ]
  },
  {
   "cell_type": "code",
   "execution_count": 27,
   "metadata": {},
   "outputs": [
    {
     "name": "stdout",
     "output_type": "stream",
     "text": [
      "\n",
      "2 \n",
      "2 4 \n",
      "2 4 8 \n",
      "2 4 8 16 \n"
     ]
    }
   ],
   "source": [
    "def seq2(N):\n",
    "    for i in range(1,N+1):\n",
    "        for j in range(1,N+1):\n",
    "            if j < i:\n",
    "                print(2**j,end = \" \")\n",
    "        print()\n",
    "seq2(5)\n",
    "        \n",
    "        "
   ]
  },
  {
   "cell_type": "code",
   "execution_count": 18,
   "metadata": {},
   "outputs": [
    {
     "name": "stdout",
     "output_type": "stream",
     "text": [
      "\n",
      "* \n",
      "* * \n",
      "* * * \n",
      "* * * * \n"
     ]
    }
   ],
   "source": [
    "def pat(N):\n",
    "    for i in range(N):\n",
    "        for j in range(N):\n",
    "            if j < i:\n",
    "                print(\"*\",end = \" \")\n",
    "        print()\n",
    "        \n",
    "pat(5)\n",
    "            "
   ]
  },
  {
   "cell_type": "code",
   "execution_count": 36,
   "metadata": {},
   "outputs": [
    {
     "name": "stdout",
     "output_type": "stream",
     "text": [
      "32\n"
     ]
    }
   ],
   "source": [
    "def NthTerm(N):\n",
    "    P = N//2\n",
    "    if N%2 != 0:\n",
    "        return 2**P\n",
    "    else:\n",
    "        return 3**P\n",
    "    \n",
    "print(NthTerm(11))\n",
    "        "
   ]
  },
  {
   "cell_type": "code",
   "execution_count": 91,
   "metadata": {},
   "outputs": [
    {
     "name": "stdout",
     "output_type": "stream",
     "text": [
      "1 \n",
      "2 3 \n",
      "4 5 6 \n",
      "7 8 9 10 \n"
     ]
    }
   ],
   "source": [
    "def pat2(N):\n",
    "    num = 1\n",
    "    for i in range(1,N+1):\n",
    "        for j in range(1,i+1):\n",
    "            print(num,end = \" \") \n",
    "            num += 1\n",
    "        print()\n",
    "            \n",
    "pat2(4)"
   ]
  },
  {
   "cell_type": "markdown",
   "metadata": {},
   "source": [
    "# Str "
   ]
  },
  {
   "cell_type": "code",
   "execution_count": 124,
   "metadata": {},
   "outputs": [
    {
     "name": "stdout",
     "output_type": "stream",
     "text": [
      "h%wa#eYOU\n"
     ]
    }
   ],
   "source": [
    "def strOp(A,B,C):\n",
    "    vow = \"aeiou\"\n",
    "    con = \"bcdfghjklmnpqrstvwxyz\"\n",
    "    for i in A:\n",
    "        if i in vow:\n",
    "            A = A.replace(i,\"%\")\n",
    "            \n",
    "    for i in B:\n",
    "        if i in con:\n",
    "            B = B.replace(i,\"#\")\n",
    "    \n",
    "    for i in C:\n",
    "        C = C.upper()\n",
    "    return A+B+C\n",
    "A = \"how\"\n",
    "B = \"are\"\n",
    "C = \"You\"\n",
    "print(strOp(A,B,C))\n",
    "        "
   ]
  },
  {
   "cell_type": "code",
   "execution_count": 117,
   "metadata": {},
   "outputs": [
    {
     "name": "stdout",
     "output_type": "stream",
     "text": [
      "h%ll%\n"
     ]
    }
   ],
   "source": [
    "s = \"hello\"\n",
    "v = \"eo\"\n",
    "for i in s:\n",
    "    if i in v:\n",
    "        s = s.replace(i,\"%\")\n",
    "print(s)\n",
    "    \n"
   ]
  },
  {
   "cell_type": "markdown",
   "metadata": {},
   "source": [
    "# Chocolate"
   ]
  },
  {
   "cell_type": "code",
   "execution_count": 19,
   "metadata": {},
   "outputs": [
    {
     "name": "stdout",
     "output_type": "stream",
     "text": [
      "[6, 1, 8, 2, 0, 0]\n"
     ]
    }
   ],
   "source": [
    "def chocolate(A):\n",
    "    f = []\n",
    "    l = []\n",
    "    for i in range(len(A)):\n",
    "        if  A[i] == 0:\n",
    "            l.append(A[i])\n",
    "            #A.append(i)\n",
    "        else:\n",
    "            f.append(A[i])\n",
    "    return f+l\n",
    "#A = [1,0,2,3,1,0]\n",
    "A = [6,0,1,8,0,2]\n",
    "print(chocolate(A))"
   ]
  },
  {
   "cell_type": "code",
   "execution_count": 20,
   "metadata": {},
   "outputs": [],
   "source": [
    "# Bin Toggle"
   ]
  },
  {
   "cell_type": "code",
   "execution_count": 33,
   "metadata": {},
   "outputs": [
    {
     "name": "stdout",
     "output_type": "stream",
     "text": [
      "7\n"
     ]
    }
   ],
   "source": [
    "def solve(N):\n",
    "    B = 0\n",
    "    i = 0\n",
    "    while N>0:\n",
    "        rem = N%2\n",
    "        B += rem*pow(10,i)\n",
    "        N //= 2\n",
    "        i += 1\n",
    "    T = \"\"\n",
    "    for i in str(B):\n",
    "        if i == '0':\n",
    "            T += '1'\n",
    "        else:\n",
    "            T += '0'\n",
    "    res = 0 \n",
    "    n = len(T)\n",
    "    for i in range(n):\n",
    "        res += int(T[n-i-1])*pow(2,i)\n",
    "        #res += x\n",
    "        \n",
    "        \n",
    "    return res\n",
    "N = 8\n",
    "print(solve(N))\n",
    "        "
   ]
  },
  {
   "cell_type": "code",
   "execution_count": 34,
   "metadata": {},
   "outputs": [],
   "source": [
    "# base 17"
   ]
  },
  {
   "cell_type": "code",
   "execution_count": 47,
   "metadata": {},
   "outputs": [
    {
     "name": "stdout",
     "output_type": "stream",
     "text": [
      "10980\n"
     ]
    }
   ],
   "source": [
    "def base17ToDec(N):\n",
    "    ans = 0\n",
    "    x = str(N)\n",
    "    n = len(str(N))\n",
    "    a = {\n",
    "        'A' : 10,\n",
    "        'B' : 11,\n",
    "        'C' : 12,\n",
    "        'D' : 13,\n",
    "        'E' : 14,\n",
    "        'F' : 15,\n",
    "        'G' : 16\n",
    "    }\n",
    "    for i in range(n):\n",
    "        \n",
    "        if x[n-i-1] in a.keys():\n",
    "            ans += a[x[n-i-1]]*pow(17,i)\n",
    "        else:\n",
    "            ans += int(x[n-i-1])*pow(17,i)\n",
    "    return ans\n",
    "\n",
    "N = '23GF'\n",
    "print(base17ToDec(N))\n",
    "        \n",
    "    "
   ]
  },
  {
   "cell_type": "code",
   "execution_count": null,
   "metadata": {},
   "outputs": [],
   "source": [
    "a = {\n",
    "        'A' : 10,\n",
    "        'B' : 11,\n",
    "        'C' : 12,\n",
    "        'D' : 13,\n",
    "        'E' : 14,\n",
    "        'F' : 15,\n",
    "        'G' : 16\n",
    "    }\n",
    "a[]"
   ]
  },
  {
   "cell_type": "code",
   "execution_count": 50,
   "metadata": {},
   "outputs": [
    {
     "name": "stdout",
     "output_type": "stream",
     "text": [
      "4\n"
     ]
    }
   ],
   "source": [
    "n = '100'\n",
    "print(int(n,2))"
   ]
  },
  {
   "cell_type": "code",
   "execution_count": 51,
   "metadata": {},
   "outputs": [],
   "source": [
    "# abs diff"
   ]
  },
  {
   "cell_type": "code",
   "execution_count": 53,
   "metadata": {},
   "outputs": [
    {
     "name": "stdout",
     "output_type": "stream",
     "text": [
      "1234\n",
      "2\n"
     ]
    }
   ],
   "source": [
    "n = input()\n",
    "os,es = 0,0\n",
    "for i in range(len(n)):\n",
    "    if i %2 == 0:\n",
    "        es += int(n[i])\n",
    "    else:\n",
    "        os += int(n[i])\n",
    "print(abs(os-es))"
   ]
  },
  {
   "cell_type": "code",
   "execution_count": 54,
   "metadata": {},
   "outputs": [],
   "source": [
    "# sholka"
   ]
  },
  {
   "cell_type": "code",
   "execution_count": 61,
   "metadata": {},
   "outputs": [
    {
     "name": "stdout",
     "output_type": "stream",
     "text": [
      "(130, 90)\n"
     ]
    }
   ],
   "source": [
    "def sholka(N):\n",
    "    c = 'R'\n",
    "    dis = 10\n",
    "    x,y = 0,0\n",
    "    for i in range(N):\n",
    "        if c == 'R':\n",
    "            c = 'U'\n",
    "            x += dis\n",
    "            dis += 10\n",
    "        elif c == 'U':\n",
    "            \n",
    "            c = 'L'\n",
    "            y += dis\n",
    "            dis += 10\n",
    "        elif c == 'L':\n",
    "            \n",
    "            c = 'D'\n",
    "            x -= dis\n",
    "            dis += 10\n",
    "        elif c == 'D':\n",
    "            \n",
    "            c = 'A'\n",
    "            x += dis\n",
    "            dis += 10\n",
    "        elif c == 'A':\n",
    "            \n",
    "            c = 'R'\n",
    "            x += dis\n",
    "            dis += 10\n",
    "    return x,y\n",
    "print(sholka(7))"
   ]
  },
  {
   "cell_type": "code",
   "execution_count": 64,
   "metadata": {},
   "outputs": [
    {
     "name": "stdout",
     "output_type": "stream",
     "text": [
      "not\n"
     ]
    }
   ],
   "source": [
    "def leap(y):\n",
    "    if y%4 == 0:\n",
    "        if y%400 !=0 and y%100== 0:\n",
    "            print(\"not\")\n",
    "        else:\n",
    "            print(\"yes\")\n",
    "    else:\n",
    "        print(\"Not\")\n",
    "leap(1900)"
   ]
  },
  {
   "cell_type": "code",
   "execution_count": 65,
   "metadata": {},
   "outputs": [],
   "source": [
    "# prime"
   ]
  },
  {
   "cell_type": "code",
   "execution_count": 75,
   "metadata": {},
   "outputs": [
    {
     "name": "stdout",
     "output_type": "stream",
     "text": [
      "yes\n"
     ]
    }
   ],
   "source": [
    "def prime(n):\n",
    "    if n >1:\n",
    "        for i in range(2,n//2+1):\n",
    "            if n%i == 0:\n",
    "                return \"no\"\n",
    "        return \"yes\"\n",
    "    else:\n",
    "        return \"No\"\n",
    "print(prime(47))      "
   ]
  },
  {
   "cell_type": "code",
   "execution_count": 76,
   "metadata": {},
   "outputs": [],
   "source": [
    "# number series"
   ]
  },
  {
   "cell_type": "code",
   "execution_count": 88,
   "metadata": {},
   "outputs": [
    {
     "name": "stdout",
     "output_type": "stream",
     "text": [
      "17\n"
     ]
    }
   ],
   "source": [
    "def series(K):\n",
    "    if K %2 ==0:\n",
    "        n = K//2\n",
    "        \n",
    "        def fib(n):\n",
    "            if n<2:\n",
    "                return 1\n",
    "            else:\n",
    "                return fib(n-1) + fib(n-2)\n",
    "        return fib(n)\n",
    "    \n",
    "    else:\n",
    "        n = (K+1)//2\n",
    "        def prime(n):\n",
    "            f = 1\n",
    "            c = 0\n",
    "            for i in range(2,100):\n",
    "                for j in range(2,i//2+1):\n",
    "                    if i%j == 0:\n",
    "                        f =0\n",
    "                    else:\n",
    "                        f = 1\n",
    "                if f == 1:\n",
    "                    c += 1\n",
    "                if c == n:\n",
    "                    return i\n",
    "        return prime(n)\n",
    "            \n",
    "N = 17\n",
    "print(series(N))"
   ]
  },
  {
   "cell_type": "code",
   "execution_count": null,
   "metadata": {},
   "outputs": [],
   "source": []
  }
 ],
 "metadata": {
  "kernelspec": {
   "display_name": "Python 3",
   "language": "python",
   "name": "python3"
  },
  "language_info": {
   "codemirror_mode": {
    "name": "ipython",
    "version": 3
   },
   "file_extension": ".py",
   "mimetype": "text/x-python",
   "name": "python",
   "nbconvert_exporter": "python",
   "pygments_lexer": "ipython3",
   "version": "3.8.5"
  }
 },
 "nbformat": 4,
 "nbformat_minor": 4
}
