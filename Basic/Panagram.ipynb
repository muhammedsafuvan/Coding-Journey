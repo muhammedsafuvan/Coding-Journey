{
 "cells": [
  {
   "cell_type": "code",
   "execution_count": 27,
   "metadata": {},
   "outputs": [
    {
     "name": "stdout",
     "output_type": "stream",
     "text": [
      "\n"
     ]
    }
   ],
   "source": [
    "def panagram(s):\n",
    "    l = \"abcdefghijklmnopqrstuvwxyz\"\n",
    "    p = \"\"\n",
    "    x = s.split()\n",
    "    for i in:\n",
    "        p += i\n",
    "        \n",
    "    m = set(l).difference(set(p))\n",
    "    \n",
    "    ans = ''.join(sorted(m))\n",
    "   # sorted(ans)\n",
    "        \n",
    "    return ans\n",
    "\n",
    "print(panagram(\"the quick brown fox jumps over a alzy dog\"))\n",
    "            \n",
    "        "
   ]
  },
  {
   "cell_type": "code",
   "execution_count": null,
   "metadata": {},
   "outputs": [],
   "source": []
  }
 ],
 "metadata": {
  "kernelspec": {
   "display_name": "Python 3",
   "language": "python",
   "name": "python3"
  },
  "language_info": {
   "codemirror_mode": {
    "name": "ipython",
    "version": 3
   },
   "file_extension": ".py",
   "mimetype": "text/x-python",
   "name": "python",
   "nbconvert_exporter": "python",
   "pygments_lexer": "ipython3",
   "version": "3.8.5"
  }
 },
 "nbformat": 4,
 "nbformat_minor": 4
}
