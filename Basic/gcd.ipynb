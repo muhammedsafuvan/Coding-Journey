{
 "cells": [
  {
   "cell_type": "code",
   "execution_count": 7,
   "metadata": {},
   "outputs": [
    {
     "name": "stdout",
     "output_type": "stream",
     "text": [
      "4 16\n",
      "4\n"
     ]
    }
   ],
   "source": [
    "a , b = map(int,input().split())\n",
    "x = max(a,b)\n",
    "gcd = 1\n",
    "for i in range(1,x):\n",
    "    if(a%i == 0 and b%i == 0):\n",
    "        gcd = i\n",
    "print(gcd)\n",
    "#print(a,b)"
   ]
  },
  {
   "cell_type": "code",
   "execution_count": 14,
   "metadata": {},
   "outputs": [
    {
     "name": "stdout",
     "output_type": "stream",
     "text": [
      "4 16\n",
      "4\n"
     ]
    }
   ],
   "source": [
    "x, y = map(int,input().split())\n",
    "z = min(x,y)\n",
    "for i in range(z,0,-1):\n",
    "    #print(i)\n",
    "    if(x%i==0 and y%i==0):\n",
    "        ans = i\n",
    "        break\n",
    "print(ans)\n"
   ]
  },
  {
   "cell_type": "code",
   "execution_count": 16,
   "metadata": {},
   "outputs": [
    {
     "name": "stdout",
     "output_type": "stream",
     "text": [
      "4 12\n",
      "4\n"
     ]
    }
   ],
   "source": [
    "def gcd(a,b):\n",
    "    if(a<b):\n",
    "        (a,b) = (b,a)\n",
    "    if(a%b == 0):\n",
    "        return b\n",
    "    else:\n",
    "        diff = a-b\n",
    "        return (gcd(max(a,diff),min(a,diff)))\n",
    "x,y = map(int,input().split())\n",
    "print(gcd(x,y))"
   ]
  },
  {
   "cell_type": "code",
   "execution_count": 22,
   "metadata": {},
   "outputs": [
    {
     "name": "stdout",
     "output_type": "stream",
     "text": [
      "5 7\n",
      "1\n"
     ]
    }
   ],
   "source": [
    "def gcd(a,b):\n",
    "    if(a<b):\n",
    "        (a,b) = (b,a)\n",
    "    while(a%b !=0):\n",
    "        (a,b) = (b,a%b)\n",
    "    return b\n",
    "x,y = map(int,input().split())\n",
    "print(gcd(x,y))"
   ]
  },
  {
   "cell_type": "code",
   "execution_count": null,
   "metadata": {},
   "outputs": [],
   "source": []
  }
 ],
 "metadata": {
  "kernelspec": {
   "display_name": "Python 3",
   "language": "python",
   "name": "python3"
  },
  "language_info": {
   "codemirror_mode": {
    "name": "ipython",
    "version": 3
   },
   "file_extension": ".py",
   "mimetype": "text/x-python",
   "name": "python",
   "nbconvert_exporter": "python",
   "pygments_lexer": "ipython3",
   "version": "3.8.5"
  }
 },
 "nbformat": 4,
 "nbformat_minor": 4
}
