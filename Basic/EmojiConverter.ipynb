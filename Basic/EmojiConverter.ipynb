{
 "cells": [
  {
   "cell_type": "markdown",
   "metadata": {},
   "source": [
    "### Emoji Coverter"
   ]
  },
  {
   "cell_type": "markdown",
   "metadata": {},
   "source": [
    "### Function"
   ]
  },
  {
   "cell_type": "code",
   "execution_count": 3,
   "metadata": {},
   "outputs": [
    {
     "name": "stdout",
     "output_type": "stream",
     "text": [
      "HELLO Majjaah :) :( :)\n",
      "HELLO Majjaah 😀 😞 😀 \n"
     ]
    }
   ],
   "source": [
    "def emoji_converter(text):\n",
    "    words = text.split()\n",
    "    emoji = {\n",
    "    \":)\" : \"😀\",\n",
    "    \":(\" : \"😞\"\n",
    "    }\n",
    "    output = \"\"\n",
    "    for i in words:\n",
    "        output += emoji.get(i,i) + \" \"\n",
    "    return output\n",
    "txt = input()\n",
    "res = emoji_converter(txt)\n",
    "print(res)"
   ]
  }
 ],
 "metadata": {
  "kernelspec": {
   "display_name": "Python 3",
   "language": "python",
   "name": "python3"
  },
  "language_info": {
   "codemirror_mode": {
    "name": "ipython",
    "version": 3
   },
   "file_extension": ".py",
   "mimetype": "text/x-python",
   "name": "python",
   "nbconvert_exporter": "python",
   "pygments_lexer": "ipython3",
   "version": "3.8.5"
  }
 },
 "nbformat": 4,
 "nbformat_minor": 4
}
