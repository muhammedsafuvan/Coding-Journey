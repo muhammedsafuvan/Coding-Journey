{
 "cells": [
  {
   "cell_type": "code",
   "execution_count": 19,
   "metadata": {},
   "outputs": [
    {
     "name": "stdout",
     "output_type": "stream",
     "text": [
      "7\n"
     ]
    }
   ],
   "source": [
    "def firstElementKTime(a, n, k):\n",
    "        # code here\n",
    "        res = 0\n",
    "        ans = {}\n",
    "        for i in range(n):\n",
    "            if(a[i] in ans):\n",
    "                ans[a[i]] += 1\n",
    "            else:\n",
    "                ans[a[i]] = 1\n",
    "        #return ans\n",
    "        #\"\"\"\n",
    "        for key in ans:\n",
    "            if(ans[key] == k):\n",
    "                res = key\n",
    "            \n",
    "        \n",
    "            \n",
    "        return res\n",
    "           # \"\"\"\n",
    "a = [1,8,7,3,4,8,7]\n",
    "print(firstElementKTime(a, 7, 2))"
   ]
  },
  {
   "cell_type": "code",
   "execution_count": null,
   "metadata": {},
   "outputs": [],
   "source": []
  }
 ],
 "metadata": {
  "kernelspec": {
   "display_name": "Python 3",
   "language": "python",
   "name": "python3"
  },
  "language_info": {
   "codemirror_mode": {
    "name": "ipython",
    "version": 3
   },
   "file_extension": ".py",
   "mimetype": "text/x-python",
   "name": "python",
   "nbconvert_exporter": "python",
   "pygments_lexer": "ipython3",
   "version": "3.8.5"
  }
 },
 "nbformat": 4,
 "nbformat_minor": 4
}
