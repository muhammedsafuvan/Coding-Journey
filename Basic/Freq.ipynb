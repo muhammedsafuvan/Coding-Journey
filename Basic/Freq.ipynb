{
 "cells": [
  {
   "cell_type": "code",
   "execution_count": 16,
   "metadata": {},
   "outputs": [
    {
     "name": "stdout",
     "output_type": "stream",
     "text": [
      "[4, 4, 1]\n"
     ]
    }
   ],
   "source": [
    "def freq(num,k):\n",
    "    ans = {}\n",
    "    l = []\n",
    "    for i in range(len(num)):\n",
    "        x = num.count(num[i])\n",
    "        ans[num[i]] = x\n",
    "    #return ans\n",
    "    y = list(ans.values())\n",
    "    l.append(y)\n",
    "    \n",
    "    #return(l[0])\n",
    "    for j in range(k):\n",
    "        z = ans[l[0][j]]\n",
    "        \n",
    "\n",
    "\n",
    "    \"\"\"\n",
    "    y = []\n",
    "    l = []\n",
    "    for a in ans:\n",
    "        y.append(a)\n",
    "    #return y\n",
    "    for z in range(k):\n",
    "        l.append(y[z])\n",
    "    #return l\n",
    "    \"\"\"\n",
    "        \n",
    "num = [7,7,7,7,2,2,2,2,3]\n",
    "k = 2\n",
    "print(freq(num,k))\n"
   ]
  },
  {
   "cell_type": "code",
   "execution_count": null,
   "metadata": {},
   "outputs": [],
   "source": []
  }
 ],
 "metadata": {
  "kernelspec": {
   "display_name": "Python 3",
   "language": "python",
   "name": "python3"
  },
  "language_info": {
   "codemirror_mode": {
    "name": "ipython",
    "version": 3
   },
   "file_extension": ".py",
   "mimetype": "text/x-python",
   "name": "python",
   "nbconvert_exporter": "python",
   "pygments_lexer": "ipython3",
   "version": "3.8.5"
  }
 },
 "nbformat": 4,
 "nbformat_minor": 4
}
