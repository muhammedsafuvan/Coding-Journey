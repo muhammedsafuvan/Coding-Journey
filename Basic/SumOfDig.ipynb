{
 "cells": [
  {
   "cell_type": "code",
   "execution_count": 12,
   "metadata": {},
   "outputs": [
    {
     "name": "stdout",
     "output_type": "stream",
     "text": [
      "5\n"
     ]
    }
   ],
   "source": [
    "def sum_of_dig(N):\n",
    "    ans = 0\n",
    "    while(N>0):\n",
    "        ans += N%10\n",
    "        N //= 10\n",
    "    if(ans > 9):\n",
    "        return sum_of_dig(ans)\n",
    "    else:\n",
    "        return ans\n",
    "print(sum_of_dig(149999))\n",
    "        "
   ]
  },
  {
   "cell_type": "code",
   "execution_count": null,
   "metadata": {},
   "outputs": [],
   "source": [
    "#Anagram"
   ]
  },
  {
   "cell_type": "code",
   "execution_count": 20,
   "metadata": {},
   "outputs": [
    {
     "name": "stdout",
     "output_type": "stream",
     "text": [
      "Yes\n"
     ]
    }
   ],
   "source": [
    "def is_anagram(S1,S2):\n",
    "    l1 = len(S1)\n",
    "    l2 = len(S2)\n",
    "    if(l1 == l2):\n",
    "        if(set(S1) == set(S2)):\n",
    "            return \"Yes\"\n",
    "        else:\n",
    "            return \"No\"\n",
    "    return -1\n",
    "s1 = \"binary\"\n",
    "s2 = \"brainy\"\n",
    "print(is_anagram(s1,s2))\n",
    "    "
   ]
  },
  {
   "cell_type": "code",
   "execution_count": 57,
   "metadata": {},
   "outputs": [
    {
     "name": "stdout",
     "output_type": "stream",
     "text": [
      "n\n"
     ]
    }
   ],
   "source": [
    "def ang(a,b):\n",
    "    if sorted(a) == sorted(b):\n",
    "        return \"Y\"\n",
    "    else:\n",
    "        return \"n\"\n",
    "a = \"cat\"\n",
    "b = \"act\"\n",
    "print(ang(a,b))"
   ]
  },
  {
   "cell_type": "code",
   "execution_count": 72,
   "metadata": {},
   "outputs": [
    {
     "name": "stdout",
     "output_type": "stream",
     "text": [
      "['0', '1', '2', '3']\n"
     ]
    }
   ],
   "source": [
    "sorted(a)\n",
    "c = \"0321\"\n",
    "x = list(c)\n",
    "x.sort()\n",
    "print(x)"
   ]
  },
  {
   "cell_type": "code",
   "execution_count": null,
   "metadata": {},
   "outputs": [],
   "source": [
    "#Compress"
   ]
  },
  {
   "cell_type": "code",
   "execution_count": 30,
   "metadata": {},
   "outputs": [
    {
     "name": "stdout",
     "output_type": "stream",
     "text": [
      "a4b2d7r1\n"
     ]
    }
   ],
   "source": [
    "def Compress(S):\n",
    "    ans = {}\n",
    "    for i in range(len(S)):\n",
    "        if(S[i] in ans):\n",
    "            ans[S[i]] += 1\n",
    "        else:\n",
    "            ans[S[i]] = 1\n",
    "    res = \"\"\n",
    "    for k in ans:\n",
    "        res += k\n",
    "        res += str(ans[k])\n",
    "    return res\n",
    "            \n",
    "s = \"aaaabbdddddddr\"\n",
    "print(Compress(s))\n"
   ]
  },
  {
   "cell_type": "code",
   "execution_count": 19,
   "metadata": {},
   "outputs": [
    {
     "name": "stdout",
     "output_type": "stream",
     "text": [
      "1\n"
     ]
    }
   ],
   "source": [
    "def solve(n):\n",
    "    a = 0\n",
    "    if n == 0:\n",
    "        return 0\n",
    "    else:\n",
    "        x = (n%10 + solve(n//10))\n",
    "        if len(str(x)) == 1:\n",
    "            return x\n",
    "        else:\n",
    "            return solve(x)\n",
    "    \n",
    "    \n",
    "    \n",
    "print(solve(19))"
   ]
  },
  {
   "cell_type": "code",
   "execution_count": 25,
   "metadata": {},
   "outputs": [
    {
     "data": {
      "text/plain": [
       "32.0"
      ]
     },
     "execution_count": 25,
     "metadata": {},
     "output_type": "execute_result"
    }
   ],
   "source": [
    "2**5.0"
   ]
  },
  {
   "cell_type": "code",
   "execution_count": 28,
   "metadata": {},
   "outputs": [
    {
     "name": "stdout",
     "output_type": "stream",
     "text": [
      "11\n"
     ]
    }
   ],
   "source": [
    "def d2b(n):\n",
    "    ans,i = 0,0\n",
    "    while n:\n",
    "        r = n%2\n",
    "        ans += pow(10,i)*r\n",
    "        n //=2\n",
    "        i += 1\n",
    "    return ans\n",
    "print(d2b(3))\n",
    "        "
   ]
  },
  {
   "cell_type": "code",
   "execution_count": 55,
   "metadata": {},
   "outputs": [
    {
     "name": "stdout",
     "output_type": "stream",
     "text": [
      "7\n"
     ]
    }
   ],
   "source": [
    "def b2d(N):\n",
    "    n = str(N)\n",
    "    n=n[::-1]\n",
    "    ans,l = 0,len(n)\n",
    "    for i in range(l):\n",
    "        ans += int(n[i])*pow(2,i)\n",
    "    return ans\n",
    "print(b2d(111))\n",
    "        "
   ]
  },
  {
   "cell_type": "code",
   "execution_count": null,
   "metadata": {},
   "outputs": [],
   "source": []
  }
 ],
 "metadata": {
  "kernelspec": {
   "display_name": "Python 3",
   "language": "python",
   "name": "python3"
  },
  "language_info": {
   "codemirror_mode": {
    "name": "ipython",
    "version": 3
   },
   "file_extension": ".py",
   "mimetype": "text/x-python",
   "name": "python",
   "nbconvert_exporter": "python",
   "pygments_lexer": "ipython3",
   "version": "3.8.5"
  }
 },
 "nbformat": 4,
 "nbformat_minor": 4
}
