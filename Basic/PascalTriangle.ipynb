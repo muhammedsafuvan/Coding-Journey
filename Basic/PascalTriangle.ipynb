{
 "cells": [
  {
   "cell_type": "markdown",
   "metadata": {},
   "source": [
    "# Lth Row of Pascal Triangle"
   ]
  },
  {
   "cell_type": "code",
   "execution_count": 6,
   "metadata": {},
   "outputs": [
    {
     "name": "stdout",
     "output_type": "stream",
     "text": [
      "[1, 5, 10, 10, 5, 1]\n"
     ]
    }
   ],
   "source": [
    "import math\n",
    "def pascal_row(L):\n",
    "    row = []\n",
    "    for i in range(L+1):\n",
    "        x = math.factorial(L)//(math.factorial(L-i)*math.factorial(i))\n",
    "        row.append(x)\n",
    "    return row\n",
    "L = 5\n",
    "print(pascal_row(L))"
   ]
  },
  {
   "cell_type": "markdown",
   "metadata": {},
   "source": [
    "# Pascal Triangle"
   ]
  },
  {
   "cell_type": "code",
   "execution_count": 18,
   "metadata": {},
   "outputs": [
    {
     "name": "stdout",
     "output_type": "stream",
     "text": [
      "[[1], [1, 5], [1, 5, 10], [1, 5, 10, 10], [1, 5, 10, 10, 5]]\n"
     ]
    }
   ],
   "source": [
    "def pascal_triangle(L):\n",
    "    ans = []\n",
    "    for r in range(L):\n",
    "        row = []\n",
    "        for i in range(r+1):\n",
    "            x = math.factorial(L)//(math.factorial(L-i)*math.factorial(i))\n",
    "            row.append(x)\n",
    "        ans.append(row)\n",
    "    return ans\n",
    "L = 5\n",
    "print(pascal_triangle(L))\n",
    "        "
   ]
  },
  {
   "cell_type": "code",
   "execution_count": null,
   "metadata": {},
   "outputs": [],
   "source": []
  }
 ],
 "metadata": {
  "kernelspec": {
   "display_name": "Python 3",
   "language": "python",
   "name": "python3"
  },
  "language_info": {
   "codemirror_mode": {
    "name": "ipython",
    "version": 3
   },
   "file_extension": ".py",
   "mimetype": "text/x-python",
   "name": "python",
   "nbconvert_exporter": "python",
   "pygments_lexer": "ipython3",
   "version": "3.8.5"
  }
 },
 "nbformat": 4,
 "nbformat_minor": 4
}
