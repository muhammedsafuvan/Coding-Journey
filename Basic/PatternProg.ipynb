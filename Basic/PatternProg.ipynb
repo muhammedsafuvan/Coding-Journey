{
 "cells": [
  {
   "cell_type": "markdown",
   "metadata": {},
   "source": [
    "# Solid Rectangle"
   ]
  },
  {
   "cell_type": "code",
   "execution_count": 14,
   "metadata": {},
   "outputs": [
    {
     "name": "stdout",
     "output_type": "stream",
     "text": [
      "* * * * * * \n",
      "\n",
      "* * * * * * \n",
      "\n",
      "* * * * * * \n",
      "\n",
      "None\n"
     ]
    }
   ],
   "source": [
    "def solidRec(l,b):\n",
    "    for i in range(l):\n",
    "        for j in range(b):\n",
    "            print(\"*\",end = \" \")\n",
    "        print(\"\\n\")\n",
    "print(solidRec(3,6))"
   ]
  },
  {
   "cell_type": "markdown",
   "metadata": {},
   "source": [
    "# Hollow Rec"
   ]
  },
  {
   "cell_type": "code",
   "execution_count": 52,
   "metadata": {},
   "outputs": [
    {
     "name": "stdout",
     "output_type": "stream",
     "text": [
      "* * * * * * \n",
      "*         * \n",
      "* * * * * * \n",
      "None\n"
     ]
    }
   ],
   "source": [
    "def hollowRec(l,b):\n",
    "    for i in range(l):\n",
    "        for j in range(b):\n",
    "            if(i == 0 or i == l-1 or j == 0 or j == b-1 ):\n",
    "                print(\"*\",end = \" \")\n",
    "            else:\n",
    "                print(\" \",end = \" \")\n",
    "            \n",
    "        print()\n",
    "print(hollowRec(3,6))"
   ]
  },
  {
   "cell_type": "markdown",
   "metadata": {},
   "source": [
    "# Half Pyramid"
   ]
  },
  {
   "cell_type": "code",
   "execution_count": 44,
   "metadata": {},
   "outputs": [
    {
     "name": "stdout",
     "output_type": "stream",
     "text": [
      "\n",
      "\n",
      "* \n",
      "\n",
      "* * \n",
      "\n",
      "* * * \n",
      "\n",
      "* * * * \n",
      "\n",
      "* * * * * \n",
      "\n",
      "None\n"
     ]
    }
   ],
   "source": [
    "def halfPyr(n):\n",
    "    for i in range(n):\n",
    "        for j in range(i):\n",
    "            print(\"*\",end = \" \")\n",
    "        print(\"\\n\")\n",
    "print(halfPyr(6))"
   ]
  },
  {
   "cell_type": "markdown",
   "metadata": {},
   "source": [
    "# Inverted Half Pyramid"
   ]
  },
  {
   "cell_type": "code",
   "execution_count": 45,
   "metadata": {},
   "outputs": [
    {
     "name": "stdout",
     "output_type": "stream",
     "text": [
      "* * * * * \n",
      "* * * * \n",
      "* * * \n",
      "* * \n",
      "* \n",
      "\n",
      "None\n"
     ]
    }
   ],
   "source": [
    "def invHalf(n):\n",
    "    for i in range(n,-1,-1):\n",
    "        for j in range(i):\n",
    "            print(\"*\",end = \" \")\n",
    "        print()\n",
    "print(invHalf(5))"
   ]
  },
  {
   "cell_type": "markdown",
   "metadata": {},
   "source": [
    "# Hollow Inverted Half Pyramid"
   ]
  },
  {
   "cell_type": "code",
   "execution_count": 70,
   "metadata": {},
   "outputs": [
    {
     "name": "stdout",
     "output_type": "stream",
     "text": [
      "* * * * * * * \n",
      "*  \n",
      " \n",
      " \n",
      "*  \n",
      "\n",
      "*  \n",
      " \n",
      "*  \n",
      "\n",
      "*  \n",
      "*  \n",
      "\n",
      "* *  \n",
      "\n",
      "* * \n",
      "None\n"
     ]
    }
   ],
   "source": [
    "def hollowInvHalf(n):\n",
    "    for i in range(n,0,-1):\n",
    "        for j in range(i+1):\n",
    "            if(i == n or i ==1 or j == 0 or j == i-1):  \n",
    "                print(\"*\",end =\" \")\n",
    "            else:\n",
    "                print(\" \")\n",
    "        print()\n",
    "print(hollowInvHalf(6))"
   ]
  },
  {
   "cell_type": "markdown",
   "metadata": {},
   "source": [
    "# Hollow Diamond inside rectangle"
   ]
  },
  {
   "cell_type": "code",
   "execution_count": 32,
   "metadata": {},
   "outputs": [
    {
     "name": "stdout",
     "output_type": "stream",
     "text": [
      "***** *****\n",
      "****   ****\n",
      "***     ***\n",
      "**       **\n",
      "*         *\n",
      "*         *\n",
      "**       **\n",
      "***     ***\n",
      "****   ****\n",
      "***** *****\n",
      "None\n"
     ]
    }
   ],
   "source": [
    "def diamondRec(n):\n",
    "    for i in range(n):\n",
    "        print((n-i)*'*' + (2*i+1)*' ' + (n-i)*'*')\n",
    "    for j in range(n):\n",
    "        print((j+1)*'*' + (2*(n-j)-1)*' '+ (j+1)*'*')\n",
    "\n",
    "        \n",
    "print(diamondRec(5))"
   ]
  },
  {
   "cell_type": "markdown",
   "metadata": {},
   "source": [
    "# Butterfly Pattern"
   ]
  },
  {
   "cell_type": "code",
   "execution_count": 31,
   "metadata": {},
   "outputs": [
    {
     "name": "stdout",
     "output_type": "stream",
     "text": [
      "*        *\n",
      "**      **\n",
      "***    ***\n",
      "****  ****\n",
      "**********\n",
      "**********\n",
      "****  ****\n",
      "***    ***\n",
      "**      **\n",
      "*        *\n",
      "None\n"
     ]
    }
   ],
   "source": [
    "def butterFly(n):\n",
    "    for i in range(1,n+1):\n",
    "        print(i*'*' + 2*(n-i)*' ' + i*'*')\n",
    "    for i in range(n,0,-1):\n",
    "        print(i*'*' + (n-i)*2*' ' + i*'*')\n",
    "print(butterFly(5))"
   ]
  },
  {
   "cell_type": "markdown",
   "metadata": {},
   "source": [
    "# Diamond"
   ]
  },
  {
   "cell_type": "code",
   "execution_count": 35,
   "metadata": {},
   "outputs": [
    {
     "name": "stdout",
     "output_type": "stream",
     "text": [
      "    *    \n",
      "   ***   \n",
      "  *****  \n",
      " ******* \n",
      "*********\n",
      "*********\n",
      " ******* \n",
      "  *****  \n",
      "   ***   \n",
      "    *    \n",
      "None\n"
     ]
    }
   ],
   "source": [
    "def diamond(n):\n",
    "    for i in range(1,n+1):\n",
    "        print((n-i)*' ' + (2*i-1)*'*' +(n-i)*' ')\n",
    "    for i in range(1,n+1):\n",
    "        print((i-1)*' ' + (2*(n-i)+1)*'*' +(i-1)*' ')\n",
    "print(diamond(5))"
   ]
  },
  {
   "cell_type": "markdown",
   "metadata": {},
   "source": [
    "# Arrows"
   ]
  },
  {
   "cell_type": "code",
   "execution_count": null,
   "metadata": {},
   "outputs": [],
   "source": [
    "def arrow(n):\n",
    "    "
   ]
  }
 ],
 "metadata": {
  "kernelspec": {
   "display_name": "Python 3",
   "language": "python",
   "name": "python3"
  },
  "language_info": {
   "codemirror_mode": {
    "name": "ipython",
    "version": 3
   },
   "file_extension": ".py",
   "mimetype": "text/x-python",
   "name": "python",
   "nbconvert_exporter": "python",
   "pygments_lexer": "ipython3",
   "version": "3.8.5"
  }
 },
 "nbformat": 4,
 "nbformat_minor": 4
}
