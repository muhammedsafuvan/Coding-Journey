{
 "cells": [
  {
   "cell_type": "code",
   "execution_count": 19,
   "metadata": {},
   "outputs": [
    {
     "name": "stdout",
     "output_type": "stream",
     "text": [
      "2 \n",
      "4 8 \n",
      "16 32 64 \n",
      "128 256 512 1024 \n",
      "2048 4096 8192 16384 32768 \n"
     ]
    }
   ],
   "source": [
    "def power2(n):\n",
    "    num = 1\n",
    "    for i in range(1,n+1):\n",
    "        for j in range(1,i+1):\n",
    "            print(2**num,end =\" \")\n",
    "            num += 1\n",
    "        print()\n",
    "        \n",
    "power2(5)\n",
    "            \n",
    "                \n",
    "    "
   ]
  },
  {
   "cell_type": "code",
   "execution_count": 14,
   "metadata": {},
   "outputs": [
    {
     "name": "stdout",
     "output_type": "stream",
     "text": [
      "\n",
      "1 \n",
      "2 3 \n",
      "4 5 6 \n",
      "7 8 9 10 \n"
     ]
    }
   ],
   "source": [
    "def pat(n):\n",
    "    l = n*(n+1)//2\n",
    "    num = 1\n",
    "    for i in range(n):\n",
    "        for j in range(1,i+1):\n",
    "            print(num,end = \" \")\n",
    "            num += 1\n",
    "        print()\n",
    "        \n",
    "pat(5)"
   ]
  },
  {
   "cell_type": "code",
   "execution_count": 43,
   "metadata": {},
   "outputs": [
    {
     "name": "stdout",
     "output_type": "stream",
     "text": [
      "#sd#f\n"
     ]
    }
   ],
   "source": [
    "\n",
    "    \n",
    "def hashed(s):\n",
    "    \n",
    "    def isVowel(char):\n",
    "        return char.lower() in \"aeiou\"\n",
    "\n",
    "    \n",
    "    ans = \"\"\n",
    "    for i in range(len(s)):\n",
    "        if isVowel(s[i]):\n",
    "            ans += '#'\n",
    "        else:\n",
    "            ans += s[i]\n",
    "    print(ans)\n",
    "    \n",
    "hashed(\"asdef\")"
   ]
  },
  {
   "cell_type": "code",
   "execution_count": 41,
   "metadata": {},
   "outputs": [
    {
     "name": "stdout",
     "output_type": "stream",
     "text": [
      "False\n"
     ]
    }
   ],
   "source": [
    "def isVowel(char):\n",
    "        return char.lower() in \"aeiou\"\n",
    "print(isVowel('D'))"
   ]
  },
  {
   "cell_type": "code",
   "execution_count": 46,
   "metadata": {},
   "outputs": [
    {
     "name": "stdout",
     "output_type": "stream",
     "text": [
      "6\n"
     ]
    }
   ],
   "source": [
    "def max_sum_row(mat):\n",
    "    t = 0\n",
    "    for i in range(len(mat)):\n",
    "        val = 0\n",
    "        for j in range(len(mat[0])):\n",
    "            val += mat[i][j]\n",
    "        if(val > t):\n",
    "            t = val\n",
    "    print(t)\n",
    "    \n",
    "max_sum_row([[1,2,0],[3,4,-1],[0,-1,4]])\n",
    "            "
   ]
  },
  {
   "cell_type": "code",
   "execution_count": 66,
   "metadata": {},
   "outputs": [
    {
     "name": "stdout",
     "output_type": "stream",
     "text": [
      "no\n"
     ]
    }
   ],
   "source": [
    "def m1(s):\n",
    "    n = len(s)\n",
    "    c = 0\n",
    "    for i in range(n//2):\n",
    "        if s[i] != s[n-i-1]:\n",
    "            c += 1\n",
    "    if c == 0:\n",
    "        return \"Pal\"\n",
    "    elif(c ==1):\n",
    "        return \"yes\"\n",
    "    else:\n",
    "        return \"no\"\n",
    "            \n",
    "        \n",
    "    \n",
    "            \n",
    "    \n",
    "    \n",
    "print(m1(\"abcfgdba\"))\n",
    "    "
   ]
  },
  {
   "cell_type": "code",
   "execution_count": 72,
   "metadata": {},
   "outputs": [
    {
     "name": "stdout",
     "output_type": "stream",
     "text": [
      "2\n"
     ]
    }
   ],
   "source": [
    "def dic_word(s):\n",
    "    x = s.split(' ')\n",
    "    return len(set(x))\n",
    "s = \"i i i we we we\"\n",
    "print(dic_word(s))"
   ]
  },
  {
   "cell_type": "code",
   "execution_count": null,
   "metadata": {},
   "outputs": [],
   "source": [
    "def spiral(mat):\n",
    "    ans = []\n",
    "    r = len(mat)\n",
    "    c = len(mat[0])\n",
    "    for i in range(rs,re):\n",
    "        \n",
    "        for j in range(c):\n",
    "            if "
   ]
  },
  {
   "cell_type": "code",
   "execution_count": 4,
   "metadata": {},
   "outputs": [
    {
     "name": "stdout",
     "output_type": "stream",
     "text": [
      "as(bas)df\n"
     ]
    }
   ],
   "source": [
    "def reverseInParentheses(s):\n",
    "    return eval('\"' + s.replace('(', '\"+(\"').replace(')', '\")[::-1]+\"') + '\"')\n",
    "print(\"as(bas)df\")"
   ]
  },
  {
   "cell_type": "code",
   "execution_count": 5,
   "metadata": {},
   "outputs": [
    {
     "name": "stdout",
     "output_type": "stream",
     "text": [
      "asad\n"
     ]
    }
   ],
   "source": [
    "def revPar(s):\n",
    "    stack = []\n",
    "    for i in range(len(s)):\n",
    "        if s[i] == ')':\n",
    "            tmp = \"\"\n",
    "            while stack[-1] != '(':\n",
    "                tmp += stack.pop()\n",
    "            stack.pop()\n",
    "            for i in tmp:\n",
    "                stack.append(i)\n",
    "                \n",
    "                \n",
    "        else:\n",
    "            stack.append(s[i])\n",
    "    return \"\".join(stack)\n",
    "print(revPar(\"a(as)d\"))"
   ]
  },
  {
   "cell_type": "code",
   "execution_count": 6,
   "metadata": {},
   "outputs": [
    {
     "data": {
      "text/plain": [
       "4"
      ]
     },
     "execution_count": 6,
     "metadata": {},
     "output_type": "execute_result"
    }
   ],
   "source": [
    "s = [1,2,3,4]\n",
    "s.pop()"
   ]
  },
  {
   "cell_type": "code",
   "execution_count": null,
   "metadata": {},
   "outputs": [],
   "source": []
  }
 ],
 "metadata": {
  "kernelspec": {
   "display_name": "Python 3",
   "language": "python",
   "name": "python3"
  },
  "language_info": {
   "codemirror_mode": {
    "name": "ipython",
    "version": 3
   },
   "file_extension": ".py",
   "mimetype": "text/x-python",
   "name": "python",
   "nbconvert_exporter": "python",
   "pygments_lexer": "ipython3",
   "version": "3.8.5"
  }
 },
 "nbformat": 4,
 "nbformat_minor": 4
}
