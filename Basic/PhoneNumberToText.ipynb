{
 "cells": [
  {
   "cell_type": "code",
   "execution_count": 10,
   "metadata": {},
   "outputs": [
    {
     "name": "stdout",
     "output_type": "stream",
     "text": [
      "Phone:12213\n",
      "one two two one three "
     ]
    }
   ],
   "source": [
    "phone = input(\"Phone:\")\n",
    "for i in phone:\n",
    "    if i == '1':\n",
    "        print('one',end=\" \")\n",
    "    elif i == '2':\n",
    "        print('two',end=\" \")\n",
    "    elif i == '3':\n",
    "        print('three',end=\" \")"
   ]
  },
  {
   "cell_type": "markdown",
   "metadata": {},
   "source": [
    "### Using Dict\n",
    "\n",
    "\n"
   ]
  },
  {
   "cell_type": "code",
   "execution_count": 5,
   "metadata": {},
   "outputs": [
    {
     "name": "stdout",
     "output_type": "stream",
     "text": [
      "Phone: 1234\n",
      "one two three four \n"
     ]
    }
   ],
   "source": [
    "phone = input(\"Phone: \")\n",
    "number_to_text = {\n",
    "    \"1\" : \"one\",\n",
    "    \"2\" : \"two\",\n",
    "    \"3\" : \"three\",\n",
    "    \"4\" : \"four\"\n",
    "}\n",
    "output = \"\"\n",
    "for i in phone:\n",
    "    output += number_to_text.get(i) + \" \"\n",
    "print(output)"
   ]
  },
  {
   "cell_type": "code",
   "execution_count": null,
   "metadata": {},
   "outputs": [],
   "source": []
  }
 ],
 "metadata": {
  "kernelspec": {
   "display_name": "Python 3",
   "language": "python",
   "name": "python3"
  },
  "language_info": {
   "codemirror_mode": {
    "name": "ipython",
    "version": 3
   },
   "file_extension": ".py",
   "mimetype": "text/x-python",
   "name": "python",
   "nbconvert_exporter": "python",
   "pygments_lexer": "ipython3",
   "version": "3.8.5"
  }
 },
 "nbformat": 4,
 "nbformat_minor": 4
}
