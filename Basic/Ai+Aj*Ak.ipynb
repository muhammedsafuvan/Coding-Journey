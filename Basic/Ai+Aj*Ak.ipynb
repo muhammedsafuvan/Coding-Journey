{
 "cells": [
  {
   "cell_type": "code",
   "execution_count": 7,
   "metadata": {},
   "outputs": [
    {
     "name": "stdout",
     "output_type": "stream",
     "text": [
      "11\n"
     ]
    }
   ],
   "source": [
    "def max_arr(A):\n",
    "    N = len(A)\n",
    "    ans = []\n",
    "    for i in range(N-2):\n",
    "        for j in range(i,N-1):\n",
    "            if(i < j and A[i]<A[j]):\n",
    "                for k in range(j,N):\n",
    "                    if(j < k and A[j] < A[k]):\n",
    "                        x = A[i] + A[j]*A[k]\n",
    "                        ans.append(x)\n",
    "    return ans\n",
    "arr = [1,7,2,5,3]\n",
    "print(max(max_arr(arr)))"
   ]
  },
  {
   "cell_type": "code",
   "execution_count": null,
   "metadata": {},
   "outputs": [],
   "source": []
  }
 ],
 "metadata": {
  "kernelspec": {
   "display_name": "Python 3",
   "language": "python",
   "name": "python3"
  },
  "language_info": {
   "codemirror_mode": {
    "name": "ipython",
    "version": 3
   },
   "file_extension": ".py",
   "mimetype": "text/x-python",
   "name": "python",
   "nbconvert_exporter": "python",
   "pygments_lexer": "ipython3",
   "version": "3.8.5"
  }
 },
 "nbformat": 4,
 "nbformat_minor": 4
}
