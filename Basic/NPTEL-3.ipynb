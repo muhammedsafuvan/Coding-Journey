{
 "cells": [
  {
   "cell_type": "markdown",
   "metadata": {},
   "source": [
    "# Transpose"
   ]
  },
  {
   "cell_type": "code",
   "execution_count": 22,
   "metadata": {},
   "outputs": [
    {
     "name": "stdout",
     "output_type": "stream",
     "text": [
      "[[1, 5], [2, 6], [3, 7], [4, 8]]\n"
     ]
    }
   ],
   "source": [
    "def transpose(m):\n",
    "   \n",
    "    row = len(m)\n",
    "    col = len(m[0])\n",
    "    ans = []\n",
    "    for i in range(col):\n",
    "        x = []\n",
    "        for j in range(row):\n",
    "            x.append(m[j][i])\n",
    "        ans.append(x)\n",
    "            \n",
    "    return ans\n",
    "#m = [[1,2,3],[4,5,6],[7,8,9]]\n",
    "#m = [[1]]\n",
    "m = [[1,2,3,4],[5,6,7,8]]\n",
    "print(transpose(m))"
   ]
  },
  {
   "cell_type": "markdown",
   "metadata": {},
   "source": [
    "# Sum Square"
   ]
  },
  {
   "cell_type": "code",
   "execution_count": 44,
   "metadata": {},
   "outputs": [
    {
     "name": "stdout",
     "output_type": "stream",
     "text": [
      "[10, 20]\n"
     ]
    }
   ],
   "source": [
    "def sumsquare(l):\n",
    "    odd = 0\n",
    "    even = 0\n",
    "    for i in range(len(l)):\n",
    "        if(l[i]%2 == 0):\n",
    "            even += l[i]**2\n",
    "        else:\n",
    "            odd += l[i]**2\n",
    "    \n",
    "    return [odd,even]\n",
    "\n",
    "l = [-1,-2,3,4]\n",
    "print(sumsquare(l))"
   ]
  },
  {
   "cell_type": "code",
   "execution_count": 43,
   "metadata": {},
   "outputs": [
    {
     "name": "stdout",
     "output_type": "stream",
     "text": [
      "[2, 3]\n"
     ]
    }
   ],
   "source": [
    "def f(a,b):\n",
    "    return [a,b]\n",
    "print(f(2,3))"
   ]
  },
  {
   "cell_type": "markdown",
   "metadata": {},
   "source": [
    "# Expanding"
   ]
  },
  {
   "cell_type": "code",
   "execution_count": 52,
   "metadata": {},
   "outputs": [
    {
     "name": "stdout",
     "output_type": "stream",
     "text": [
      "False\n"
     ]
    }
   ],
   "source": [
    "def expanding(l):\n",
    "    for i in range(len(l)-2):\n",
    "        x = l[i] - l[i+1]\n",
    "        y = l[i+1] - l[i+2]\n",
    "        if(abs(x) >= abs(y)):\n",
    "            return False\n",
    "    return True\n",
    "    \n",
    "l = [1,3,7,10]\n",
    "#l = [1,3,7,2,-3]\n",
    "print(expanding(l))"
   ]
  },
  {
   "cell_type": "code",
   "execution_count": null,
   "metadata": {},
   "outputs": [],
   "source": []
  }
 ],
 "metadata": {
  "kernelspec": {
   "display_name": "Python 3",
   "language": "python",
   "name": "python3"
  },
  "language_info": {
   "codemirror_mode": {
    "name": "ipython",
    "version": 3
   },
   "file_extension": ".py",
   "mimetype": "text/x-python",
   "name": "python",
   "nbconvert_exporter": "python",
   "pygments_lexer": "ipython3",
   "version": "3.8.5"
  }
 },
 "nbformat": 4,
 "nbformat_minor": 4
}
