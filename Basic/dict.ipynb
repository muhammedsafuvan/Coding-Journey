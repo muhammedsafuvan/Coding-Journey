{
 "cells": [
  {
   "cell_type": "code",
   "execution_count": 6,
   "metadata": {},
   "outputs": [
    {
     "name": "stdout",
     "output_type": "stream",
     "text": [
      "sasi bro\n"
     ]
    }
   ],
   "source": [
    "def get_full_name(self):\n",
    "    return f'{self[\"first_name\"]} {self[\"last_name\"]}'\n",
    "    \n",
    "def create_employee(first_name,last_name,get_full_name_fun):\n",
    "    d = {\"first_name\":first_name, \"last_name\":last_name,\"get_full_name\":get_full_name_fun}\n",
    "    return d\n",
    "e = create_employee(\"sasi\",\"bro\",get_full_name)\n",
    "print(e[\"get_full_name\"](e))"
   ]
  },
  {
   "cell_type": "code",
   "execution_count": null,
   "metadata": {},
   "outputs": [],
   "source": []
  }
 ],
 "metadata": {
  "kernelspec": {
   "display_name": "Python 3",
   "language": "python",
   "name": "python3"
  },
  "language_info": {
   "codemirror_mode": {
    "name": "ipython",
    "version": 3
   },
   "file_extension": ".py",
   "mimetype": "text/x-python",
   "name": "python",
   "nbconvert_exporter": "python",
   "pygments_lexer": "ipython3",
   "version": "3.8.5"
  }
 },
 "nbformat": 4,
 "nbformat_minor": 4
}
