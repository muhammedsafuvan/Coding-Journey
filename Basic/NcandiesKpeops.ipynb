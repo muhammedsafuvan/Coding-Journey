{
 "cells": [
  {
   "cell_type": "code",
   "execution_count": 5,
   "metadata": {},
   "outputs": [
    {
     "name": "stdout",
     "output_type": "stream",
     "text": [
      "[6, 3, 3, 4]\n"
     ]
    }
   ],
   "source": [
    "def candies(N,K):\n",
    "    index,count = 0,1\n",
    "    ans = [0]*K\n",
    "    while(N>0):\n",
    "        ans[index] += count\n",
    "        N -= count\n",
    "        index, count = index + 1, count + 1\n",
    "        \n",
    "        if(index%K == 0):\n",
    "            index = 0\n",
    "        if(count > N):\n",
    "            count = N\n",
    "    return ans\n",
    "        \n",
    "print(candies(16,4))"
   ]
  },
  {
   "cell_type": "code",
   "execution_count": null,
   "metadata": {},
   "outputs": [],
   "source": []
  }
 ],
 "metadata": {
  "kernelspec": {
   "display_name": "Python 3",
   "language": "python",
   "name": "python3"
  },
  "language_info": {
   "codemirror_mode": {
    "name": "ipython",
    "version": 3
   },
   "file_extension": ".py",
   "mimetype": "text/x-python",
   "name": "python",
   "nbconvert_exporter": "python",
   "pygments_lexer": "ipython3",
   "version": "3.8.5"
  }
 },
 "nbformat": 4,
 "nbformat_minor": 4
}
