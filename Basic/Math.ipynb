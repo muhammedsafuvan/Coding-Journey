{
 "cells": [
  {
   "cell_type": "code",
   "execution_count": 10,
   "metadata": {
    "scrolled": true
   },
   "outputs": [
    {
     "name": "stdout",
     "output_type": "stream",
     "text": [
      "\u0001\n"
     ]
    }
   ],
   "source": [
    "def toNumm(N):   \n",
    "    \n",
    "print(toNumm(N))"
   ]
  },
  {
   "cell_type": "code",
   "execution_count": 11,
   "metadata": {},
   "outputs": [
    {
     "name": "stdout",
     "output_type": "stream",
     "text": [
      "Character of ASCII value 17 is  \u0011\n",
      "Character of ASCII value 38 is  &\n",
      "Character of ASCII value 79 is  O\n"
     ]
    }
   ],
   "source": [
    "numbers = [17, 38, 79]\n",
    "  \n",
    "for number in numbers:\n",
    "      \n",
    "    # Convert ASCII-based number to character.\n",
    "    letter = chr(number)\n",
    "    print(\"Character of ASCII value\", number, \"is \", letter)"
   ]
  },
  {
   "cell_type": "code",
   "execution_count": 23,
   "metadata": {},
   "outputs": [
    {
     "name": "stdout",
     "output_type": "stream",
     "text": [
      "AA\n"
     ]
    }
   ],
   "source": [
    "def solve(N):\n",
    "    X = N//27\n",
    "    ans = \"\"\n",
    "    if X < 1:\n",
    "        ans += chr(N+64)\n",
    "        \n",
    "    else:\n",
    "        N = N - X*26\n",
    "        ans += chr(X+64) + chr(N+64)\n",
    "    return ans\n",
    "        \n",
    "        \n",
    "        \n",
    "N = 27\n",
    "print(solve(N))"
   ]
  },
  {
   "cell_type": "code",
   "execution_count": 55,
   "metadata": {},
   "outputs": [
    {
     "name": "stdout",
     "output_type": "stream",
     "text": [
      "17603\n"
     ]
    }
   ],
   "source": [
    "def toNum(A):\n",
    "    ans = 0\n",
    "    N = len(A)\n",
    "    B = A[::-1]\n",
    "    if N == 1:\n",
    "        ans += ord(A) - 64\n",
    "    else:\n",
    "        for i in range(N-1):\n",
    "            y = (ord(A[i])-64)* 26**(i+1)\n",
    "            ans += y\n",
    "        ans += ord(A[-1])-64\n",
    "\n",
    "    return ans\n",
    "            \n",
    "        \n",
    "\n",
    "A = \"AZA\"\n",
    "print(toNum(A))"
   ]
  },
  {
   "cell_type": "code",
   "execution_count": 38,
   "metadata": {},
   "outputs": [
    {
     "data": {
      "text/plain": [
       "66"
      ]
     },
     "execution_count": 38,
     "metadata": {},
     "output_type": "execute_result"
    }
   ],
   "source": [
    "A = \"AB\"\n",
    "ord(A[-1])"
   ]
  },
  {
   "cell_type": "code",
   "execution_count": null,
   "metadata": {},
   "outputs": [],
   "source": []
  }
 ],
 "metadata": {
  "kernelspec": {
   "display_name": "Python 3",
   "language": "python",
   "name": "python3"
  },
  "language_info": {
   "codemirror_mode": {
    "name": "ipython",
    "version": 3
   },
   "file_extension": ".py",
   "mimetype": "text/x-python",
   "name": "python",
   "nbconvert_exporter": "python",
   "pygments_lexer": "ipython3",
   "version": "3.8.5"
  }
 },
 "nbformat": 4,
 "nbformat_minor": 4
}
