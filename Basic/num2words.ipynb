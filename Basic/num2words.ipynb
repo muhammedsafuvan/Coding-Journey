{
 "cells": [
  {
   "cell_type": "code",
   "execution_count": 23,
   "metadata": {},
   "outputs": [
    {
     "name": "stdout",
     "output_type": "stream",
     "text": [
      "one hundred and twenty one\n"
     ]
    }
   ],
   "source": [
    "def num2words(n):\n",
    "    \n",
    "    def f9(x):\n",
    "        a = [\"one\",\"two\",\"three\",\"four\",\"five\",\"six\",\"seven\",'eight',\"nine\"]\n",
    "        return a[x-1]\n",
    "    \n",
    "    def s9(x):\n",
    "        a = [\"eleven\",\"twelve\",\"thirteen\",\"fourteen\",\"fifteen\",\"sixteen\",\"seven\",\"eighteen\",\"nineteen\"]\n",
    "        o = x%10\n",
    "        return a[o-1]\n",
    "    \n",
    "    def tens(x):\n",
    "        a = [\"ten\",\"twenty\",\"thirty\",\"fourty\",\"fifty\",\"sixty\",\"seventy\",\"eighty\",\"ninety\"]\n",
    "        return a[t-1]\n",
    "    \n",
    "    def oth(x):\n",
    "        a = [\"hundred\",\"thousand\",\"lakh\",\"crore\"]\n",
    "        \n",
    "        return\n",
    "    \n",
    "    l = len(str(n))\n",
    "    \n",
    "    if(l<2):\n",
    "        return f9(n)\n",
    "    elif(l<3):\n",
    "        odd = n % 10\n",
    "        ten = n//10\n",
    "        if(odd == 0):\n",
    "            return tens(n)\n",
    "        else:\n",
    "            if(ten == 1):\n",
    "                return s9(n)\n",
    "            else:\n",
    "                return tens(n) + \" \" + f9(n)\n",
    "    elif(l < 4):\n",
    "        h = n//100\n",
    "        t = (n-(h*100))//10\n",
    "        o = n%10\n",
    "        if(o == 0):\n",
    "            if(t == 0):\n",
    "                return f9(h) + \" hundred\"\n",
    "            else:\n",
    "                return f9(h) + \" hundred \" + tens(t)\n",
    "        else:\n",
    "            if(t == 0):\n",
    "                return f9(h) + \" \" + \"hundred \" + \"and \" + f9(o)\n",
    "            return f9(h) + \" \" + \"hundred \" + \"and \" + tens(t)+ \" \" + f9(o)\n",
    "        \n",
    "  #  elif(l<5):\n",
    "        \n",
    "    \n",
    "   \n",
    "\n",
    "   \n",
    "\n",
    "val = 121\n",
    "print(num2words(val))"
   ]
  },
  {
   "cell_type": "code",
   "execution_count": 29,
   "metadata": {},
   "outputs": [
    {
     "name": "stdout",
     "output_type": "stream",
     "text": [
      "Two Hundred Seventy One\n"
     ]
    }
   ],
   "source": [
    "class Solution(object):\n",
    "    less_than_20 = [\"\", \"One\", \"Two\", \"Three\", \"Four\", \"Five\", \"Six\",\"Seven\", \"Eight\", \"Nine\", \"Ten\", \"Eleven\", \"Twelve\", \"Thirteen\",\n",
    "            \"Fourteen\", \"Fifteen\", \"Sixteen\", \"Seventeen\", \"Eighteen\",\n",
    "            \"Nineteen\"]\n",
    "    tens = [\"\",\"Ten\", \"Twenty\", \"Thirty\", \"Forty\", \"Fifty\", \"Sixty\",\"Seventy\", \"Eighty\", \"Ninety\"]\n",
    "    thousands = [\"\", \"Thousand\", \"Million\", \"Billion\"]\n",
    "    def numberToWords(self, num):\n",
    "        if num == 0:\n",
    "            return \"Zero\"\n",
    "        ans = \"\"\n",
    "        i = 0\n",
    "        while num > 0:\n",
    "            if num % 1000 != 0:\n",
    "                ans = self.helper(num % 1000) + Solution.thousands[i] + \" \" + ans\n",
    "                i += 1\n",
    "                num //= 1000\n",
    "            return ans.strip()\n",
    "    def helper(self, n):\n",
    "        if n == 0:\n",
    "            return \"\"\n",
    "        elif n < 20:\n",
    "            return Solution.less_than_20[n] + \" \"\n",
    "        elif n < 100:\n",
    "            return Solution.tens[n//10] + \" \" + self.helper(n % 10)\n",
    "        else:\n",
    "            return Solution.less_than_20[n // 100] + \" Hundred \" + self.helper(n % 100)\n",
    "ob = Solution()\n",
    "#print(ob.numberToWords(512))\n",
    "print(ob.numberToWords(7835271))"
   ]
  },
  {
   "cell_type": "code",
   "execution_count": null,
   "metadata": {},
   "outputs": [],
   "source": []
  }
 ],
 "metadata": {
  "kernelspec": {
   "display_name": "Python 3",
   "language": "python",
   "name": "python3"
  },
  "language_info": {
   "codemirror_mode": {
    "name": "ipython",
    "version": 3
   },
   "file_extension": ".py",
   "mimetype": "text/x-python",
   "name": "python",
   "nbconvert_exporter": "python",
   "pygments_lexer": "ipython3",
   "version": "3.8.5"
  }
 },
 "nbformat": 4,
 "nbformat_minor": 4
}
