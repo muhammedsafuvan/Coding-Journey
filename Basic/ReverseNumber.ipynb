{
 "cells": [
  {
   "cell_type": "code",
   "execution_count": 7,
   "metadata": {},
   "outputs": [
    {
     "name": "stdout",
     "output_type": "stream",
     "text": [
      "321\n"
     ]
    }
   ],
   "source": [
    "def reverse_number(n):\n",
    "    ans = \"\"\n",
    "    i = 0\n",
    "    while(n>0):\n",
    "        rem = n % 10\n",
    "        ans += str(rem)\n",
    "        n //= 10\n",
    "    return ans\n",
    "num = 123\n",
    "print(reverse_number(num))\n",
    "    "
   ]
  },
  {
   "cell_type": "code",
   "execution_count": 2,
   "metadata": {},
   "outputs": [
    {
     "name": "stdout",
     "output_type": "stream",
     "text": [
      "321\n"
     ]
    }
   ],
   "source": [
    "def reverse_number(n):\n",
    "    x = str(n)\n",
    "    ans = \"\"\n",
    "    for i in range(len(x)-1,-1,-1):\n",
    "        ans += x[i]\n",
    "    return ans\n",
    "n = 123\n",
    "print(reverse_number(n))"
   ]
  },
  {
   "cell_type": "code",
   "execution_count": null,
   "metadata": {},
   "outputs": [],
   "source": []
  }
 ],
 "metadata": {
  "kernelspec": {
   "display_name": "Python 3",
   "language": "python",
   "name": "python3"
  },
  "language_info": {
   "codemirror_mode": {
    "name": "ipython",
    "version": 3
   },
   "file_extension": ".py",
   "mimetype": "text/x-python",
   "name": "python",
   "nbconvert_exporter": "python",
   "pygments_lexer": "ipython3",
   "version": "3.8.5"
  }
 },
 "nbformat": 4,
 "nbformat_minor": 4
}
