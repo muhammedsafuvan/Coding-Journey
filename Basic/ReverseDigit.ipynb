{
 "cells": [
  {
   "cell_type": "code",
   "execution_count": 6,
   "metadata": {},
   "outputs": [
    {
     "name": "stdout",
     "output_type": "stream",
     "text": [
      "591\n"
     ]
    }
   ],
   "source": [
    "def reverse_digit(n):\n",
    "    d = {\"2\":\"5\",\"5\":\"2\",\"6\":\"9\",\"9\":\"6\"}\n",
    "    ans = \"\"\n",
    "    for i in str(n):\n",
    "        if(i in d):\n",
    "            ans += d[i]\n",
    "        else:\n",
    "            ans += i\n",
    "    return ans\n",
    "\n",
    "n = 261\n",
    "print(reverse_digit(n))\n",
    "            "
   ]
  },
  {
   "cell_type": "markdown",
   "metadata": {},
   "source": [
    "# List Prime\n"
   ]
  },
  {
   "cell_type": "code",
   "execution_count": 50,
   "metadata": {},
   "outputs": [
    {
     "name": "stdout",
     "output_type": "stream",
     "text": [
      "[2, 3, 5, 7, 11, 13, 17, 19, 23, 29, 31, 37, 41, 43, 47]\n"
     ]
    }
   ],
   "source": [
    "def list_prime(n):\n",
    "    ans = []\n",
    "    \n",
    "    for i in range(1,n+1):\n",
    "        if(i > 1):\n",
    "            \n",
    "            for j in range(2,i//2+1):\n",
    "                if(i%j == 0):\n",
    "                    break\n",
    "            else:\n",
    "                ans.append(i)\n",
    "    return ans\n",
    "    \n",
    "n = 50\n",
    "print(list_prime(n))"
   ]
  },
  {
   "cell_type": "code",
   "execution_count": 43,
   "metadata": {},
   "outputs": [
    {
     "name": "stdout",
     "output_type": "stream",
     "text": [
      "Yes\n"
     ]
    }
   ],
   "source": [
    "def prime(n):\n",
    "    \n",
    "    for i in range(2,n//2 +1):\n",
    "        if(n%i != 0):\n",
    "            return \"Yes\"\n",
    "        else:\n",
    "            return \"No\"\n",
    "n = 29\n",
    "print(prime(n))"
   ]
  },
  {
   "cell_type": "code",
   "execution_count": null,
   "metadata": {},
   "outputs": [],
   "source": []
  }
 ],
 "metadata": {
  "kernelspec": {
   "display_name": "Python 3",
   "language": "python",
   "name": "python3"
  },
  "language_info": {
   "codemirror_mode": {
    "name": "ipython",
    "version": 3
   },
   "file_extension": ".py",
   "mimetype": "text/x-python",
   "name": "python",
   "nbconvert_exporter": "python",
   "pygments_lexer": "ipython3",
   "version": "3.8.5"
  }
 },
 "nbformat": 4,
 "nbformat_minor": 4
}
