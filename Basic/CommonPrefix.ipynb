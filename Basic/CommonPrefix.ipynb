{
 "cells": [
  {
   "cell_type": "code",
   "execution_count": 20,
   "metadata": {},
   "outputs": [
    {
     "name": "stdout",
     "output_type": "stream",
     "text": [
      "\n"
     ]
    }
   ],
   "source": [
    "def longestCommonPrefix(A):\n",
    "    W1 = min(A)\n",
    "    W2 = max(A)\n",
    "    c = 0\n",
    "    for i in range(min(len(W1),len(W2))):\n",
    "        if W1[i] == W2[i]:\n",
    "            c += 1\n",
    "            \n",
    "    \n",
    "    return W1[:c]\n",
    "    \n",
    "        \n",
    "                    \n",
    "A = [\"abcdefgh\", \"aefghijk\", \"abcefgh\"]\n",
    "#A = ['abcd','abfg','abbb']\n",
    "A = ['abc','abc','efg','abh']\n",
    "#A = [\"abab\", \"ab\", \"abcd\"]\n",
    "print(longestCommonPrefix(A))"
   ]
  },
  {
   "cell_type": "code",
   "execution_count": 23,
   "metadata": {},
   "outputs": [
    {
     "data": {
      "text/plain": [
       "2"
      ]
     },
     "execution_count": 23,
     "metadata": {},
     "output_type": "execute_result"
    }
   ],
   "source": [
    "A = \"asddfg\"\n",
    "A.index('d')"
   ]
  },
  {
   "cell_type": "code",
   "execution_count": 8,
   "metadata": {},
   "outputs": [
    {
     "name": "stdout",
     "output_type": "stream",
     "text": [
      "1\n"
     ]
    }
   ],
   "source": [
    "def searchInsert(A, B):\n",
    "        \n",
    "        S = 0\n",
    "        E = len(A)-1\n",
    "        f = 0\n",
    "        \n",
    "        while S <= E:\n",
    "            \n",
    "            M = (E+S)//2\n",
    "            f = M+1\n",
    "            if A[M] == B:\n",
    "                \n",
    "                return M\n",
    "            elif A[M] > B:\n",
    "                E = M -1\n",
    "            else:\n",
    "                S = M + 1\n",
    "        return f\n",
    "    \n",
    "A = [1, 3, 5, 6]\n",
    "B = 2\n",
    "print(searchInsert(A, B))"
   ]
  },
  {
   "cell_type": "code",
   "execution_count": null,
   "metadata": {},
   "outputs": [],
   "source": []
  }
 ],
 "metadata": {
  "kernelspec": {
   "display_name": "Python 3",
   "language": "python",
   "name": "python3"
  },
  "language_info": {
   "codemirror_mode": {
    "name": "ipython",
    "version": 3
   },
   "file_extension": ".py",
   "mimetype": "text/x-python",
   "name": "python",
   "nbconvert_exporter": "python",
   "pygments_lexer": "ipython3",
   "version": "3.8.5"
  }
 },
 "nbformat": 4,
 "nbformat_minor": 4
}
