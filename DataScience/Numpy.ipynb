{
 "cells": [
  {
   "cell_type": "code",
   "execution_count": 1,
   "metadata": {},
   "outputs": [
    {
     "name": "stdout",
     "output_type": "stream",
     "text": [
      "Time Taken by List:  75.73986053466797\n",
      "Time Taken by numpy: 1.920938491821289\n"
     ]
    }
   ],
   "source": [
    "import numpy as np\n",
    "import time\n",
    "\n",
    "SIZE = pow(10,6)\n",
    "\n",
    "l1 = range(SIZE)\n",
    "l2 = range(SIZE)\n",
    "\n",
    "a1 = np.arange(SIZE)\n",
    "a2 = np.arange(SIZE)\n",
    "\n",
    "start = time.time()\n",
    "res = [(x+y) for x,y in zip(l1,l2)]\n",
    "print(\"Time Taken by List: \",(time.time() - start)*1000)\n",
    "\n",
    "start = time.time()\n",
    "ans = a1 + a2\n",
    "print(\"Time Taken by numpy:\",(time.time() - start)*1000)\n"
   ]
  },
  {
   "cell_type": "markdown",
   "metadata": {},
   "source": [
    "# Basic Array Operation"
   ]
  },
  {
   "cell_type": "code",
   "execution_count": 38,
   "metadata": {},
   "outputs": [
    {
     "data": {
      "text/plain": [
       "array([[19, 22],\n",
       "       [43, 50]])"
      ]
     },
     "execution_count": 38,
     "metadata": {},
     "output_type": "execute_result"
    }
   ],
   "source": [
    "import numpy as np\n",
    "a = np.array([[1,2,3],[34,2,6]])\n",
    "a[0]\n",
    "#ndim used to print the dimension of array\n",
    "a.ndim\n",
    "a.size\n",
    "#shape rep information abt dim\n",
    "a.shape\n",
    "#dtype can be int32,float64,complex\n",
    "a.dtype\n",
    "#zeros and ones\n",
    "np.zeros((3,4))\n",
    "np.ones((1,2))\n",
    "#arange: creating array with specific range numbers\n",
    "np.arange(1,5)\n",
    "#linspace: creating linear sequence of number\n",
    "np.linspace(2,6,10)\n",
    "#reshape: to change your dimension with compatible\n",
    "m = np.array([[1,2],[3,4],[5,6]])\n",
    "m.shape\n",
    "m.reshape(2,3)\n",
    "m.reshape(6,1)\n",
    "#ravel() : to flatten your array , wont touch org array\n",
    "m.ravel()\n",
    "m\n",
    "m.min()\n",
    "m.max()\n",
    "m.sum()\n",
    "#axis 1 : row, axis 0 : col\n",
    "m\n",
    "m.sum(axis = 1)\n",
    "#sqrt()\n",
    "np.sqrt(m)\n",
    "#std: standered deviation\n",
    "np.std(a)\n",
    "#dot() : matrix prod\n",
    "a = np.array([[1,2],[3,4]])\n",
    "b = np.array([[5,6],[7,8]])\n",
    "a+b\n",
    "a-b\n",
    "a*b\n",
    "a/b\n",
    "a.dot(b)"
   ]
  },
  {
   "cell_type": "markdown",
   "metadata": {},
   "source": [
    "# slicing/stacking "
   ]
  },
  {
   "cell_type": "code",
   "execution_count": 71,
   "metadata": {},
   "outputs": [
    {
     "data": {
      "text/plain": [
       "array([[0, 1, 2, 3, 4],\n",
       "       [5, 6, 0, 0, 0],\n",
       "       [0, 0, 0, 0, 0]])"
      ]
     },
     "execution_count": 71,
     "metadata": {},
     "output_type": "execute_result"
    }
   ],
   "source": [
    "a = np.array([[6,7,8],[1,2,3],[9,3,2]])\n",
    "a\n",
    "a[0:2,2]\n",
    "a[-1,0:2]\n",
    "a[:,1:3]\n",
    "a[0:2]\n",
    "#flat : flatting the array\n",
    "#for i in a.flat:\n",
    "  #  print(i) \n",
    "a = np.arange(6).reshape(3,2)\n",
    "b = np.arange(6,12).reshape(3,2)\n",
    "a\n",
    "#vstack : vertical stacking\n",
    "np.vstack((a,b))\n",
    "#hstack : horizontal stcak\n",
    "np.hstack((a,b))\n",
    "#hsplit : horizonat split\n",
    "x = np.arange(30).reshape(2,15)\n",
    "np.hsplit(x,3)\n",
    "np.vsplit(x,2)\n",
    "#bolean array\n",
    "x = np.arange(15).reshape(3,5)\n",
    "x\n",
    "y = x > 6\n",
    "y\n",
    "x[y]\n",
    "#if you wanna replace those with certain num\n",
    "x[y] = 0\n",
    "x"
   ]
  },
  {
   "cell_type": "markdown",
   "metadata": {},
   "source": [
    "# nditer"
   ]
  },
  {
   "cell_type": "code",
   "execution_count": 72,
   "metadata": {},
   "outputs": [],
   "source": [
    " import numpy as np\n"
   ]
  },
  {
   "cell_type": "code",
   "execution_count": 84,
   "metadata": {},
   "outputs": [
    {
     "name": "stdout",
     "output_type": "stream",
     "text": [
      "0\n",
      "1\n",
      "2\n",
      "3\n",
      "4\n",
      "5\n",
      "6\n",
      "7\n",
      "8\n",
      "9\n",
      "10\n",
      "11\n"
     ]
    }
   ],
   "source": [
    "a = np.arange(12).reshape(3,4)\n",
    "a[:,0:2]\n",
    "#nditer : order = C : row wise, order = F : col wise\n",
    "for x in np.nditer(a,order = 'c'):\n",
    "    print(x)\n"
   ]
  },
  {
   "cell_type": "code",
   "execution_count": 85,
   "metadata": {},
   "outputs": [
    {
     "name": "stdout",
     "output_type": "stream",
     "text": [
      "0\n",
      "4\n",
      "8\n",
      "1\n",
      "5\n",
      "9\n",
      "2\n",
      "6\n",
      "10\n",
      "3\n",
      "7\n",
      "11\n"
     ]
    }
   ],
   "source": [
    "for x in np.nditer(a,order = 'f'):\n",
    "    print(x)"
   ]
  },
  {
   "cell_type": "code",
   "execution_count": null,
   "metadata": {},
   "outputs": [],
   "source": []
  }
 ],
 "metadata": {
  "kernelspec": {
   "display_name": "Python 3",
   "language": "python",
   "name": "python3"
  },
  "language_info": {
   "codemirror_mode": {
    "name": "ipython",
    "version": 3
   },
   "file_extension": ".py",
   "mimetype": "text/x-python",
   "name": "python",
   "nbconvert_exporter": "python",
   "pygments_lexer": "ipython3",
   "version": "3.8.5"
  }
 },
 "nbformat": 4,
 "nbformat_minor": 4
}
