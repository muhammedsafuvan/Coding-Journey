{
 "cells": [
  {
   "cell_type": "markdown",
   "id": "df5dc451",
   "metadata": {},
   "source": [
    "### Recursion"
   ]
  },
  {
   "cell_type": "code",
   "execution_count": 62,
   "id": "4fc014ec",
   "metadata": {},
   "outputs": [
    {
     "name": "stdout",
     "output_type": "stream",
     "text": [
      "Enter Number: 40\n",
      "Result: 102334155\n",
      "Execution time: 27.914986 seconds\n"
     ]
    }
   ],
   "source": [
    "import time\n",
    "def solve(n):\n",
    "    if n<=1:\n",
    "        return n\n",
    "    return solve(n-1) + solve(n-2)\n",
    "if __name__ == \"__main__\":\n",
    "    n = int(input(\"Enter Number: \"))\n",
    "    start_time = time.time()\n",
    "    result = solve(n)\n",
    "    end_time = time.time()\n",
    "    \n",
    "    execution_time = end_time - start_time\n",
    "    \n",
    "    print(f\"Result: {result}\")\n",
    "    print(f\"Execution time: {execution_time:.6f} seconds\")\n"
   ]
  },
  {
   "cell_type": "markdown",
   "id": "680b412d",
   "metadata": {},
   "source": [
    "## Memoization"
   ]
  },
  {
   "cell_type": "code",
   "execution_count": 27,
   "id": "e09322d9",
   "metadata": {},
   "outputs": [
    {
     "name": "stdout",
     "output_type": "stream",
     "text": [
      "Enter Number: 40\n",
      "Result: 102334155\n",
      "Execution time: 0.000094 seconds\n"
     ]
    }
   ],
   "source": [
    "import time\n",
    "\n",
    "def solve(n, dp):\n",
    "    if n <= 1:\n",
    "        return n\n",
    "    elif dp[n] != -1:\n",
    "        return dp[n]\n",
    "    else:\n",
    "        dp[n] = solve(n - 1, dp) + solve(n - 2, dp)\n",
    "    return dp[n]\n",
    "\n",
    "if __name__ == \"__main__\":\n",
    "    n = int(input(\"Enter Number: \"))\n",
    "    \n",
    "    dp = [-1] * (n + 1)\n",
    "    \n",
    "    start_time = time.time()\n",
    "    result = solve(n, dp)\n",
    "    end_time = time.time()\n",
    "    \n",
    "    execution_time = end_time - start_time\n",
    "    \n",
    "    print(f\"Result: {result}\")\n",
    "    print(f\"Execution time: {execution_time:.6f} seconds\")\n"
   ]
  },
  {
   "cell_type": "markdown",
   "id": "760332c7",
   "metadata": {},
   "source": [
    "## Tabulation"
   ]
  },
  {
   "cell_type": "code",
   "execution_count": 60,
   "id": "472391c1",
   "metadata": {},
   "outputs": [
    {
     "name": "stdout",
     "output_type": "stream",
     "text": [
      "Enter Number: 40\n",
      "Result: 102334155\n",
      "Execution time: 0.000017 seconds\n"
     ]
    }
   ],
   "source": [
    "import time\n",
    "\n",
    "def solve(n):\n",
    "    prev2 = 0\n",
    "    prev1 = 1\n",
    "    if n <= 1:\n",
    "        return n\n",
    "    \n",
    "    for i in range(1,n):\n",
    "        curr = prev1 + prev2\n",
    "        prev2 = prev1\n",
    "        prev1 = curr\n",
    "    \n",
    "    return prev1\n",
    "\n",
    "if __name__ == \"__main__\":\n",
    "    n = int(input(\"Enter Number: \"))\n",
    "        \n",
    "    start_time = time.time()\n",
    "    result=solve(n)\n",
    "    end_time = time.time()\n",
    "    \n",
    "    execution_time = end_time - start_time\n",
    "    \n",
    "    print(f\"Result: {result}\")\n",
    "    print(f\"Execution time: {execution_time:.6f} seconds\")\n"
   ]
  },
  {
   "cell_type": "code",
   "execution_count": null,
   "id": "092e3cea",
   "metadata": {},
   "outputs": [],
   "source": []
  },
  {
   "cell_type": "code",
   "execution_count": null,
   "id": "2004e44a",
   "metadata": {},
   "outputs": [],
   "source": []
  }
 ],
 "metadata": {
  "kernelspec": {
   "display_name": "Python 3 (ipykernel)",
   "language": "python",
   "name": "python3"
  },
  "language_info": {
   "codemirror_mode": {
    "name": "ipython",
    "version": 3
   },
   "file_extension": ".py",
   "mimetype": "text/x-python",
   "name": "python",
   "nbconvert_exporter": "python",
   "pygments_lexer": "ipython3",
   "version": "3.9.17"
  }
 },
 "nbformat": 4,
 "nbformat_minor": 5
}
