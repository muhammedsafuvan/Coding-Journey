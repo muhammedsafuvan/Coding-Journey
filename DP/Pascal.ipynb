{
 "cells": [
  {
   "cell_type": "code",
   "execution_count": 31,
   "metadata": {},
   "outputs": [
    {
     "name": "stdout",
     "output_type": "stream",
     "text": [
      "[[1], [1, 1], [1, 2, 1], [1, 3, 3, 1], [1, 4, 6, 4, 1], [1, 5, 10, 10, 5, 1]]\n"
     ]
    }
   ],
   "source": [
    "def generate(numRows):\n",
    "        Pascal = {1:[1],2:[1,1]}\n",
    "#         print(Pascal)\n",
    "        for i in range(3,numRows+1):\n",
    "            l = []\n",
    "#             print(Pascal)\n",
    "            for j in range(len(Pascal[i-1])-1):\n",
    "                l += [Pascal[i-1][j] + Pascal[i-1][j+1]]\n",
    "#                 print(l)\n",
    "            Pascal[i] = [1]+l + [1]\n",
    "    \n",
    "        ans = [Pascal[i] for i in Pascal.keys()]\n",
    "\n",
    "\n",
    "        return ans\n",
    "    \n",
    "print(generate(6))"
   ]
  },
  {
   "cell_type": "code",
   "execution_count": 51,
   "metadata": {},
   "outputs": [
    {
     "name": "stdout",
     "output_type": "stream",
     "text": [
      "99\n",
      "116\n",
      "['Capitalize', 'th', 'Title']\n"
     ]
    }
   ],
   "source": [
    "def capitalizeTitle(title):\n",
    "        l = title.split(' ')\n",
    "        ans = []\n",
    "#         print(l)\n",
    "        for word in l:\n",
    "        \n",
    "            s = \"\"\n",
    "#             print(word[0])\n",
    "            if len(word) <=2:\n",
    "                for j in word:\n",
    "                    if 65<=ord(j)<=90:\n",
    "                        s += chr(ord(j)+32)\n",
    "                    else:\n",
    "                        s += j\n",
    "            \n",
    "                \n",
    "            if len(word) >2:\n",
    "                print(ord(word[0]))\n",
    "                if 97<=ord(word[0])<=122:\n",
    "                    s += chr(ord(word[0])-32)\n",
    "                else: \n",
    "                    s += word[0]\n",
    "                    \n",
    "                for j in range(1,len(word)):\n",
    "               \n",
    "                    if 65<=ord(word[j])<=91:\n",
    "                        s += chr(ord(word[j])+32)\n",
    "                    else:\n",
    "                        s += word[j]\n",
    "            ans.append(s)\n",
    "        return ans\n",
    "                    \n",
    "\n",
    "title = \"capiTalIze tH titLe\"\n",
    "print(capitalizeTitle(title))                "
   ]
  },
  {
   "cell_type": "code",
   "execution_count": 57,
   "metadata": {},
   "outputs": [
    {
     "data": {
      "text/plain": [
       "90"
      ]
     },
     "execution_count": 57,
     "metadata": {},
     "output_type": "execute_result"
    }
   ],
   "source": [
    "ord('Z')"
   ]
  },
  {
   "cell_type": "code",
   "execution_count": null,
   "metadata": {},
   "outputs": [],
   "source": []
  }
 ],
 "metadata": {
  "kernelspec": {
   "display_name": "Python 3 (ipykernel)",
   "language": "python",
   "name": "python3"
  },
  "language_info": {
   "codemirror_mode": {
    "name": "ipython",
    "version": 3
   },
   "file_extension": ".py",
   "mimetype": "text/x-python",
   "name": "python",
   "nbconvert_exporter": "python",
   "pygments_lexer": "ipython3",
   "version": "3.8.5"
  }
 },
 "nbformat": 4,
 "nbformat_minor": 4
}
