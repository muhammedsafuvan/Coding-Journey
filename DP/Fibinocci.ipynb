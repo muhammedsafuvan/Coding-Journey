{
 "cells": [
  {
   "cell_type": "markdown",
   "id": "dc231347",
   "metadata": {},
   "source": [
    "## Recursion\n"
   ]
  },
  {
   "cell_type": "code",
   "execution_count": 13,
   "id": "cb976a2a",
   "metadata": {},
   "outputs": [
    {
     "name": "stdout",
     "output_type": "stream",
     "text": [
      "Enter Number: 3\n",
      "Fibinocci number for 3 is  2\n"
     ]
    }
   ],
   "source": [
    "def calculate_fibinocci(n):\n",
    "    if n==1 or n==2:\n",
    "        result = 1\n",
    "    else:\n",
    "        result = calculate_fibinocci(n-1) + calculate_fibinocci(n-2)\n",
    "    return result\n",
    "\n",
    "number = int(input(\"Enter Number: \"))\n",
    "print(\"Fibinocci number for %s is  %s\" %(number,calculate_fibinocci(number)))"
   ]
  },
  {
   "cell_type": "markdown",
   "id": "d2ddcb11",
   "metadata": {},
   "source": [
    "## Bottom Up\n",
    "\n"
   ]
  },
  {
   "cell_type": "code",
   "execution_count": 24,
   "id": "ec61b227",
   "metadata": {},
   "outputs": [
    {
     "name": "stdout",
     "output_type": "stream",
     "text": [
      "Enter Number: 1\n",
      "Fibinocci number for 1 is  1\n"
     ]
    }
   ],
   "source": [
    "def calculate_fibinocci(n):\n",
    "    fibinocci_map = {1:1, 2:1}\n",
    "    if n<=0:\n",
    "        return -1\n",
    "    for index in range(3,n+1):\n",
    "        fibinocci_map[index] = fibinocci_map[index-1] + fibinocci_map[index-2]\n",
    "    return fibinocci_map[n]\n",
    "\n",
    "number = int(input(\"Enter Number: \"))\n",
    "print(\"Fibinocci number for %s is  %s\" %(number,calculate_fibinocci(number)))"
   ]
  },
  {
   "cell_type": "markdown",
   "id": "660af210",
   "metadata": {},
   "source": [
    "## Memoization"
   ]
  },
  {
   "cell_type": "code",
   "execution_count": 31,
   "id": "9f9f14c3",
   "metadata": {},
   "outputs": [
    {
     "name": "stdout",
     "output_type": "stream",
     "text": [
      "Enter Number: 5\n",
      "Fibinocci number for 5 is  5\n"
     ]
    }
   ],
   "source": [
    "def calculate_fibinocci(n,memo):\n",
    "    if memo[n] is not None:\n",
    "        return memo[n]\n",
    "    if n==1 or n==2:\n",
    "        result = 1\n",
    "    else:\n",
    "        result = calculate_fibinocci(n-1, memo) + calculate_fibinocci(n-2, memo)\n",
    "        memo[n] = result\n",
    "    return result\n",
    "    \n",
    "\n",
    "\n",
    "number = int(input(\"Enter Number: \"))\n",
    "memo = [None]*(number+1)\n",
    "print(\"Fibinocci number for %s is  %s\" %(number,calculate_fibinocci(number,memo)))"
   ]
  },
  {
   "cell_type": "code",
   "execution_count": null,
   "id": "cab45513",
   "metadata": {},
   "outputs": [],
   "source": []
  }
 ],
 "metadata": {
  "kernelspec": {
   "display_name": "Python 3 (ipykernel)",
   "language": "python",
   "name": "python3"
  },
  "language_info": {
   "codemirror_mode": {
    "name": "ipython",
    "version": 3
   },
   "file_extension": ".py",
   "mimetype": "text/x-python",
   "name": "python",
   "nbconvert_exporter": "python",
   "pygments_lexer": "ipython3",
   "version": "3.9.17"
  }
 },
 "nbformat": 4,
 "nbformat_minor": 5
}
