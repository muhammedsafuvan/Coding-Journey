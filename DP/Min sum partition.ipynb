{
 "cells": [
  {
   "cell_type": "code",
   "execution_count": 27,
   "id": "b932e026",
   "metadata": {},
   "outputs": [
    {
     "name": "stdout",
     "output_type": "stream",
     "text": [
      "[[True, True, False, False, False, False, False, False, False, False, False, False], [True, False, False, False, False, False, False, False, False, False, False, False], [True, False, False, False, False, False, False, False, False, False, False, False], [True, False, False, False, False, False, False, False, False, False, False, False]]\n",
      "MATRIX\n",
      "1\n",
      "0 True\t1 True\t2 False\t3 False\t4 False\t5 False\t6 False\t7 False\t8 False\t9 False\t10 False\t11 False\t\n",
      "\n",
      "6\n",
      "0 True\t1 True\t2 False\t3 False\t4 False\t5 False\t6 True\t7 True\t8 False\t9 False\t10 False\t11 False\t\n",
      "\n",
      "11\n",
      "0 True\t1 True\t2 False\t3 False\t4 False\t5 False\t6 True\t7 True\t8 False\t9 False\t10 False\t11 True\t\n",
      "\n",
      "5\n",
      "0 True\t1 True\t2 False\t3 False\t4 False\t5 True\t6 True\t7 True\t8 False\t9 False\t10 False\t11 True\t\n",
      "\n",
      "11 12\n",
      "1\n"
     ]
    }
   ],
   "source": [
    "def minDifference(arr, n):\n",
    "\t\t# code here\n",
    "        max_sum = sum(arr)\n",
    "        mat = [[False for _ in range(max_sum//2+1)] for _ in range(n)]\n",
    "\n",
    "        for i in range(n):\n",
    "            mat[i][0] = True\n",
    "\n",
    "        for i in range(max_sum//2+1):\n",
    "            if i == arr[0]:\n",
    "                mat[0][i]=True\n",
    "                \n",
    "        print(mat)\n",
    "            \n",
    "        for i in range(1,n):\n",
    "            for j in range(1,max_sum//2+1):\n",
    "                if mat[i-1][j]:\n",
    "                    mat[i][j] = True\n",
    "                \n",
    "                elif j>=arr[i]:\n",
    "                    mat[i][j] = mat[i-1][j-arr[i]]\n",
    "           \n",
    "\n",
    "        p1 = -1\n",
    "        for i in range(max_sum//2, -1,-1):\n",
    "            if mat[n-1][i]:\n",
    "                p1=j\n",
    "                break\n",
    "         \n",
    "        p2 = max_sum - p1\n",
    "        \n",
    "        print(\"MATRIX\")\n",
    "        for i in range(n):\n",
    "            print(arr[i])\n",
    "            for j in range(max_sum//2+1):\n",
    "                print(j, mat[i][j], end=\"\\t\")  \n",
    "            print(\"\\n\")\n",
    "                \n",
    "        \n",
    "        print(p1, p2)\n",
    "     \n",
    "        return abs(p1-p2)\n",
    "    \n",
    "n = 4\n",
    "arr = [1, 6, 11, 5]\n",
    "\n",
    "print(minDifference(arr, n))\n"
   ]
  },
  {
   "cell_type": "code",
   "execution_count": null,
   "id": "b31a989c",
   "metadata": {},
   "outputs": [],
   "source": []
  }
 ],
 "metadata": {
  "kernelspec": {
   "display_name": "Python 3 (ipykernel)",
   "language": "python",
   "name": "python3"
  },
  "language_info": {
   "codemirror_mode": {
    "name": "ipython",
    "version": 3
   },
   "file_extension": ".py",
   "mimetype": "text/x-python",
   "name": "python",
   "nbconvert_exporter": "python",
   "pygments_lexer": "ipython3",
   "version": "3.9.17"
  }
 },
 "nbformat": 4,
 "nbformat_minor": 5
}
