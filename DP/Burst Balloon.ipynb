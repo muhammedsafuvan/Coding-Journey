{
 "cells": [
  {
   "cell_type": "code",
   "execution_count": 15,
   "id": "7fc8a31c",
   "metadata": {},
   "outputs": [
    {
     "name": "stdout",
     "output_type": "stream",
     "text": [
      "{frozenset({1, 3, 5}), frozenset({3}), frozenset({1}), frozenset({1, 5}), frozenset({5}), frozenset({1, 3})}\n",
      "frozenset({1, 3, 5})\n",
      "[frozenset({1, 3, 5}), frozenset({3}), frozenset({1}), frozenset({1, 5}), frozenset({5}), frozenset({1, 3})]\n"
     ]
    }
   ],
   "source": [
    "def burst_ballon(arr,n):\n",
    "    sub_sets = set()\n",
    "    \n",
    "    for i in range(n-1):\n",
    "        for j in range(i+1,n):\n",
    "            sub_sets.add(frozenset(arr[i:j]))\n",
    "    print(sub_sets) \n",
    "    print(list(sub_sets)[0])\n",
    "    for i in sub_sets:\n",
    "        if \n",
    "        \n",
    "    return list(sub_sets)\n",
    "    \n",
    "    \n",
    "arr = [3, 1, 5, 8]\n",
    "n = 4\n",
    "\n",
    "print(burst_ballon(arr,n))"
   ]
  },
  {
   "cell_type": "code",
   "execution_count": null,
   "id": "06340dec",
   "metadata": {},
   "outputs": [],
   "source": []
  }
 ],
 "metadata": {
  "kernelspec": {
   "display_name": "Python 3 (ipykernel)",
   "language": "python",
   "name": "python3"
  },
  "language_info": {
   "codemirror_mode": {
    "name": "ipython",
    "version": 3
   },
   "file_extension": ".py",
   "mimetype": "text/x-python",
   "name": "python",
   "nbconvert_exporter": "python",
   "pygments_lexer": "ipython3",
   "version": "3.9.17"
  }
 },
 "nbformat": 4,
 "nbformat_minor": 5
}
