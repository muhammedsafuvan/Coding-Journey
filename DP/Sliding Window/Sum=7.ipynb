{
 "cells": [
  {
   "cell_type": "code",
   "execution_count": 5,
   "metadata": {},
   "outputs": [
    {
     "name": "stdout",
     "output_type": "stream",
     "text": [
      "[(0, 3)]\n"
     ]
    }
   ],
   "source": [
    "def solve(arr):\n",
    "    s,e = 0,1\n",
    "    t = 0\n",
    "    ans = []\n",
    "    for i in range(len(arr)):\n",
    "        t += arr[e]\n",
    "        if t == 9:\n",
    "            ans += [(s,e)]\n",
    "        elif t < 9:\n",
    "            e += 1\n",
    "        elif t > 9:\n",
    "            s += 1\n",
    "            e -= 1\n",
    "            \n",
    "    return ans\n",
    "\n",
    "arr = [1,2,3,4,5,6,7,8,9]\n",
    "print(solve(arr))       \n",
    "        "
   ]
  },
  {
   "cell_type": "code",
   "execution_count": null,
   "metadata": {},
   "outputs": [],
   "source": [
    "#Kadane"
   ]
  },
  {
   "cell_type": "code",
   "execution_count": 17,
   "metadata": {},
   "outputs": [
    {
     "name": "stdout",
     "output_type": "stream",
     "text": [
      "1\n",
      "r: -3\n",
      "a: -2\n",
      "2\n",
      "r: 4\n",
      "a: 4\n",
      "3\n",
      "r: 3\n",
      "a: 4\n",
      "4\n",
      "r: 1\n",
      "a: 4\n",
      "5\n",
      "r: 2\n",
      "a: 4\n",
      "6\n",
      "r: 7\n",
      "a: 7\n",
      "7\n",
      "r: 4\n",
      "a: 7\n",
      "7\n"
     ]
    }
   ],
   "source": [
    "def kadane(arr,n):\n",
    "    \n",
    "    ans,res = arr[0],arr[0]\n",
    "    t = 0\n",
    "    for i in range(1,n):\n",
    "        res = max(res+arr[i],arr[i])\n",
    "        print(i)\n",
    "        print(\"r:\",res)\n",
    "        ans = max(ans,res)\n",
    "        print(\"a:\",ans)\n",
    "    return ans\n",
    "arr = [-2, -3, 4, -1, -2, 1, 5, -3]\n",
    "n = len(arr)\n",
    "print(kadane(arr,n))\n",
    "        "
   ]
  },
  {
   "cell_type": "code",
   "execution_count": 35,
   "metadata": {},
   "outputs": [
    {
     "name": "stdout",
     "output_type": "stream",
     "text": [
      "[(1, 1)]\n"
     ]
    }
   ],
   "source": [
    "def answer(arr,k,n):\n",
    "    ans,res = 0,0\n",
    "    t = 0\n",
    "    s = 0\n",
    "    l = []\n",
    "    for i in range(1,n):\n",
    "        t += res + arr[i]\n",
    "        if t == k:\n",
    "            l += [(s+1,i)]\n",
    "        elif t > k:\n",
    "            t = 0\n",
    "            s += 1\n",
    "    return l\n",
    "        \n",
    "        \n",
    "    \n",
    "            \n",
    "        \n",
    "arr = [1,7,4,3,2,1,5,1]\n",
    "n = len(arr)\n",
    "k = 7\n",
    "print(answer(arr,k,n))"
   ]
  },
  {
   "cell_type": "code",
   "execution_count": null,
   "metadata": {},
   "outputs": [],
   "source": []
  }
 ],
 "metadata": {
  "kernelspec": {
   "display_name": "Python 3 (ipykernel)",
   "language": "python",
   "name": "python3"
  },
  "language_info": {
   "codemirror_mode": {
    "name": "ipython",
    "version": 3
   },
   "file_extension": ".py",
   "mimetype": "text/x-python",
   "name": "python",
   "nbconvert_exporter": "python",
   "pygments_lexer": "ipython3",
   "version": "3.9.17"
  }
 },
 "nbformat": 4,
 "nbformat_minor": 4
}
