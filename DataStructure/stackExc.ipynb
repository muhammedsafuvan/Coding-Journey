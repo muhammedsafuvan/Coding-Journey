{
 "cells": [
  {
   "cell_type": "code",
   "execution_count": 13,
   "metadata": {},
   "outputs": [
    {
     "name": "stdout",
     "output_type": "stream",
     "text": [
      "d l r o W   o l l e H\n"
     ]
    }
   ],
   "source": [
    "from collections import deque\n",
    "def rev_string(string):\n",
    "   \n",
    "    stack = deque()\n",
    "    \n",
    "    for i in range(len(string)-1,-1,-1):\n",
    "        stack.append(string[i])\n",
    "    return stack\n",
    "s = \"Hello World\"\n",
    "x = rev_string(s)\n",
    "print(*x)\n",
    "        "
   ]
  },
  {
   "cell_type": "code",
   "execution_count": 14,
   "metadata": {},
   "outputs": [
    {
     "name": "stdout",
     "output_type": "stream",
     "text": [
      "deque([])\n"
     ]
    }
   ],
   "source": [
    "def is_balanced(string):\n",
    "    stk = deque()\n",
    "    for i in range(len(string)):\n",
    "        if(string[i] == \"{\" or string[i] == \"[\"string[i] == \"(\"):\n",
    "            stk.append(string[i])\n",
    "    return stk\n",
    "x = \"{d}\"\n",
    "print(is_balanced(x))"
   ]
  }
 ],
 "metadata": {
  "kernelspec": {
   "display_name": "Python 3",
   "language": "python",
   "name": "python3"
  },
  "language_info": {
   "codemirror_mode": {
    "name": "ipython",
    "version": 3
   },
   "file_extension": ".py",
   "mimetype": "text/x-python",
   "name": "python",
   "nbconvert_exporter": "python",
   "pygments_lexer": "ipython3",
   "version": "3.8.5"
  }
 },
 "nbformat": 4,
 "nbformat_minor": 4
}
