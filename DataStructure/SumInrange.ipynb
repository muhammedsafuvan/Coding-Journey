{
 "cells": [
  {
   "cell_type": "code",
   "execution_count": 4,
   "metadata": {},
   "outputs": [
    {
     "name": "stdout",
     "output_type": "stream",
     "text": [
      "1\n",
      "4\n",
      "10\n",
      "[3, 3, 1, 7, 4, 6]\n"
     ]
    }
   ],
   "source": [
    "def solution(nums, queries):\n",
    "    ans = 0\n",
    "    mod = pow(10,9)+7\n",
    "    test = []\n",
    "    temp = 0\n",
    "    \n",
    "    \n",
    "    for i in range(len(nums)):\n",
    "        temp += nums[i]\n",
    "        test.append(temp)\n",
    "        \n",
    "    for i in range(len(queries)):\n",
    "        if queries[i][0] == 0:\n",
    "            ans += test[queries[i][1]]\n",
    "        else:\n",
    "            ans += (test[queries[i][1]] - test[queries[i][0]-1])\n",
    "        print(ans)\n",
    "            \n",
    "            \n",
    "    return test\n",
    "\n",
    "nums = [3, 0, -2, 6, -3, 2]\n",
    "queries = [[0, 2], [2, 5], [0, 5]]\n",
    "\n",
    "print(solution(nums, queries))\n",
    "        \n",
    "    \n",
    "       \n",
    "            \n",
    "        \n",
    "        \n",
    "    \n",
    "\n"
   ]
  },
  {
   "cell_type": "code",
   "execution_count": 9,
   "metadata": {},
   "outputs": [
    {
     "data": {
      "text/plain": [
       "-3"
      ]
     },
     "execution_count": 9,
     "metadata": {},
     "output_type": "execute_result"
    }
   ],
   "source": [
    "k = - 5\n",
    "k%2 if k > 0 else k + 2"
   ]
  },
  {
   "cell_type": "code",
   "execution_count": null,
   "metadata": {},
   "outputs": [],
   "source": []
  }
 ],
 "metadata": {
  "kernelspec": {
   "display_name": "Python 3",
   "language": "python",
   "name": "python3"
  },
  "language_info": {
   "codemirror_mode": {
    "name": "ipython",
    "version": 3
   },
   "file_extension": ".py",
   "mimetype": "text/x-python",
   "name": "python",
   "nbconvert_exporter": "python",
   "pygments_lexer": "ipython3",
   "version": "3.8.5"
  }
 },
 "nbformat": 4,
 "nbformat_minor": 4
}
