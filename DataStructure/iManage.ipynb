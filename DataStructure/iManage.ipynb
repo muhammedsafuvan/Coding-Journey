{
 "cells": [
  {
   "cell_type": "code",
   "execution_count": 7,
   "metadata": {},
   "outputs": [],
   "source": [
    "def solve(arr,d):\n",
    "    # Vertices\n",
    "    A,B,C,D = arr[0],arr[1],arr[2],arr[3]\n",
    "    # Length array\n",
    "    L = []\n",
    "    x = 0\n",
    "    Vertices = []\n",
    "    \n",
    "    # to find the lenght of edges\n",
    "    for i in range(len(arr)):\n",
    "        \n",
    "        for j in range(i+1,len(arr)):\n",
    "            if arr[i][0] ==arr[j][0]:\n",
    "                x = abs(arr[i][1]-arr[j][1])\n",
    "            if arr[i][1] ==arr[j][1]:\n",
    "                x = abs(arr[i][0]-arr[j][0])\n",
    "        L.append(x)\n",
    "    #print(L)\n",
    "    # check rectangle: rectangle has parallel side of equel length\n",
    "    if len(set(L)) == 2:\n",
    "        arr.sort()\n",
    "        #print(arr)\n",
    "        M = [(1,1),(1,-1),(-1,1),(-1,-1)]\n",
    "        \n",
    "        for i in range(len(arr)):\n",
    "            Vertices.append((arr[i][0] + d*M[i][0],arr[i][1] + d*M[i][1]))\n",
    "              \n",
    "        return Vertices\n",
    "    #check \n",
    "    \n",
    "    else:\n",
    "        INT_MAX = 10000\n",
    "\n",
    "\n",
    "        def onSegment(p:tuple, q:tuple, r:tuple) -> bool:\n",
    "\n",
    "            if ((q[0] <= max(p[0], r[0])) &\n",
    "                (q[0] >= min(p[0], r[0])) &\n",
    "                (q[1] <= max(p[1], r[1])) &\n",
    "                (q[1] >= min(p[1], r[1]))):\n",
    "                return True\n",
    "\n",
    "            return False\n",
    "\n",
    "\n",
    "        def orientation(p:tuple, q:tuple, r:tuple) -> int:\n",
    "\n",
    "            val = (((q[1] - p[1]) *\n",
    "                    (r[0] - q[0])) -\n",
    "                ((q[0] - p[0]) *\n",
    "                    (r[1] - q[1])))\n",
    "\n",
    "            if val == 0:\n",
    "                return 0\n",
    "            if val > 0:\n",
    "                return 1 \n",
    "            else:\n",
    "                return 2 \n",
    "\n",
    "        def doIntersect(p1, q1, p2, q2):\n",
    "\n",
    "            o1 = orientation(p1, q1, p2)\n",
    "            o2 = orientation(p1, q1, q2)\n",
    "            o3 = orientation(p2, q2, p1)\n",
    "            o4 = orientation(p2, q2, q1)\n",
    "\n",
    "\n",
    "            if (o1 != o2) and (o3 != o4):\n",
    "                return True\n",
    "\n",
    "            if (o1 == 0) and (onSegment(p1, p2, q1)):\n",
    "                return True\n",
    "\n",
    "\n",
    "            if (o2 == 0) and (onSegment(p1, q2, q1)):\n",
    "                return True\n",
    "\n",
    " \n",
    "            if (o3 == 0) and (onSegment(p2, p1, q2)):\n",
    "                return True\n",
    "\n",
    "\n",
    "            if (o4 == 0) and (onSegment(p2, q1, q2)):\n",
    "                return True\n",
    "\n",
    "            return False\n",
    "\n",
    "\n",
    "        def is_inside_polygon(points:list, p:tuple) -> bool:\n",
    "            n = len(points)\n",
    "\n",
    "            if n < 3:\n",
    "                return False\n",
    "\n",
    "            extreme = (INT_MAX, p[1])\n",
    "            count = i = 0\n",
    "\n",
    "            while True:\n",
    "                next = (i + 1) % n\n",
    "\n",
    "                if (doIntersect(points[i],\n",
    "                            points[next],\n",
    "                            p, extreme)):\n",
    "\n",
    "                    if orientation(points[i], p,\n",
    "                            points[next]) == 0:\n",
    "                        return onSegment(points[i], p,\n",
    "                                    points[next])\n",
    "                                    \n",
    "                count += 1\n",
    "\n",
    "                i = next\n",
    "\n",
    "                if (i == 0):\n",
    "                    break\n",
    "\n",
    "        \n",
    "        return (count % 2 == 1)\n",
    "        ans = []\n",
    "    \n",
    "        M = [(1,1),(1,-1),(-1,-1),(-1,1)]\n",
    "    \n",
    "        for i in range(len(arr)):\n",
    "            for j in range(len(M)):\n",
    "                val = (arr[i][0]+ d*M[j][0], arr[i][1] + d*M[j][1])\n",
    "        \n",
    "                if is_inside_polygon(points= arr, p = val):\n",
    "                    ans.append(val)\n",
    "            \n",
    "            \n",
    "        return ans\n",
    "        \n",
    " \n"
   ]
  },
  {
   "cell_type": "code",
   "execution_count": 8,
   "metadata": {},
   "outputs": [
    {
     "name": "stdout",
     "output_type": "stream",
     "text": [
      "[(0, 0), (0, 40), (70, 0), (70, 40)]\n"
     ]
    }
   ],
   "source": [
    "# Test Case 1\n",
    "arr = [(-10,50),(80,50),(80,-10),(-10,-10)]\n",
    "print(solve(arr,10))\n"
   ]
  },
  {
   "cell_type": "code",
   "execution_count": 65,
   "metadata": {},
   "outputs": [
    {
     "name": "stdout",
     "output_type": "stream",
     "text": [
      "[(5, -5), (15, 35), (45, 65), (55, -35)]\n"
     ]
    }
   ],
   "source": [
    "# Test Case 2\n",
    "arr = [(0,50),(60,50),(-10,-20),(70,-20)]\n",
    "print(solve(arr,15))"
   ]
  },
  {
   "cell_type": "code",
   "execution_count": 2,
   "metadata": {},
   "outputs": [
    {
     "data": {
      "image/png": "[encoded data removed]",
      "text/plain": [
       "<Figure size 432x288 with 1 Axes>"
      ]
     },
     "metadata": {
      "needs_background": "light"
     },
     "output_type": "display_data"
    }
   ],
   "source": [
    "import matplotlib.pyplot as plt\n",
    "import numpy as np\n",
    "\n",
    "xpoints = np.array([0, 0,70,70,0])\n",
    "ypoints = np.array([0,40,40,0,0])\n",
    "\n",
    "plt.plot(xpoints, ypoints)\n",
    "plt.show()"
   ]
  },
  {
   "cell_type": "code",
   "execution_count": 4,
   "metadata": {},
   "outputs": [
    {
     "data": {
      "image/png": "[encoded data removed]",
      "text/plain": [
       "<Figure size 432x288 with 1 Axes>"
      ]
     },
     "metadata": {
      "needs_background": "light"
     },
     "output_type": "display_data"
    }
   ],
   "source": [
    "import matplotlib.pyplot as plt\n",
    "import numpy as np\n",
    "xpoints = np.array([-10,80,80,-10,-10])\n",
    "ypoints = np.array([50,50,-10,-10,50])\n",
    "xpoints1 = np.array([0, 0,70,70,0])\n",
    "ypoints1 = np.array([0,40,40,0,0])\n",
    "\n",
    "plt.plot(xpoints1, ypoints1)\n",
    "#plt.show()\n",
    "\n",
    "plt.plot(xpoints, ypoints)\n",
    "plt.show()"
   ]
  },
  {
   "cell_type": "code",
   "execution_count": 23,
   "metadata": {},
   "outputs": [
    {
     "name": "stdout",
     "output_type": "stream",
     "text": [
      "[(5, -5), (15, 35), (45, 65), (55, -35)]\n"
     ]
    }
   ],
   "source": [
    "# Test Case 2\n",
    "arr = [(-10,-20),(0,50),(60,50),(70,-20)]\n",
    "print(solve(arr,15))"
   ]
  },
  {
   "cell_type": "code",
   "execution_count": 9,
   "metadata": {},
   "outputs": [
    {
     "data": {
      "image/png": "[encoded data removed]",
      "text/plain": [
       "<Figure size 432x288 with 1 Axes>"
      ]
     },
     "metadata": {
      "needs_background": "light"
     },
     "output_type": "display_data"
    }
   ],
   "source": [
    "import matplotlib.pyplot as plt\n",
    "import numpy as np\n",
    "\n",
    "xpoints = np.array([-10,0,60,70,-10])\n",
    "ypoints = np.array([-20,50,50,-20,-20])\n",
    "xpoints1 = np.array([5,15,45,55])\n",
    "ypoints1 = np.array([-5,35,35,-5])\n",
    "\n",
    "plt.plot(xpoints1, ypoints1)\n",
    "#plt.show()\n",
    "\n",
    "plt.plot(xpoints, ypoints)\n",
    "plt.show()"
   ]
  },
  {
   "cell_type": "code",
   "execution_count": 14,
   "metadata": {},
   "outputs": [
    {
     "data": {
      "image/png": "[encoded data removed]",
      "text/plain": [
       "<Figure size 432x288 with 1 Axes>"
      ]
     },
     "metadata": {
      "needs_background": "light"
     },
     "output_type": "display_data"
    }
   ],
   "source": [
    "import matplotlib.pyplot as plt\n",
    "import numpy as np\n",
    "\n",
    "xpoints = np.array([-10,0,60,70,-10])\n",
    "ypoints = np.array([-20,50,50,-20,-20])\n",
    "xpoints1 = np.array([6,-1.57,47,51.3,6])\n",
    "ypoints1 = np.array([4,35,35,5,4])\n",
    "\n",
    "plt.plot(xpoints1, ypoints1)\n",
    "#plt.show()\n",
    "\n",
    "plt.plot(xpoints, ypoints)\n",
    "plt.show()"
   ]
  },
  {
   "cell_type": "code",
   "execution_count": 6,
   "metadata": {},
   "outputs": [
    {
     "data": {
      "image/png": "[encoded data removed]",
      "text/plain": [
       "<Figure size 432x288 with 1 Axes>"
      ]
     },
     "metadata": {
      "needs_background": "light"
     },
     "output_type": "display_data"
    }
   ],
   "source": [
    "import matplotlib.pyplot as plt\n",
    "import numpy as np\n",
    "\n",
    "x = np.array([1,1,5,5])\n",
    "y = np.array([2,6,6,2])\n",
    "\n",
    "\n",
    "#plt.show()\n",
    "\n",
    "plt.plot(x, y)\n",
    "plt.show()"
   ]
  },
  {
   "cell_type": "code",
   "execution_count": null,
   "metadata": {},
   "outputs": [],
   "source": []
  }
 ],
 "metadata": {
  "kernelspec": {
   "display_name": "Python 3",
   "language": "python",
   "name": "python3"
  },
  "language_info": {
   "codemirror_mode": {
    "name": "ipython",
    "version": 3
   },
   "file_extension": ".py",
   "mimetype": "text/x-python",
   "name": "python",
   "nbconvert_exporter": "python",
   "pygments_lexer": "ipython3",
   "version": "3.8.5"
  }
 },
 "nbformat": 4,
 "nbformat_minor": 4
}
