{
 "cells": [
  {
   "cell_type": "code",
   "execution_count": 72,
   "metadata": {},
   "outputs": [
    {
     "name": "stdout",
     "output_type": "stream",
     "text": [
      "[['very', 2], ['and', 2]]\n"
     ]
    }
   ],
   "source": [
    "def word(s):\n",
    "    l = s.split()\n",
    "    d = {}\n",
    "    for i in l:\n",
    "        if i in d:\n",
    "            d[i] += 1\n",
    "        else:\n",
    "            d[i] = 1\n",
    "#     print(d)\n",
    "    ans = []\n",
    "    count = 0\n",
    "    for i in d.keys():\n",
    "        if d[i] > 1:\n",
    "            ans.append([i,d[i]])\n",
    "    return ans\n",
    "            \n",
    "s=\"i am very happy and and very good\"\n",
    "print(word(s))\n",
    "            "
   ]
  },
  {
   "cell_type": "code",
   "execution_count": 36,
   "metadata": {},
   "outputs": [],
   "source": [
    "h = open(\"cred.txt\",\"r\")\n"
   ]
  },
  {
   "cell_type": "code",
   "execution_count": 29,
   "metadata": {},
   "outputs": [
    {
     "name": "stdout",
     "output_type": "stream",
     "text": [
      "Nov 30 11:44:51 Amals-MacBook-Pro com.apple.xpc.launchd[1]: Coalition Cache Evicted: app<application.activateSettings.DE9DB059-A4B9-4609-B41E-AC54A3759334(501)> [23756]\n",
      "\n",
      "Nov 30 11:44:52 Amals-MacBook-Pro Google Chrome Helper[1134]: Libnotify: notify_register_coalesced_registration failed with code 9 on line 2835\n",
      "\n",
      "Nov 30 11:44:57 Amals-MacBook-Pro com.apple.xpc.launchd[1] (com.apple.mdworker.shared.05000000-0200-0000-0000-000000000000[11383]): Service exited due to SIGKILL | sent by mds[95]\n",
      "\n",
      "Nov 30 11:44:57 Amals-MacBook-Pro com.apple.xpc.launchd[1] (com.apple.mdworker.shared.06000000-0500-0000-0000-000000000000[11393]): Service exited due to SIGKILL | sent by mds[95]\n",
      "\n",
      "Nov 30 11:44:58 Amals-MacBook-Pro Google Chrome Helper[2156]: Libnotify: notify_register_coalesced_registration failed with code 9 on line 2835\n",
      "\n",
      "Nov 30 11:44:58 Amals-MacBook-Pro Brave Browser Helper[14457]: Libnotify: notify_register_coalesced_registration failed with code 9 on line 2835\n",
      "\n",
      "Nov 30 12:00:56 Amals-MacBook-Pro syslogd[64]: ASL Sender Statistics\n",
      "\n",
      "Nov 30 12:01:01 Amals-MacBook-Pro com.apple.xpc.launchd[1]: Coalition Cache Evicted: app<application.activateSettings.37C6291B-CD96-4197-BCA0-3E1DF1DB7E94(501)> [23784]\n",
      "\n",
      "Nov 30 12:01:02 Amals-MacBook-Pro timed[114]: settimeofday({0x61a5c525,0xf41f0}) == 0\n",
      "\n",
      "Nov 30 12:01:04 Amals-MacBook-Pro com.apple.xpc.launchd[1] (com.apple.mdworker.shared.05000000-0300-0000-0000-000000000000[11805]): Service exited due to SIGKILL | sent by mds[95]\n",
      "\n",
      "Nov 30 12:01:05 Amals-MacBook-Pro Brave Browser Helper[14357]: Libnotify: notify_register_coalesced_registration failed with code 9 on line 2835\n",
      "\n",
      "Nov 30 12:01:07 Amals-MacBook-Pro com.apple.xpc.launchd[1] (com.apple.mdworker.shared.08000000-0600-0000-0000-000000000000[11572]): Service exited due to SIGKILL | sent by mds[95]\n",
      "\n",
      "Nov 30 12:01:08 Amals-MacBook-Pro com.apple.xpc.launchd[1] (com.apple.xpc.launchd.domain.user.501): Service \"com.apple.xpc.launchd.unmanaged.loginwindow.148\" tried to register for endpoint \"com.apple.tsm.uiserver\" already registered by owner: com.apple.TextInputMenuAgent\n"
     ]
    }
   ],
   "source": [
    "c = 0\n",
    "for i in h:\n",
    "    print(i)\n",
    "\n"
   ]
  },
  {
   "cell_type": "code",
   "execution_count": 37,
   "metadata": {},
   "outputs": [
    {
     "name": "stdout",
     "output_type": "stream",
     "text": [
      "13\n"
     ]
    }
   ],
   "source": [
    "c = 0\n",
    "for i in h:\n",
    "    for j in i.split():\n",
    "#         print(j)\n",
    "        if j == \"Nov\":\n",
    "            c += 1\n",
    "print(c)\n"
   ]
  },
  {
   "cell_type": "code",
   "execution_count": 38,
   "metadata": {},
   "outputs": [
    {
     "name": "stdout",
     "output_type": "stream",
     "text": [
      "13\n"
     ]
    }
   ],
   "source": [
    "n = 0\n",
    "h = open(\"cred.txt\",\"r\")\n",
    "for i in h:\n",
    "    if \"Nov\" in i:\n",
    "        n += 1\n",
    "print(ans)"
   ]
  },
  {
   "cell_type": "code",
   "execution_count": 62,
   "metadata": {},
   "outputs": [
    {
     "name": "stdout",
     "output_type": "stream",
     "text": [
      "11\n",
      "11\n",
      "11\n",
      "11\n",
      "11\n",
      "11\n",
      "12\n",
      "12\n",
      "12\n",
      "12\n",
      "12\n",
      "12\n",
      "12\n",
      "{'11': 78, '12': 91}\n"
     ]
    }
   ],
   "source": [
    "ans = {}\n",
    "# n = 0\n",
    "# h = open(\"cred.txt\",\"r\")\n",
    "# for i in h:\n",
    "#     if \"Nov\" in i:\n",
    "#         n += 1\n",
    "        \n",
    "h = open(\"cred.txt\",\"r\")\n",
    "for i in h:\n",
    "    l = i.split()\n",
    "    t = l[2].split(\":\")\n",
    "    print(t[0])\n",
    "    \n",
    "    for j in range(n):\n",
    "        if t[0] in ans:\n",
    "            ans[t[0]] += 1\n",
    "        else:\n",
    "            ans[t[0]] = 1\n",
    "            \n",
    "print(ans)\n",
    "        \n",
    "#         t = j[2].split(':')\n",
    "        \n",
    "        \n",
    "#         if t[0] in ans:\n",
    "#             ans[t[0]] += 1\n",
    "#         else:\n",
    "#             ans[t[0]] = 1\n",
    "            \n",
    "# print(ans)"
   ]
  },
  {
   "cell_type": "code",
   "execution_count": null,
   "metadata": {},
   "outputs": [],
   "source": []
  }
 ],
 "metadata": {
  "kernelspec": {
   "display_name": "Python 3",
   "language": "python",
   "name": "python3"
  },
  "language_info": {
   "codemirror_mode": {
    "name": "ipython",
    "version": 3
   },
   "file_extension": ".py",
   "mimetype": "text/x-python",
   "name": "python",
   "nbconvert_exporter": "python",
   "pygments_lexer": "ipython3",
   "version": "3.8.5"
  }
 },
 "nbformat": 4,
 "nbformat_minor": 4
}
