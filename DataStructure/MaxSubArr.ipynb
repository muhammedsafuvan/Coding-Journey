{
 "cells": [
  {
   "cell_type": "code",
   "execution_count": 29,
   "metadata": {},
   "outputs": [
    {
     "name": "stdout",
     "output_type": "stream",
     "text": [
      "[[1, 2], [2, 2]]\n",
      "[2, 2]\n"
     ]
    }
   ],
   "source": [
    "def solution(s, arr):\n",
    "    \n",
    "    n = len(arr)\n",
    "    d = {}\n",
    "    t = 0\n",
    "    for i in range(n):\n",
    "        t += arr[i]\n",
    "        d[i] = t\n",
    "        \n",
    "        if t == s:\n",
    "            \n",
    "        \n",
    "        \n",
    "            \n",
    "    \n",
    "#arr = [1, 2, 3, 7,0, 12,0]\n",
    "arr = [0,3,0]\n",
    "s = 3\n",
    "print(solution(s, arr))\n",
    "        \n",
    "    \n",
    "        \n",
    "        \n"
   ]
  },
  {
   "cell_type": "code",
   "execution_count": null,
   "metadata": {},
   "outputs": [],
   "source": []
  }
 ],
 "metadata": {
  "kernelspec": {
   "display_name": "Python 3",
   "language": "python",
   "name": "python3"
  },
  "language_info": {
   "codemirror_mode": {
    "name": "ipython",
    "version": 3
   },
   "file_extension": ".py",
   "mimetype": "text/x-python",
   "name": "python",
   "nbconvert_exporter": "python",
   "pygments_lexer": "ipython3",
   "version": "3.8.5"
  }
 },
 "nbformat": 4,
 "nbformat_minor": 4
}
