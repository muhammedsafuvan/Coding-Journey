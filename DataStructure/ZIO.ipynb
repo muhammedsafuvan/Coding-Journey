{
 "cells": [
  {
   "cell_type": "code",
   "execution_count": 1,
   "metadata": {},
   "outputs": [],
   "source": [
    "#3. Solid integer"
   ]
  },
  {
   "cell_type": "code",
   "execution_count": 7,
   "metadata": {},
   "outputs": [
    {
     "name": "stdout",
     "output_type": "stream",
     "text": [
      "12503\n"
     ]
    }
   ],
   "source": [
    "def solid(n):\n",
    "    ans = []\n",
    "    i = 0\n",
    "    s = 1\n",
    "    while True:\n",
    "        if len(ans)==n:\n",
    "            return ans[n-1]\n",
    "        if '0' in str(s):\n",
    "            s+=1\n",
    "        ans.append(s)\n",
    "        s += 1\n",
    "n = 10000\n",
    "print(solid(n))"
   ]
  },
  {
   "cell_type": "code",
   "execution_count": null,
   "metadata": {},
   "outputs": [],
   "source": []
  }
 ],
 "metadata": {
  "kernelspec": {
   "display_name": "Python 3",
   "language": "python",
   "name": "python3"
  },
  "language_info": {
   "codemirror_mode": {
    "name": "ipython",
    "version": 3
   },
   "file_extension": ".py",
   "mimetype": "text/x-python",
   "name": "python",
   "nbconvert_exporter": "python",
   "pygments_lexer": "ipython3",
   "version": "3.8.5"
  }
 },
 "nbformat": 4,
 "nbformat_minor": 4
}
