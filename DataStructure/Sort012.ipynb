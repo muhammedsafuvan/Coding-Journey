{
 "cells": [
  {
   "cell_type": "code",
   "execution_count": 2,
   "metadata": {},
   "outputs": [
    {
     "name": "stdout",
     "output_type": "stream",
     "text": [
      "[0, 0, 1, 1, 2, 2]\n"
     ]
    }
   ],
   "source": [
    "def sort012(arr,n):\n",
    "    l = 0\n",
    "    m = 0\n",
    "    h = n-1\n",
    "    while(m<=h):\n",
    "        if(arr[m] == 0):\n",
    "            arr[m],arr[l] = arr[l],arr[m]\n",
    "            l += 1\n",
    "            m += 1\n",
    "        elif(arr[m] == 1):\n",
    "            m += 1\n",
    "        else:\n",
    "            arr[m],arr[h] = arr[h],arr[m]\n",
    "            h -= 1\n",
    "            #m += 1\n",
    "    return arr\n",
    "arr = [0,1,2,0,1,2]\n",
    "print(sort012(arr,6))"
   ]
  },
  {
   "cell_type": "code",
   "execution_count": 4,
   "metadata": {},
   "outputs": [
    {
     "name": "stdout",
     "output_type": "stream",
     "text": [
      "[0, 0, 0, 0, 0, 0, 1, 1, 1, 1]\n"
     ]
    }
   ],
   "source": [
    "def sort01(arr,n):\n",
    "    l = 0\n",
    "    #m = 0\n",
    "    h = n-1\n",
    "    while(l<=h):\n",
    "        if(arr[l] == 1):\n",
    "            arr[l],arr[h] = arr[h],arr[l]\n",
    "            l += 1\n",
    "            h -= 1\n",
    "        elif(arr[m] == 1):\n",
    "            h -= 1\n",
    "        \n",
    "            #m += 1\n",
    "    return arr\n",
    "arr = [0,1,0,0,1,0,1,0,0,1]\n",
    "print(sort012(arr,10))"
   ]
  },
  {
   "cell_type": "code",
   "execution_count": 4,
   "metadata": {},
   "outputs": [
    {
     "name": "stdout",
     "output_type": "stream",
     "text": [
      "[2, 1, 4, 3, 6, 5]\n"
     ]
    }
   ],
   "source": [
    "def solve(l):\n",
    "    n = len(l)\n",
    "    for i in range(0,n-1,2):\n",
    "        l[i],l[i+1] = l[i+1],l[i]\n",
    "    return l\n",
    "l = [1,2,3,4,5,6]\n",
    "print(solve(l))\n",
    "        \n",
    "\n",
    "        \n",
    "    "
   ]
  },
  {
   "cell_type": "code",
   "execution_count": null,
   "metadata": {},
   "outputs": [],
   "source": []
  }
 ],
 "metadata": {
  "kernelspec": {
   "display_name": "Python 3",
   "language": "python",
   "name": "python3"
  },
  "language_info": {
   "codemirror_mode": {
    "name": "ipython",
    "version": 3
   },
   "file_extension": ".py",
   "mimetype": "text/x-python",
   "name": "python",
   "nbconvert_exporter": "python",
   "pygments_lexer": "ipython3",
   "version": "3.8.5"
  }
 },
 "nbformat": 4,
 "nbformat_minor": 4
}
