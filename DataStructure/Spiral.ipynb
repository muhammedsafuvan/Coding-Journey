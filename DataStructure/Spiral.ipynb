{
 "cells": [
  {
   "cell_type": "code",
   "execution_count": 9,
   "metadata": {},
   "outputs": [
    {
     "name": "stdout",
     "output_type": "stream",
     "text": [
      "10\n"
     ]
    }
   ],
   "source": [
    "def spiral(mat,r,c,n):\n",
    "    \n",
    "    res = []\n",
    "    cs, rs = 0, 0\n",
    "    \n",
    "    while(cs < c and rs < r):\n",
    "        \n",
    "        for i in range(cs,c):\n",
    "            res.append(mat[rs][i])\n",
    "        rs += 1\n",
    "        \n",
    "        for i in range(rs,r):\n",
    "            res.append(mat[i][c-1])\n",
    "        c -= 1\n",
    "        \n",
    "        if(rs < r):\n",
    "            for i in range(c-1,cs-1,-1):\n",
    "                res.append(mat[r-1][i])\n",
    "            r -= 1\n",
    "        \n",
    "        if(cs < c):\n",
    "            for i in range(r-1,rs-1,-1):\n",
    "                res.append(mat[i][cs])\n",
    "            cs += 1\n",
    "    return res[n-1]\n",
    "        \n",
    "            \n",
    "        \n",
    "        \n",
    "            \n",
    "            \n",
    "mat = [[1,2,3,4],\n",
    "      [5,6,7,8],\n",
    "      [9,10,11,12],\n",
    "      [13,14,15,16]]\n",
    "print(spiral(mat,4,4,16))\n"
   ]
  },
  {
   "cell_type": "code",
   "execution_count": 16,
   "metadata": {},
   "outputs": [
    {
     "name": "stdout",
     "output_type": "stream",
     "text": [
      "[1, 2, 3, 6, 9, 8, 7, 4, 5]\n"
     ]
    }
   ],
   "source": [
    "def findK(arr, m, n, q):\n",
    "    #Code here\n",
    "    k,l = 0,0\n",
    "    ans = []\n",
    "    while(k<m and l<n):\n",
    "        for i in range(l,n):\n",
    "            ans.append(arr[k][i])\n",
    "        k += 1\n",
    "        \n",
    "        for i in range(k,m):\n",
    "            ans.append(arr[i][n-1])\n",
    "        n -= 1\n",
    "        \n",
    "        if(k<m):\n",
    "            for i in range(n-1,l-1,-1):\n",
    "                ans.append(arr[m-1][i])\n",
    "            m -= 1\n",
    "        \n",
    "        if(l<n):\n",
    "            for i in range(m-1,k-1,-1):\n",
    "                ans.append(arr[i][l])\n",
    "            l += 1\n",
    "    return ans\n",
    "\n",
    "arr = [[1,2,3],\n",
    "      [4,5,6],\n",
    "      [7,8,9]]\n",
    "print(findK(arr,3,3,9))"
   ]
  },
  {
   "cell_type": "code",
   "execution_count": null,
   "metadata": {},
   "outputs": [],
   "source": [
    "#path from top left to bottom right"
   ]
  },
  {
   "cell_type": "code",
   "execution_count": 38,
   "metadata": {},
   "outputs": [
    {
     "name": "stdout",
     "output_type": "stream",
     "text": [
      "6\n"
     ]
    }
   ],
   "source": [
    " def path(r,c):\n",
    "        if(r == 1 or c == 1):\n",
    "            return 1\n",
    "        else:\n",
    "            return (path(r-1,c) + path(r,c-1))\n",
    "print(path(3,3))"
   ]
  },
  {
   "cell_type": "code",
   "execution_count": 18,
   "metadata": {},
   "outputs": [
    {
     "name": "stdout",
     "output_type": "stream",
     "text": [
      "24\n"
     ]
    }
   ],
   "source": [
    "def f(x):\n",
    "    while(x>0):\n",
    "        if(x == 1):\n",
    "            return 1\n",
    "        else:\n",
    "            return x*f(x-1)\n",
    "        x -= 1\n",
    "        \n",
    "print(f(4))"
   ]
  },
  {
   "cell_type": "code",
   "execution_count": 42,
   "metadata": {},
   "outputs": [
    {
     "name": "stdout",
     "output_type": "stream",
     "text": [
      "360\n"
     ]
    }
   ],
   "source": [
    "def substrCount (s, k):\n",
    "        # your code here\n",
    "        f = 0\n",
    "        ans = 1\n",
    "        for i in range(len(s)-1):\n",
    "            if(s[i]==s[i+1]):\n",
    "                f += 1\n",
    "        if(k > len(s)//2):\n",
    "            for i in range(len(s),k-1,-1):\n",
    "                ans *= i\n",
    "        else:\n",
    "            for i in range(len(s),len(s)- k-1,-1):\n",
    "                ans *= i\n",
    "            \n",
    "        for i in range(1,k+1):\n",
    "            ans //= i\n",
    "        res = ans + f\n",
    "        return res\n",
    "s = \"umeaylnlfd\"\n",
    "print(substrCount(s,2))"
   ]
  },
  {
   "cell_type": "code",
   "execution_count": null,
   "metadata": {},
   "outputs": [],
   "source": []
  }
 ],
 "metadata": {
  "kernelspec": {
   "display_name": "Python 3",
   "language": "python",
   "name": "python3"
  },
  "language_info": {
   "codemirror_mode": {
    "name": "ipython",
    "version": 3
   },
   "file_extension": ".py",
   "mimetype": "text/x-python",
   "name": "python",
   "nbconvert_exporter": "python",
   "pygments_lexer": "ipython3",
   "version": "3.8.5"
  }
 },
 "nbformat": 4,
 "nbformat_minor": 4
}
