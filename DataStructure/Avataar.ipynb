{
 "cells": [
  {
   "cell_type": "code",
   "execution_count": 3,
   "metadata": {},
   "outputs": [
    {
     "name": "stdout",
     "output_type": "stream",
     "text": [
      "5\n"
     ]
    }
   ],
   "source": [
    "def countPrimeMultiples (p, L, R):\n",
    "    # Write your code here\n",
    "    factors = []\n",
    "    count = 0\n",
    "    for i in range(L,R+1):\n",
    "        if i%p == 0:\n",
    "            factors.append(i)\n",
    "    for i in factors:\n",
    "        num = str(i)\n",
    "        num = num[::-1]\n",
    "#         print(num)\n",
    "        t = 0\n",
    "        for j in range(len(num)):\n",
    "            if j%2 == 0 and int(num[j])%2 == 1:\n",
    "                t += 1\n",
    "            if j%2 == 1 and int(num[j])%2 == 0:\n",
    "                t += 1\n",
    "        if t == len(num):\n",
    "            count += 1\n",
    "    return count%1000000007\n",
    "p = 37\n",
    "L = 100\n",
    "R = 2500\n",
    "print(countPrimeMultiples (p, L, R))\n"
   ]
  },
  {
   "cell_type": "code",
   "execution_count": 8,
   "metadata": {},
   "outputs": [
    {
     "name": "stdout",
     "output_type": "stream",
     "text": [
      "2\n",
      "z\n",
      "2\n",
      "3\n",
      "bc\n",
      "None\n"
     ]
    }
   ],
   "source": [
    "def count(S,d):\n",
    "    A = \"zabcdefghijklmnopqrstuvwxyza\"\n",
    "    for i in range(1,len(S)+1):\n",
    "        w = S[:i]\n",
    "        l = \"\"\n",
    "        for j in w:\n",
    "            print(A.index(j)+1)\n",
    "            if d[i] == 1:\n",
    "                l += A[A.index(j)+1]\n",
    "            if d[i] == -1:\n",
    "                l += A[A.index(j)-1]\n",
    "                \n",
    "        print(l)\n",
    "S = \"ab\"\n",
    "d = [1,-1,1,-1]\n",
    "print(count(S,d))\n",
    "                "
   ]
  },
  {
   "cell_type": "code",
   "execution_count": null,
   "metadata": {},
   "outputs": [],
   "source": []
  }
 ],
 "metadata": {
  "kernelspec": {
   "display_name": "Python 3",
   "language": "python",
   "name": "python3"
  },
  "language_info": {
   "codemirror_mode": {
    "name": "ipython",
    "version": 3
   },
   "file_extension": ".py",
   "mimetype": "text/x-python",
   "name": "python",
   "nbconvert_exporter": "python",
   "pygments_lexer": "ipython3",
   "version": "3.8.5"
  }
 },
 "nbformat": 4,
 "nbformat_minor": 4
}
