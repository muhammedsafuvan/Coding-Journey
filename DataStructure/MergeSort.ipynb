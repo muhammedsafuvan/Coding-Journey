{
 "cells": [
  {
   "cell_type": "code",
   "execution_count": 7,
   "metadata": {},
   "outputs": [
    {
     "name": "stdout",
     "output_type": "stream",
     "text": [
      "[0, 1, 2, 3, 8, 9]\n"
     ]
    }
   ],
   "source": [
    "def merge(A,B):\n",
    "    (C,m,n) = ([], len(A), len(B))\n",
    "    (i,j) = 0,0\n",
    "    \n",
    "    while i+j < m+n:\n",
    "        \n",
    "        if i == m:\n",
    "            C.append(B[j])\n",
    "            j += 1\n",
    "            \n",
    "        elif j == n:\n",
    "            C.append(A[i])\n",
    "            i += 1\n",
    "            \n",
    "        elif A[i] > B[j]:\n",
    "            C.append(B[j])\n",
    "            j += 1\n",
    "        elif A[i] <= B[j]:\n",
    "            C.append(A[i])\n",
    "            i += 1\n",
    "    return C\n",
    "def mergeSort(A,left,right):\n",
    "    if right - left <=1:\n",
    "        return A[left:right]\n",
    "    \n",
    "    if right - left > 1:\n",
    "        mid = (left + right)//2\n",
    "        L = mergeSort(A,left,mid)\n",
    "        R = mergeSort(A,mid,right)\n",
    "        \n",
    "        return merge(L,R)\n",
    "            \n",
    "\n",
    "#A = list(range(0,20,2))\n",
    "#B = list(range(1,15,2))\n",
    "A = [3,1,2,8,9,0]\n",
    "\n",
    "print(mergeSort(A,0,len(A)))\n",
    "            \n",
    "        \n",
    "        "
   ]
  },
  {
   "cell_type": "code",
   "execution_count": 5,
   "metadata": {},
   "outputs": [
    {
     "name": "stdout",
     "output_type": "stream",
     "text": [
      "[1, 2, 3, 4, 6, 8]\n"
     ]
    }
   ],
   "source": [
    "def merg(A,B,n1,n2):\n",
    "    i,j,k = 0,0,0\n",
    "    ans = [0]*6\n",
    "    \n",
    "    while i < n1 and j<n1:\n",
    "        \n",
    "        if A[i] < B[j]:\n",
    "            ans[k] = A[i]\n",
    "            i += 1\n",
    "        else:\n",
    "            ans[k] = B[j]\n",
    "            j += 1\n",
    "        k += 1\n",
    "        \n",
    "        \n",
    "    while i < n1:\n",
    "        ans[k] = A[i]\n",
    "        i += 1\n",
    "        k += 1\n",
    "        \n",
    "        \n",
    "    while j < n2:\n",
    "        ans[k] = B[j]\n",
    "        j += 1\n",
    "        k += 1\n",
    "        \n",
    "    return ans\n",
    "        \n",
    "A = [1,3,6]\n",
    "B = [2,4,8]\n",
    "print(merg(A,B,3,3))\n",
    "        \n",
    "            \n",
    "        "
   ]
  },
  {
   "cell_type": "code",
   "execution_count": null,
   "metadata": {},
   "outputs": [],
   "source": []
  }
 ],
 "metadata": {
  "kernelspec": {
   "display_name": "Python 3",
   "language": "python",
   "name": "python3"
  },
  "language_info": {
   "codemirror_mode": {
    "name": "ipython",
    "version": 3
   },
   "file_extension": ".py",
   "mimetype": "text/x-python",
   "name": "python",
   "nbconvert_exporter": "python",
   "pygments_lexer": "ipython3",
   "version": "3.8.5"
  }
 },
 "nbformat": 4,
 "nbformat_minor": 4
}
