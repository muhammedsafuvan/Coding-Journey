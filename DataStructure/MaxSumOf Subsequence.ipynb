{
 "cells": [
  {
   "cell_type": "code",
   "execution_count": 3,
   "metadata": {},
   "outputs": [
    {
     "name": "stdout",
     "output_type": "stream",
     "text": [
      "3\n"
     ]
    }
   ],
   "source": [
    "def maxSum(a):\n",
    "    ans = 0\n",
    "    \n",
    "    n = len(a)\n",
    "    while n > 0:\n",
    "        val = 0\n",
    "        for i in range(n):\n",
    "            val += (i+1)*a[i]\n",
    "            ans = max(ans,val)\n",
    "           # print(ans)\n",
    "        x = min(a)\n",
    "        #print(x)\n",
    "        a.pop(a.index(x))\n",
    "        n = len(a)\n",
    "        #print(n)\n",
    "        \n",
    "        \n",
    "    return ans\n",
    "    \n",
    "a = [-1, 2, -10, 4, -20]\n",
    "#a = [1, 0, -1, 2]\n",
    "#a = [-1,2,-3]\n",
    "\n",
    "print(maxSum(a))"
   ]
  },
  {
   "cell_type": "code",
   "execution_count": null,
   "metadata": {},
   "outputs": [],
   "source": []
  }
 ],
 "metadata": {
  "kernelspec": {
   "display_name": "Python 3",
   "language": "python",
   "name": "python3"
  },
  "language_info": {
   "codemirror_mode": {
    "name": "ipython",
    "version": 3
   },
   "file_extension": ".py",
   "mimetype": "text/x-python",
   "name": "python",
   "nbconvert_exporter": "python",
   "pygments_lexer": "ipython3",
   "version": "3.8.5"
  }
 },
 "nbformat": 4,
 "nbformat_minor": 4
}
