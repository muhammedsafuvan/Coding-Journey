{
 "cells": [
  {
   "cell_type": "code",
   "execution_count": 1,
   "metadata": {},
   "outputs": [
    {
     "name": "stdout",
     "output_type": "stream",
     "text": [
      "6\n"
     ]
    }
   ],
   "source": [
    "def locate_cards(cards,query):\n",
    "    start = 0\n",
    "    end = len(cards) - 1\n",
    "    \n",
    "    while start <= end:\n",
    "        mid = (start + end)//2\n",
    "        mid_elt = cards[mid]\n",
    "        if query == mid_elt:\n",
    "            return mid\n",
    "        elif mid_elt < query:\n",
    "            end = mid -1\n",
    "        elif mid_elt > query:\n",
    "            start = mid + 1\n",
    "    return -1 \n",
    "        \n",
    "            \n",
    "            \n",
    "    \n",
    "    \n",
    "if __name__ == \"__main__\" :\n",
    "    \n",
    "    c = [9,8,7,5,3,1,0]\n",
    "    q = 0\n",
    "    \n",
    "    print(locate_cards(c,q))"
   ]
  },
  {
   "cell_type": "code",
   "execution_count": null,
   "metadata": {},
   "outputs": [],
   "source": []
  }
 ],
 "metadata": {
  "kernelspec": {
   "display_name": "Python 3",
   "language": "python",
   "name": "python3"
  },
  "language_info": {
   "codemirror_mode": {
    "name": "ipython",
    "version": 3
   },
   "file_extension": ".py",
   "mimetype": "text/x-python",
   "name": "python",
   "nbconvert_exporter": "python",
   "pygments_lexer": "ipython3",
   "version": "3.8.5"
  }
 },
 "nbformat": 4,
 "nbformat_minor": 4
}
