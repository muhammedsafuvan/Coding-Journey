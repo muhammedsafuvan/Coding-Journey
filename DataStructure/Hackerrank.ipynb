{
 "cells": [
  {
   "cell_type": "code",
   "execution_count": 1,
   "metadata": {},
   "outputs": [
    {
     "name": "stdout",
     "output_type": "stream",
     "text": [
      "YES\n"
     ]
    }
   ],
   "source": [
    "def isBalanced(s):\n",
    "    # Write your code here\n",
    "    ans = 0\n",
    "    n = len(s)\n",
    "    result = \"YES\"\n",
    "    m = n//2\n",
    "    if n%2:\n",
    "        return \"NO\"\n",
    "    for i in range(0,m):\n",
    "        \n",
    "        if s[i] != s[n-i-1]:\n",
    "            result =  \"NO\"\n",
    "            break\n",
    "    return result\n",
    "s = {}\n",
    "print(isBalanced(s))"
   ]
  },
  {
   "cell_type": "code",
   "execution_count": 7,
   "metadata": {},
   "outputs": [
    {
     "name": "stdout",
     "output_type": "stream",
     "text": [
      "NO\n"
     ]
    }
   ],
   "source": [
    "def isBalanced(s):\n",
    "    # Write your code here\n",
    "    stack = []\n",
    "    for i in range(len(s)):\n",
    "        if s[i] in \"({[\":\n",
    "            stack.append(s[i])\n",
    "        elif s[i] in \")}]\":\n",
    "            if len(stack) == 0:\n",
    "                return \"NO\"\n",
    "            else:\n",
    "                stack.pop()\n",
    "    return \"YES\" if len(s)==0 else \"NO\"\n",
    "                \n",
    "s = \"{[()]}\"\n",
    "# s = {}\n",
    "print(isBalanced(s))"
   ]
  },
  {
   "cell_type": "code",
   "execution_count": 10,
   "metadata": {},
   "outputs": [
    {
     "data": {
      "text/plain": [
       "['a', 's', 'd', 'f', 'g']"
      ]
     },
     "execution_count": 10,
     "metadata": {},
     "output_type": "execute_result"
    }
   ],
   "source": [
    "x = \"asdfgh\"\n",
    "x = list(x)\n",
    "x.pop()\n",
    "x"
   ]
  },
  {
   "cell_type": "code",
   "execution_count": null,
   "metadata": {},
   "outputs": [],
   "source": []
  }
 ],
 "metadata": {
  "kernelspec": {
   "display_name": "Python 3",
   "language": "python",
   "name": "python3"
  },
  "language_info": {
   "codemirror_mode": {
    "name": "ipython",
    "version": 3
   },
   "file_extension": ".py",
   "mimetype": "text/x-python",
   "name": "python",
   "nbconvert_exporter": "python",
   "pygments_lexer": "ipython3",
   "version": "3.8.5"
  }
 },
 "nbformat": 4,
 "nbformat_minor": 4
}
