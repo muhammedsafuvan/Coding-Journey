{
 "cells": [
  {
   "cell_type": "code",
   "execution_count": 7,
   "metadata": {},
   "outputs": [
    {
     "name": "stdout",
     "output_type": "stream",
     "text": [
      "[1, 2, 3, 3, 3, 3]\n",
      "4\n"
     ]
    }
   ],
   "source": [
    "def major(A):\n",
    "    N= len(A)\n",
    "    A.sort()\n",
    "    print(A)\n",
    "    ans,t = 0,0\n",
    "    for i in range(N-1):\n",
    "        if A[i] ==A[i+1]:\n",
    "            t +=1\n",
    "            ans = max(ans,t)\n",
    "        else:\n",
    "            t = 1\n",
    "    return ans\n",
    "A = [3,1,2,3,3,3]  \n",
    "print(major(A))"
   ]
  },
  {
   "cell_type": "code",
   "execution_count": null,
   "metadata": {},
   "outputs": [],
   "source": []
  }
 ],
 "metadata": {
  "kernelspec": {
   "display_name": "Python 3",
   "language": "python",
   "name": "python3"
  },
  "language_info": {
   "codemirror_mode": {
    "name": "ipython",
    "version": 3
   },
   "file_extension": ".py",
   "mimetype": "text/x-python",
   "name": "python",
   "nbconvert_exporter": "python",
   "pygments_lexer": "ipython3",
   "version": "3.8.5"
  }
 },
 "nbformat": 4,
 "nbformat_minor": 4
}
