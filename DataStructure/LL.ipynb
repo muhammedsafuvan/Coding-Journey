{
 "cells": [
  {
   "cell_type": "markdown",
   "metadata": {},
   "source": [
    "# Linked List"
   ]
  },
  {
   "cell_type": "code",
   "execution_count": 2,
   "metadata": {},
   "outputs": [
    {
     "name": "stdout",
     "output_type": "stream",
     "text": [
      "1\n",
      "2\n",
      "3\n"
     ]
    }
   ],
   "source": [
    "class Node:\n",
    "    \n",
    "    def __init__(self,data):\n",
    "        self.data = data\n",
    "        self.next = None\n",
    "        \n",
    "class LinkedList:\n",
    "    \n",
    "    def __init__(self):\n",
    "        self.head = None\n",
    "        \n",
    "    def printLL(self):\n",
    "        temp = self.head\n",
    "        \n",
    "        while(temp):\n",
    "            print(temp.data)\n",
    "            temp = temp.next\n",
    "            \n",
    "llist = LinkedList()\n",
    "\n",
    "llist.head = Node(1)\n",
    "sec = Node(2)\n",
    "thi = Node(3)\n",
    "\n",
    "llist.head.next = sec\n",
    "sec.next = thi\n",
    "\n",
    "llist.printLL()\n",
    "\n",
    "        \n",
    "    \n",
    "    \n",
    "    "
   ]
  },
  {
   "cell_type": "code",
   "execution_count": null,
   "metadata": {},
   "outputs": [],
   "source": [
    "#Trail"
   ]
  },
  {
   "cell_type": "code",
   "execution_count": 35,
   "metadata": {},
   "outputs": [
    {
     "name": "stdout",
     "output_type": "stream",
     "text": [
      "4\n",
      "ERROR: Index out of range\n",
      "None\n",
      "1-->2-->11-->13-->\n",
      "1-->11-->13-->\n"
     ]
    }
   ],
   "source": [
    "class Node:\n",
    "    def __init__(self,data=None):\n",
    "        self.head = data\n",
    "        self.next = None\n",
    "        \n",
    "class LinkedList:\n",
    "    def __init__(self):\n",
    "        self.head = Node()\n",
    "        \n",
    "    def append(self,data):\n",
    "        new_node = Node(data)\n",
    "        temp = self.head\n",
    "    \n",
    "        \n",
    "        while temp.next != None:\n",
    "            temp = temp.next\n",
    "            \n",
    "        temp.next = new_node\n",
    "        \n",
    "    def display(self):\n",
    "        LL = []\n",
    "        temp = self.head\n",
    "        while  temp.next != None:\n",
    "            temp = temp.next\n",
    "            LL.append((str(temp.head)+\"-->\"))\n",
    "        \n",
    "           \n",
    "            \n",
    "        print(\"\".join(LL))\n",
    "        \n",
    "    def length(self):\n",
    "        total = 0\n",
    "        temp = self.head\n",
    "        while temp.next != None :\n",
    "            total += 1\n",
    "            temp = temp.next\n",
    "        return total\n",
    "        \n",
    "    def get(self,index):\n",
    "        if index >= self.length():\n",
    "            print(\"ERROR: Index out of range\")\n",
    "            return None\n",
    "        temp = self.head\n",
    "        count = 0\n",
    "        while True:\n",
    "            \n",
    "            temp = temp.next\n",
    "            if count == index:\n",
    "                return temp.head\n",
    "            count += 1\n",
    "    def delete(self,index):\n",
    "        if index >= self.length():\n",
    "            print(\"ERROR: Index out of range\")\n",
    "            return None\n",
    "        temp = self.head\n",
    "        count = 0\n",
    "        while True:\n",
    "            last_node = temp\n",
    "            temp = temp.next\n",
    "            if count == index:\n",
    "                last_node.next = temp.next\n",
    "                return \n",
    "            count += 1\n",
    "            \n",
    "                \n",
    "        \n",
    "            \n",
    "        \n",
    "    \n",
    "L = LinkedList()\n",
    "L.append(1)\n",
    "L.append(2)\n",
    "L.append(11)\n",
    "L.append(13)\n",
    "print(L.length())\n",
    "print(L.get(8))\n",
    "L.display()\n",
    "L.delete(1)\n",
    "L.display()\n",
    "            \n",
    "        "
   ]
  },
  {
   "cell_type": "code",
   "execution_count": null,
   "metadata": {},
   "outputs": [],
   "source": []
  }
 ],
 "metadata": {
  "kernelspec": {
   "display_name": "Python 3",
   "language": "python",
   "name": "python3"
  },
  "language_info": {
   "codemirror_mode": {
    "name": "ipython",
    "version": 3
   },
   "file_extension": ".py",
   "mimetype": "text/x-python",
   "name": "python",
   "nbconvert_exporter": "python",
   "pygments_lexer": "ipython3",
   "version": "3.8.5"
  }
 },
 "nbformat": 4,
 "nbformat_minor": 4
}
