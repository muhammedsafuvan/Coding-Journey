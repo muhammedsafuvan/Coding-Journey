{
 "cells": [
  {
   "cell_type": "markdown",
   "metadata": {},
   "source": [
    "## Yogurt"
   ]
  },
  {
   "cell_type": "code",
   "execution_count": 32,
   "metadata": {},
   "outputs": [
    {
     "name": "stdout",
     "output_type": "stream",
     "text": [
      "5\n"
     ]
    }
   ],
   "source": [
    "def yogurt(A,K):\n",
    "    A.sort()\n",
    "    day = 0\n",
    "    ans = 0\n",
    "    cons_td = 0\n",
    "    \n",
    "    for i in range(len(A)):\n",
    "        if cons_td == K:\n",
    "            day += 1\n",
    "            cons_td = 0\n",
    "        if (A[i] > day):\n",
    "            ans += 1\n",
    "            cons_td += 1\n",
    "    return ans\n",
    "\n",
    "#A = [3,2,3,2,3]\n",
    "#A = [1,1]\n",
    "A = [1,1,1,7,7,7]\n",
    "K = 2\n",
    "print(yogurt(A,K))\n",
    "                "
   ]
  },
  {
   "cell_type": "code",
   "execution_count": 18,
   "metadata": {},
   "outputs": [
    {
     "name": "stdout",
     "output_type": "stream",
     "text": [
      "[1, 1, 1, 3, 4, 8, 9]\n"
     ]
    }
   ],
   "source": [
    "A = [1,1,9,8,3,4,1]\n",
    "#A = ['eas','avv','bvv']\n",
    "A.sort()\n",
    "print(A)"
   ]
  },
  {
   "cell_type": "markdown",
   "metadata": {},
   "source": [
    "# K Goodness String"
   ]
  },
  {
   "cell_type": "code",
   "execution_count": 1,
   "metadata": {},
   "outputs": [
    {
     "name": "stdout",
     "output_type": "stream",
     "text": [
      "1\n",
      "ABAA 2\n",
      "1\n"
     ]
    }
   ],
   "source": [
    "def goodness(string,target):\n",
    "    g_score = 0\n",
    "    N = len(string)\n",
    "    for i in range(N//2):\n",
    "        if string[i] != string[N-i-1]:\n",
    "            g_score += 1\n",
    "    return target - g_score\n",
    "\n",
    "#S = \"ABCAA\"\n",
    "#S = \"ABAA\"\n",
    "#K = 2\n",
    "\n",
    "T = int(input())\n",
    "for i in range(T):\n",
    "    S,K = input().split()\n",
    "    K = int(K)\n",
    "    print(goodness(S,K))\n",
    "            \n",
    "    "
   ]
  },
  {
   "cell_type": "code",
   "execution_count": 2,
   "metadata": {},
   "outputs": [
    {
     "name": "stdout",
     "output_type": "stream",
     "text": [
      "1 2\n"
     ]
    }
   ],
   "source": [
    "N,K = map(int,input().split())"
   ]
  },
  {
   "cell_type": "markdown",
   "metadata": {},
   "source": [
    "## Rabbit House"
   ]
  },
  {
   "cell_type": "code",
   "execution_count": null,
   "metadata": {},
   "outputs": [],
   "source": [
    "def solve(mat):\n",
    "    R = len(mat)\n",
    "    C = len(mat[0])\n",
    "    \n",
    "    \n",
    "    "
   ]
  },
  {
   "cell_type": "markdown",
   "metadata": {},
   "source": [
    "# Training Hrs"
   ]
  },
  {
   "cell_type": "code",
   "execution_count": null,
   "metadata": {},
   "outputs": [],
   "source": [
    "def solve(l,p):\n",
    "    ans,n = 0,len(l)\n",
    "    for i in range(0,n):\n",
    "        "
   ]
  }
 ],
 "metadata": {
  "kernelspec": {
   "display_name": "Python 3",
   "language": "python",
   "name": "python3"
  },
  "language_info": {
   "codemirror_mode": {
    "name": "ipython",
    "version": 3
   },
   "file_extension": ".py",
   "mimetype": "text/x-python",
   "name": "python",
   "nbconvert_exporter": "python",
   "pygments_lexer": "ipython3",
   "version": "3.8.5"
  }
 },
 "nbformat": 4,
 "nbformat_minor": 4
}
