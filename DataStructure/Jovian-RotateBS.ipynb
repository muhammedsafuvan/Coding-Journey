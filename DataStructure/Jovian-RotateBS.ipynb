{
 "cells": [
  {
   "cell_type": "code",
   "execution_count": null,
   "metadata": {},
   "outputs": [],
   "source": [
    "def count_rotations_binary(nums):\n",
    "    N = len(nums)\n",
    "    lo = 0\n",
    "    hi = N-1\n",
    "   \n",
    "    while lo < N:\n",
    "        mid = (lo+hi)//2\n",
    "        mid_number = nums[mid]\n",
    "        \n",
    "        # Uncomment the next line for logging the values and fixing errors.\n",
    "        #print(\"lo:\", lo, \", hi:\", hi, \", mid:\", mid, \", mid_number:\", mid_number)\n",
    "        \n",
    "        if mid > lo and mid_number < nums[mid-1]:\n",
    "            # The middle position is the answer\n",
    "            return mid\n",
    "        \n",
    "        elif mid_number < nums[lo]:\n",
    "            # Answer lies in the left half\n",
    "            hi = mid - 1  \n",
    "        \n",
    "        else:\n",
    "            # Answer lies in the right half\n",
    "            lo = mid + 1\n",
    "            \n",
    "        \n",
    "    \n",
    "    return -1\n",
    "\n",
    "if __name__ == \"__main__\" :\n",
    "\n",
    "    num = [19, 25, 29, 3, 5, 6, 7, 9, 11]\n",
    "    print(count_rotations_binary(num))"
   ]
  },
  {
   "cell_type": "code",
   "execution_count": null,
   "metadata": {},
   "outputs": [],
   "source": []
  },
  {
   "cell_type": "code",
   "execution_count": null,
   "metadata": {},
   "outputs": [],
   "source": []
  }
 ],
 "metadata": {
  "kernelspec": {
   "display_name": "Python 3",
   "language": "python",
   "name": "python3"
  },
  "language_info": {
   "codemirror_mode": {
    "name": "ipython",
    "version": 3
   },
   "file_extension": ".py",
   "mimetype": "text/x-python",
   "name": "python",
   "nbconvert_exporter": "python",
   "pygments_lexer": "ipython3",
   "version": "3.8.5"
  }
 },
 "nbformat": 4,
 "nbformat_minor": 4
}
