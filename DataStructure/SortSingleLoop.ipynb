{
 "cells": [
  {
   "cell_type": "code",
   "execution_count": 3,
   "metadata": {},
   "outputs": [
    {
     "name": "stdout",
     "output_type": "stream",
     "text": [
      "[1, 2, 0, 3]\n"
     ]
    }
   ],
   "source": [
    "def solve(a):\n",
    "    i = 0\n",
    "    n = len(a)\n",
    "    while i < n-1:\n",
    "        if a[i]>a[i+1]:\n",
    "            a[i],a[i+1]=a[i+1],a[i]\n",
    "        i += 1\n",
    "    return a\n",
    "a = [2,1,3,0]\n",
    "print(solve(a))\n",
    "        "
   ]
  },
  {
   "cell_type": "code",
   "execution_count": null,
   "metadata": {},
   "outputs": [],
   "source": []
  }
 ],
 "metadata": {
  "kernelspec": {
   "display_name": "Python 3",
   "language": "python",
   "name": "python3"
  },
  "language_info": {
   "codemirror_mode": {
    "name": "ipython",
    "version": 3
   },
   "file_extension": ".py",
   "mimetype": "text/x-python",
   "name": "python",
   "nbconvert_exporter": "python",
   "pygments_lexer": "ipython3",
   "version": "3.8.5"
  }
 },
 "nbformat": 4,
 "nbformat_minor": 4
}
