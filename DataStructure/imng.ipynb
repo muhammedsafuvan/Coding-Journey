{
 "cells": [
  {
   "cell_type": "code",
   "execution_count": 6,
   "metadata": {},
   "outputs": [
    {
     "data": {
      "image/png": "[encoded data removed]",
      "text/plain": [
       "<Figure size 432x288 with 1 Axes>"
      ]
     },
     "metadata": {
      "needs_background": "light"
     },
     "output_type": "display_data"
    }
   ],
   "source": [
    "import matplotlib.pyplot as plt\n",
    "import numpy as np\n",
    "\n",
    "x = np.array([-10,0,60,70,-10])\n",
    "y = np.array([-20,50,50,-20,-20])\n",
    "\n",
    "\n",
    "#plt.show()\n",
    "\n",
    "plt.plot(x, y)\n",
    "plt.plot(7,-5,'bo')\n",
    "plt.show()\n",
    "    "
   ]
  },
  {
   "cell_type": "code",
   "execution_count": 73,
   "metadata": {},
   "outputs": [
    {
     "name": "stdout",
     "output_type": "stream",
     "text": [
      "intercept : [50.0, 50.0, 470.0, -20.0]\n",
      "slope:  [7.0, 0.0, -7.0, -0.0, 7.0]\n",
      "inner intercept : [(156.06601717798213, -56.06601717798213), (65.0, 35.0), (576.0660171779821, 363.93398282201787), (-5.0, -35.0), (156.06601717798213, -56.06601717798213)]\n",
      "\n",
      "x intersection: [(-13.00943102542602, -17.295145311140306, 17.295145311140306, 13.00943102542602), (73.00943102542601, 42.7048546888597, 77.2951453111403, 46.99056897457398), (83.00943102542601, 87.2951453111403, 52.7048546888597, 56.99056897457398), (-23.009431025426018, 7.295145311140304, -27.295145311140306, 3.009431025426019)]\n",
      "\n",
      "y intersection: [(65.0, 34.999999999999986, 65.00000000000001, 35.0), (65.0, 65.0, 35.0, 35.0), (-5.0, -35.0, -5.0, -35.0), (-5.0, -5.0, -35.0, -35.0)]\n",
      "None\n"
     ]
    }
   ],
   "source": [
    "import math\n",
    "def solution(arr,d):\n",
    "    \n",
    "#     Slope function\n",
    "    def slope(x1,x2,y1,y2):\n",
    "        m = (y2-y1)/(x2-x1)\n",
    "        return m\n",
    "    \n",
    "# y intercept   \n",
    "    def y_intercept(y,m,x):\n",
    "        c = y- m*x\n",
    "        return c\n",
    "    \n",
    "# intercept of innerline \n",
    "    def intercept_of_innerline(d,c1,m):\n",
    "        c2 = c1 + d * math.sqrt(1+pow(m,2))\n",
    "        return c2\n",
    "   \n",
    "    N = len(arr)\n",
    "    slope_arr = []\n",
    "    intercept_arr = []\n",
    "    for i in range(N-1):\n",
    "        x1 = arr[i][0]\n",
    "        y1 = arr[i][1]\n",
    "        x2 = arr[i+1][0]\n",
    "        y2 = arr[i+1][1]\n",
    "        \n",
    "        s = slope(x1,x2,y1,y2)\n",
    "        slope_arr.append(s)\n",
    "    \n",
    "       \n",
    "#         intercept array\n",
    "    for i in range(1,N):\n",
    "        y = arr[i][1]\n",
    "        x = arr[i][0]\n",
    "        m = slope_arr[i-1]\n",
    "        c = y_intercept(y,m,x)\n",
    "        intercept_arr.append(c)\n",
    "    print(\"intercept :\",intercept_arr)\n",
    "\n",
    "    \n",
    "#     interpt array of d distance line\n",
    "\n",
    "    inner_intercept_arr = []\n",
    "    \n",
    "    for i in range(N-1):\n",
    "        c1 = intercept_arr[i]\n",
    "        m = slope_arr[i]\n",
    "        x1 = intercept_of_innerline(d,c1,m)\n",
    "        x2 = intercept_of_innerline(-d,c1,m)\n",
    "        inner_intercept_arr.append((x1,x2))\n",
    "    \n",
    "\n",
    "\n",
    "# find intesection point\n",
    "    \n",
    "  \n",
    "    \n",
    "    inner_intercept_arr += [(inner_intercept_arr[0])]\n",
    "    slope_arr.append(slope_arr[0])\n",
    "    x_intersection_arr = []\n",
    "    y_intersection_arr = []\n",
    "    print(\"slope: \",slope_arr)\n",
    "    print(\"inner intercept :\",inner_intercept_arr)\n",
    "    for i in range(len(slope_arr)-1):\n",
    "        p1 = (inner_intercept_arr[i][0] - inner_intercept_arr[i+1][0])/(slope_arr[i+1]-slope_arr[i])\n",
    "        p2 = (inner_intercept_arr[i][0] - inner_intercept_arr[i+1][1])/(slope_arr[i+1]-slope_arr[i])\n",
    "        p3 = (inner_intercept_arr[i][1] - inner_intercept_arr[i+1][0])/(slope_arr[i+1]-slope_arr[i])\n",
    "        p4 = (inner_intercept_arr[i][1] - inner_intercept_arr[i+1][1])/(slope_arr[i+1]-slope_arr[i])\n",
    "        x_intersection_arr.append((p1,p2,p3,p4))\n",
    "    \n",
    "        \n",
    "        q1 = slope_arr[i]*x_intersection_arr[i][0]+inner_intercept_arr[i][0]\n",
    "        q2 = slope_arr[i]*x_intersection_arr[i][1]+inner_intercept_arr[i][0]\n",
    "        q3 = slope_arr[i]*x_intersection_arr[i][2]+inner_intercept_arr[i][1]\n",
    "        q4 = slope_arr[i]*x_intersection_arr[i][3]+inner_intercept_arr[i][1]\n",
    "        y_intersection_arr.append((q1,q2,q3,q4))\n",
    "    print()\n",
    "    print(\"x intersection:\",x_intersection_arr)\n",
    "    print()\n",
    "    print(\"y intersection:\",y_intersection_arr)\n",
    "        \n",
    "   \n",
    "        \n",
    "        \n",
    "        \n",
    "\n",
    "\n",
    "\n",
    "\n",
    "\n",
    "\n",
    "\n",
    "arr = [(-10,-20),(0,50),(60,50),(70,-20),(-10,-20)]\n",
    "d = 15\n",
    "print(solution(arr,d))\n",
    "        \n",
    "        \n",
    "    \n",
    "\n",
    "    \n",
    "    \n",
    "\n",
    "    \n"
   ]
  },
  {
   "cell_type": "code",
   "execution_count": 78,
   "metadata": {},
   "outputs": [
    {
     "data": {
      "image/png": "[encoded data removed]",
      "text/plain": [
       "<Figure size 432x288 with 1 Axes>"
      ]
     },
     "metadata": {
      "needs_background": "light"
     },
     "output_type": "display_data"
    }
   ],
   "source": [
    "import matplotlib.pyplot as plt\n",
    "import numpy as np\n",
    "\n",
    "x = np.array([-10,0,60,70,-10])\n",
    "y = np.array([-20,50,50,-20,-20])\n",
    "# x1 = np.array([6,13,47,51,6])\n",
    "# y1 = np.array([4,35,35,5,4])\n",
    "\n",
    "p = np.array([7,52,47,13,7])\n",
    "q = np.array([-5,-5,35,35,-5])\n",
    "\n",
    "\n",
    "#plt.show()\n",
    "\n",
    "plt.plot(x, y)\n",
    "# plt.plot(x1, y1)\n",
    "plt.plot(p,q)\n",
    "plt.plot(7,-5,'bo')\n",
    "plt.plot(52,-5,'go')\n",
    "plt.plot(47,35,'ro')\n",
    "plt.plot(13,35,'yo')\n",
    "plt.show()\n",
    "    "
   ]
  },
  {
   "cell_type": "code",
   "execution_count": 44,
   "metadata": {},
   "outputs": [
    {
     "data": {
      "image/png": "[encoded data removed]",
      "text/plain": [
       "<Figure size 432x288 with 1 Axes>"
      ]
     },
     "metadata": {
      "needs_background": "light"
     },
     "output_type": "display_data"
    }
   ],
   "source": [
    "import matplotlib.pyplot as plt\n",
    "import numpy as np\n",
    "\n",
    "x = np.array([-10,0,60,70,-10])\n",
    "y = np.array([-20,50,50,-20,-20])\n",
    "x1 = np.array([6,13,47,51,6])\n",
    "y1 = np.array([4,35,35,5,4])\n",
    "\n",
    "\n",
    "#plt.show()\n",
    "\n",
    "# plt.plot(x, y)\n",
    "plt.plot(x1, y1)\n",
    "# plt.plot(47,35,'bo')\n",
    "# plt.plot(6,4,'go')\n",
    "# plt.plot(51,5,'ro')\n",
    "# plt.plot(13,35,'yo')\n",
    "plt.show()\n",
    "    "
   ]
  },
  {
   "cell_type": "code",
   "execution_count": 31,
   "metadata": {},
   "outputs": [
    {
     "data": {
      "text/plain": [
       "-56.06601717798213"
      ]
     },
     "execution_count": 31,
     "metadata": {},
     "output_type": "execute_result"
    }
   ],
   "source": [
    "-75*pow(2,0.5)+50"
   ]
  },
  {
   "cell_type": "code",
   "execution_count": 43,
   "metadata": {},
   "outputs": [
    {
     "data": {
      "text/plain": [
       "47.0"
      ]
     },
     "execution_count": 43,
     "metadata": {},
     "output_type": "execute_result"
    }
   ],
   "source": [
    "329/7"
   ]
  },
  {
   "cell_type": "code",
   "execution_count": 52,
   "metadata": {},
   "outputs": [
    {
     "data": {
      "text/plain": [
       "-17.285714285714285"
      ]
     },
     "execution_count": 52,
     "metadata": {},
     "output_type": "execute_result"
    }
   ],
   "source": [
    "(35-156)/7"
   ]
  },
  {
   "cell_type": "code",
   "execution_count": 68,
   "metadata": {},
   "outputs": [
    {
     "data": {
      "text/plain": [
       "5.857142857142857"
      ]
     },
     "execution_count": 68,
     "metadata": {},
     "output_type": "execute_result"
    }
   ],
   "source": [
    "41/7"
   ]
  },
  {
   "cell_type": "code",
   "execution_count": 79,
   "metadata": {},
   "outputs": [
    {
     "ename": "ZeroDivisionError",
     "evalue": "division by zero",
     "output_type": "error",
     "traceback": [
      "\u001b[0;31m---------------------------------------------------------------------------\u001b[0m",
      "\u001b[0;31mZeroDivisionError\u001b[0m                         Traceback (most recent call last)",
      "\u001b[0;32m<ipython-input-79-1a93bac8b39b>\u001b[0m in \u001b[0;36m<module>\u001b[0;34m\u001b[0m\n\u001b[1;32m     94\u001b[0m \u001b[0marr\u001b[0m \u001b[0;34m=\u001b[0m \u001b[0;34m[\u001b[0m\u001b[0;34m(\u001b[0m\u001b[0;34m-\u001b[0m\u001b[0;36m10\u001b[0m\u001b[0;34m,\u001b[0m\u001b[0;34m-\u001b[0m\u001b[0;36m10\u001b[0m\u001b[0;34m)\u001b[0m\u001b[0;34m,\u001b[0m\u001b[0;34m(\u001b[0m\u001b[0;34m-\u001b[0m\u001b[0;36m10\u001b[0m\u001b[0;34m,\u001b[0m\u001b[0;36m10\u001b[0m\u001b[0;34m)\u001b[0m\u001b[0;34m,\u001b[0m\u001b[0;34m(\u001b[0m\u001b[0;36m10\u001b[0m\u001b[0;34m,\u001b[0m\u001b[0;36m10\u001b[0m\u001b[0;34m)\u001b[0m\u001b[0;34m,\u001b[0m\u001b[0;34m(\u001b[0m\u001b[0;36m10\u001b[0m\u001b[0;34m,\u001b[0m\u001b[0;34m-\u001b[0m\u001b[0;36m10\u001b[0m\u001b[0;34m)\u001b[0m\u001b[0;34m,\u001b[0m\u001b[0;34m(\u001b[0m\u001b[0;34m-\u001b[0m\u001b[0;36m10\u001b[0m\u001b[0;34m,\u001b[0m\u001b[0;34m-\u001b[0m\u001b[0;36m10\u001b[0m\u001b[0;34m)\u001b[0m\u001b[0;34m]\u001b[0m\u001b[0;34m\u001b[0m\u001b[0;34m\u001b[0m\u001b[0m\n\u001b[1;32m     95\u001b[0m \u001b[0md\u001b[0m \u001b[0;34m=\u001b[0m \u001b[0;36m2\u001b[0m\u001b[0;34m\u001b[0m\u001b[0;34m\u001b[0m\u001b[0m\n\u001b[0;32m---> 96\u001b[0;31m \u001b[0mprint\u001b[0m\u001b[0;34m(\u001b[0m\u001b[0msolution\u001b[0m\u001b[0;34m(\u001b[0m\u001b[0marr\u001b[0m\u001b[0;34m,\u001b[0m\u001b[0md\u001b[0m\u001b[0;34m)\u001b[0m\u001b[0;34m)\u001b[0m\u001b[0;34m\u001b[0m\u001b[0;34m\u001b[0m\u001b[0m\n\u001b[0m\u001b[1;32m     97\u001b[0m \u001b[0;34m\u001b[0m\u001b[0m\n\u001b[1;32m     98\u001b[0m \u001b[0;34m\u001b[0m\u001b[0m\n",
      "\u001b[0;32m<ipython-input-79-1a93bac8b39b>\u001b[0m in \u001b[0;36msolution\u001b[0;34m(arr, d)\u001b[0m\n\u001b[1;32m     26\u001b[0m         \u001b[0my2\u001b[0m \u001b[0;34m=\u001b[0m \u001b[0marr\u001b[0m\u001b[0;34m[\u001b[0m\u001b[0mi\u001b[0m\u001b[0;34m+\u001b[0m\u001b[0;36m1\u001b[0m\u001b[0;34m]\u001b[0m\u001b[0;34m[\u001b[0m\u001b[0;36m1\u001b[0m\u001b[0;34m]\u001b[0m\u001b[0;34m\u001b[0m\u001b[0;34m\u001b[0m\u001b[0m\n\u001b[1;32m     27\u001b[0m \u001b[0;34m\u001b[0m\u001b[0m\n\u001b[0;32m---> 28\u001b[0;31m         \u001b[0ms\u001b[0m \u001b[0;34m=\u001b[0m \u001b[0mslope\u001b[0m\u001b[0;34m(\u001b[0m\u001b[0mx1\u001b[0m\u001b[0;34m,\u001b[0m\u001b[0mx2\u001b[0m\u001b[0;34m,\u001b[0m\u001b[0my1\u001b[0m\u001b[0;34m,\u001b[0m\u001b[0my2\u001b[0m\u001b[0;34m)\u001b[0m\u001b[0;34m\u001b[0m\u001b[0;34m\u001b[0m\u001b[0m\n\u001b[0m\u001b[1;32m     29\u001b[0m         \u001b[0mslope_arr\u001b[0m\u001b[0;34m.\u001b[0m\u001b[0mappend\u001b[0m\u001b[0;34m(\u001b[0m\u001b[0ms\u001b[0m\u001b[0;34m)\u001b[0m\u001b[0;34m\u001b[0m\u001b[0;34m\u001b[0m\u001b[0m\n\u001b[1;32m     30\u001b[0m \u001b[0;34m\u001b[0m\u001b[0m\n",
      "\u001b[0;32m<ipython-input-79-1a93bac8b39b>\u001b[0m in \u001b[0;36mslope\u001b[0;34m(x1, x2, y1, y2)\u001b[0m\n\u001b[1;32m      4\u001b[0m \u001b[0;31m#     Slope function\u001b[0m\u001b[0;34m\u001b[0m\u001b[0;34m\u001b[0m\u001b[0;34m\u001b[0m\u001b[0m\n\u001b[1;32m      5\u001b[0m     \u001b[0;32mdef\u001b[0m \u001b[0mslope\u001b[0m\u001b[0;34m(\u001b[0m\u001b[0mx1\u001b[0m\u001b[0;34m,\u001b[0m\u001b[0mx2\u001b[0m\u001b[0;34m,\u001b[0m\u001b[0my1\u001b[0m\u001b[0;34m,\u001b[0m\u001b[0my2\u001b[0m\u001b[0;34m)\u001b[0m\u001b[0;34m:\u001b[0m\u001b[0;34m\u001b[0m\u001b[0;34m\u001b[0m\u001b[0m\n\u001b[0;32m----> 6\u001b[0;31m         \u001b[0mm\u001b[0m \u001b[0;34m=\u001b[0m \u001b[0;34m(\u001b[0m\u001b[0my2\u001b[0m\u001b[0;34m-\u001b[0m\u001b[0my1\u001b[0m\u001b[0;34m)\u001b[0m\u001b[0;34m/\u001b[0m\u001b[0;34m(\u001b[0m\u001b[0mx2\u001b[0m\u001b[0;34m-\u001b[0m\u001b[0mx1\u001b[0m\u001b[0;34m)\u001b[0m\u001b[0;34m\u001b[0m\u001b[0;34m\u001b[0m\u001b[0m\n\u001b[0m\u001b[1;32m      7\u001b[0m         \u001b[0;32mreturn\u001b[0m \u001b[0mm\u001b[0m\u001b[0;34m\u001b[0m\u001b[0;34m\u001b[0m\u001b[0m\n\u001b[1;32m      8\u001b[0m \u001b[0;34m\u001b[0m\u001b[0m\n",
      "\u001b[0;31mZeroDivisionError\u001b[0m: division by zero"
     ]
    }
   ],
   "source": [
    "import math\n",
    "def solution(arr,d):\n",
    "    \n",
    "#     Slope function\n",
    "    def slope(x1,x2,y1,y2):\n",
    "        m = (y2-y1)/(x2-x1)\n",
    "        return m\n",
    "    \n",
    "# y intercept   \n",
    "    def y_intercept(y,m,x):\n",
    "        c = y- m*x\n",
    "        return c\n",
    "    \n",
    "# intercept of innerline \n",
    "    def intercept_of_innerline(d,c1,m):\n",
    "        c2 = c1 + d * math.sqrt(1+pow(m,2))\n",
    "        return c2\n",
    "   \n",
    "    N = len(arr)\n",
    "    slope_arr = []\n",
    "    intercept_arr = []\n",
    "    for i in range(N-1):\n",
    "        x1 = arr[i][0]\n",
    "        y1 = arr[i][1]\n",
    "        x2 = arr[i+1][0]\n",
    "        y2 = arr[i+1][1]\n",
    "        \n",
    "        s = slope(x1,x2,y1,y2)\n",
    "        slope_arr.append(s)\n",
    "    \n",
    "       \n",
    "#         intercept array\n",
    "    for i in range(1,N):\n",
    "        y = arr[i][1]\n",
    "        x = arr[i][0]\n",
    "        m = slope_arr[i-1]\n",
    "        c = y_intercept(y,m,x)\n",
    "        intercept_arr.append(c)\n",
    "    print(\"intercept :\",intercept_arr)\n",
    "\n",
    "    \n",
    "#     interpt array of d distance line\n",
    "\n",
    "    inner_intercept_arr = []\n",
    "    \n",
    "    for i in range(N-1):\n",
    "        c1 = intercept_arr[i]\n",
    "        m = slope_arr[i]\n",
    "        x1 = intercept_of_innerline(d,c1,m)\n",
    "        x2 = intercept_of_innerline(-d,c1,m)\n",
    "        inner_intercept_arr.append((x1,x2))\n",
    "    \n",
    "\n",
    "\n",
    "# find intesection point\n",
    "    \n",
    "  \n",
    "    \n",
    "    inner_intercept_arr += [(inner_intercept_arr[0])]\n",
    "    slope_arr.append(slope_arr[0])\n",
    "    x_intersection_arr = []\n",
    "    y_intersection_arr = []\n",
    "    print(\"slope: \",slope_arr)\n",
    "    print(\"inner intercept :\",inner_intercept_arr)\n",
    "    for i in range(len(slope_arr)-1):\n",
    "        p1 = (inner_intercept_arr[i][0] - inner_intercept_arr[i+1][0])/(slope_arr[i+1]-slope_arr[i])\n",
    "        p2 = (inner_intercept_arr[i][0] - inner_intercept_arr[i+1][1])/(slope_arr[i+1]-slope_arr[i])\n",
    "        p3 = (inner_intercept_arr[i][1] - inner_intercept_arr[i+1][0])/(slope_arr[i+1]-slope_arr[i])\n",
    "        p4 = (inner_intercept_arr[i][1] - inner_intercept_arr[i+1][1])/(slope_arr[i+1]-slope_arr[i])\n",
    "        x_intersection_arr.append((p1,p2,p3,p4))\n",
    "    \n",
    "        \n",
    "        q1 = slope_arr[i]*x_intersection_arr[i][0]+inner_intercept_arr[i][0]\n",
    "        q2 = slope_arr[i]*x_intersection_arr[i][1]+inner_intercept_arr[i][0]\n",
    "        q3 = slope_arr[i]*x_intersection_arr[i][2]+inner_intercept_arr[i][1]\n",
    "        q4 = slope_arr[i]*x_intersection_arr[i][3]+inner_intercept_arr[i][1]\n",
    "        y_intersection_arr.append((q1,q2,q3,q4))\n",
    "    print()\n",
    "    print(\"x intersection:\",x_intersection_arr)\n",
    "    print()\n",
    "    print(\"y intersection:\",y_intersection_arr)\n",
    "        \n",
    "   \n",
    "        \n",
    "        \n",
    "        \n",
    "\n",
    "\n",
    "\n",
    "\n",
    "\n",
    "\n",
    "\n",
    "arr = [(-10,-10),(-10,10),(10,10),(10,-10),(-10,-10)]\n",
    "d = 2\n",
    "print(solution(arr,d))\n",
    "        \n",
    "        \n",
    "    \n",
    "\n",
    "    \n",
    "    \n",
    "\n",
    "    \n"
   ]
  },
  {
   "cell_type": "code",
   "execution_count": null,
   "metadata": {},
   "outputs": [],
   "source": []
  }
 ],
 "metadata": {
  "kernelspec": {
   "display_name": "Python 3",
   "language": "python",
   "name": "python3"
  },
  "language_info": {
   "codemirror_mode": {
    "name": "ipython",
    "version": 3
   },
   "file_extension": ".py",
   "mimetype": "text/x-python",
   "name": "python",
   "nbconvert_exporter": "python",
   "pygments_lexer": "ipython3",
   "version": "3.8.5"
  }
 },
 "nbformat": 4,
 "nbformat_minor": 4
}
