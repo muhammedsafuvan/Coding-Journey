{
 "cells": [
  {
   "cell_type": "code",
   "execution_count": 1,
   "metadata": {},
   "outputs": [],
   "source": [
    "# Longest increasing subsequence"
   ]
  },
  {
   "cell_type": "code",
   "execution_count": 3,
   "metadata": {},
   "outputs": [
    {
     "name": "stdout",
     "output_type": "stream",
     "text": [
      "[[10], [], [10, 22], [10], [10, 22, 33], [10, 22, 33], [10, 22, 33, 50]]\n"
     ]
    }
   ],
   "source": [
    "def LIS(A):\n",
    "    n = len(A)\n",
    "    length = [1]*n\n",
    "    ans = []\n",
    "    for i in range(1,n):\n",
    "        t = []\n",
    "        for j in range(i):\n",
    "            if A[i] > A[j] and length[i] < length[j]+1:\n",
    "                length[i] += 1\n",
    "                t.append(A[j])\n",
    "        ans.append(t)\n",
    "    return ans\n",
    "                \n",
    "        \n",
    "        \n",
    "A = [10,22,9,33,21,50,41,60]\n",
    "print(LIS(A))\n",
    "    "
   ]
  },
  {
   "cell_type": "code",
   "execution_count": 4,
   "metadata": {},
   "outputs": [],
   "source": [
    "# Trapping rain water"
   ]
  },
  {
   "cell_type": "code",
   "execution_count": 6,
   "metadata": {},
   "outputs": [
    {
     "name": "stdout",
     "output_type": "stream",
     "text": [
      "10\n"
     ]
    }
   ],
   "source": [
    "def trappingWater(arr,n):\n",
    "    \n",
    "    left = [0]*n\n",
    "    right = [0]*n\n",
    "    \n",
    "    left[0] = arr[0]\n",
    "    for i in range(1,n):\n",
    "        left[i] = max(left[i-1],arr[i])\n",
    "    \n",
    "    \n",
    "    right[n-1] = arr[n-1]\n",
    "    for i in range(n-2,-1,-1):\n",
    "        right[i] = max(right[i+1],arr[i])\n",
    "        \n",
    "    ans = 0\n",
    "    for i in range(n):\n",
    "        ans += min(left[i],right[i]) -arr[i]\n",
    "    \n",
    "    return ans\n",
    "\n",
    "arr = [7,4,0,9]\n",
    "n = 4\n",
    "print(trappingWater(arr,n))"
   ]
  },
  {
   "cell_type": "code",
   "execution_count": null,
   "metadata": {},
   "outputs": [],
   "source": [
    "\n"
   ]
  },
  {
   "cell_type": "code",
   "execution_count": 9,
   "metadata": {},
   "outputs": [
    {
     "data": {
      "text/plain": [
       "1"
      ]
     },
     "execution_count": 9,
     "metadata": {},
     "output_type": "execute_result"
    }
   ],
   "source": [
    "s = [3,1]\n",
    "m = max(s)\n",
    "s.pop(s.index(m))\n",
    "\n",
    "s\n",
    "m = max(s)\n",
    "s.pop(s.index(m))"
   ]
  },
  {
   "cell_type": "code",
   "execution_count": 2,
   "metadata": {},
   "outputs": [],
   "source": [
    "# kadanes alg"
   ]
  },
  {
   "cell_type": "code",
   "execution_count": 9,
   "metadata": {},
   "outputs": [
    {
     "name": "stdout",
     "output_type": "stream",
     "text": [
      "9\n"
     ]
    }
   ],
   "source": [
    "def kadane(arr):\n",
    "    if arr[0] < 0:\n",
    "        cur = ans = arr[0]\n",
    "    else:\n",
    "        cur = ans = 0\n",
    "        \n",
    "    for i in range(len(arr)):\n",
    "        cur = max(arr[i],cur+arr[i])\n",
    "        if cur > ans:\n",
    "            ans = cur\n",
    "    return ans\n",
    "Arr = [1,2,3,-2,5]\n",
    "#Arr = [-1,-2,-3,-4]\n",
    "print(kadane(Arr))"
   ]
  },
  {
   "cell_type": "code",
   "execution_count": 11,
   "metadata": {},
   "outputs": [
    {
     "name": "stdout",
     "output_type": "stream",
     "text": [
      "5\n"
     ]
    }
   ],
   "source": [
    "def maxLen(n, arr):\n",
    "        #Code here\n",
    "        res = {}\n",
    "        ans = 0\n",
    "        for i in range(n):\n",
    "            cur = 0\n",
    "            for j in range(i,n):\n",
    "                cur += arr[j]\n",
    "                if cur == 0:\n",
    "                    ans = max(ans,j-i+1)\n",
    "        return ans\n",
    "N = 8\n",
    "A = [15,-2,2,-8,1,7,10,23]\n",
    "print(maxLen(N,A))"
   ]
  },
  {
   "cell_type": "code",
   "execution_count": 19,
   "metadata": {},
   "outputs": [
    {
     "name": "stdout",
     "output_type": "stream",
     "text": [
      "5\n"
     ]
    }
   ],
   "source": [
    "def maxL(n,arr):\n",
    "    s = {}\n",
    "    res = cur = 0\n",
    "    for i in range(n):\n",
    "        cur += arr[i]\n",
    "        \n",
    "        \n",
    "        if cur == 0:\n",
    "            res = i+1\n",
    "        \n",
    "        if cur in s:\n",
    "            res = max(res,i - s[cur])\n",
    "        else:\n",
    "            s[cur] = i\n",
    "        \n",
    "    \n",
    "    return res\n",
    "N = 8\n",
    "A = [15,-2,2,-8,1,7,10,23]\n",
    "print(maxL(N,A))\n",
    "    "
   ]
  },
  {
   "cell_type": "code",
   "execution_count": null,
   "metadata": {},
   "outputs": [],
   "source": []
  },
  {
   "cell_type": "code",
   "execution_count": null,
   "metadata": {},
   "outputs": [],
   "source": []
  }
 ],
 "metadata": {
  "kernelspec": {
   "display_name": "Python 3",
   "language": "python",
   "name": "python3"
  },
  "language_info": {
   "codemirror_mode": {
    "name": "ipython",
    "version": 3
   },
   "file_extension": ".py",
   "mimetype": "text/x-python",
   "name": "python",
   "nbconvert_exporter": "python",
   "pygments_lexer": "ipython3",
   "version": "3.8.5"
  }
 },
 "nbformat": 4,
 "nbformat_minor": 4
}
