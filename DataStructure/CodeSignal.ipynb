{
 "cells": [
  {
   "cell_type": "code",
   "execution_count": 16,
   "metadata": {},
   "outputs": [
    {
     "name": "stdout",
     "output_type": "stream",
     "text": [
      "True\n"
     ]
    },
    {
     "data": {
      "text/plain": [
       "False"
      ]
     },
     "execution_count": 16,
     "metadata": {},
     "output_type": "execute_result"
    }
   ],
   "source": [
    "def isIPv4Address(inputString):\n",
    "    ip = inputString.split('.')\n",
    "    n = len(ip)\n",
    "    c =0\n",
    "    if n == 4:\n",
    "        for i in range(n):\n",
    "            if len(ip[i] ) <=3 and ip[i].isnumeric():\n",
    "                if int(ip[i]) <= 255:\n",
    "                    c += 1\n",
    "            \n",
    "            return False\n",
    "    if c==4:\n",
    "        return True\n",
    "    return False\n",
    "        \n",
    "\n",
    "s = \"0.24.25.1\"\n",
    "isIPv4Address(s)\n",
    "#print(isIPv4Address(s))"
   ]
  },
  {
   "cell_type": "code",
   "execution_count": 10,
   "metadata": {},
   "outputs": [
    {
     "data": {
      "text/plain": [
       "False"
      ]
     },
     "execution_count": 10,
     "metadata": {},
     "output_type": "execute_result"
    }
   ],
   "source": [
    "x = \"12a\"\n",
    "x.isnumeric()"
   ]
  },
  {
   "cell_type": "code",
   "execution_count": 6,
   "metadata": {},
   "outputs": [
    {
     "name": "stdout",
     "output_type": "stream",
     "text": [
      "[[1, 1, 1], [1, 7, 1], [1, 1, 1]]\n",
      "[15]\n"
     ]
    }
   ],
   "source": [
    "def Sum(mat):\n",
    "        ans = []\n",
    "        an = 0\n",
    "        for i in range(3):\n",
    "            t = 0\n",
    "            x = []\n",
    "            for j in range(3):\n",
    "                t += mat[i][j]\n",
    "                \n",
    "            an += t\n",
    "            \n",
    "        ans.append(an)\n",
    "        \n",
    "        return ans\n",
    "    \n",
    "image = [[1, 1, 1], \n",
    "         [1, 7, 1], \n",
    "         [1, 1, 1]]\n",
    "print(Sum(image))\n"
   ]
  },
  {
   "cell_type": "code",
   "execution_count": 24,
   "metadata": {},
   "outputs": [
    {
     "name": "stdout",
     "output_type": "stream",
     "text": [
      "65\n"
     ]
    }
   ],
   "source": [
    "mat = [[7, 4, 0, 1], \n",
    "     [5, 6, 2, 2], \n",
    "     [6, 10, 7, 8], \n",
    "     [1, 4, 2, 0]]\n",
    "z = [(mat[i][j]) for i in range(4) for j in range(4)]\n",
    "print(sum(z))\n",
    "#print(mat[3][2])"
   ]
  },
  {
   "cell_type": "code",
   "execution_count": 4,
   "metadata": {},
   "outputs": [
    {
     "name": "stdout",
     "output_type": "stream",
     "text": [
      "[[5, 4], [4, 4]]\n"
     ]
    }
   ],
   "source": [
    "def boxBlur(image):\n",
    "    row = len(image)\n",
    "    col = len(image[0])\n",
    "    \n",
    "    i,j = 0,0\n",
    "    ans = []\n",
    "    temp = []\n",
    "    while i <= row-3:\n",
    "        sum = 0;\n",
    "        for k in range(3):\n",
    "            for l in range(3):\n",
    "                sum = sum + image[i+k][j+l]\n",
    "        temp.append(sum//9)\n",
    "        j=j+1\n",
    "        if(j > col-3):\n",
    "            j=0\n",
    "            i=i+1\n",
    "            ans.append(temp)\n",
    "            temp = []\n",
    "    return ans\n",
    "\n",
    "mat = [[7, 4, 0, 1], \n",
    "     [5, 6, 2, 2], \n",
    "     [6, 10, 7, 8], \n",
    "     [1, 4, 2, 0]]\n",
    "#mat = [[1, 1, 1], \n",
    "         #[1, 7, 1], \n",
    "         #[1, 1, 1]]\n",
    "print(boxBlur(mat))"
   ]
  },
  {
   "cell_type": "code",
   "execution_count": 4,
   "metadata": {},
   "outputs": [
    {
     "name": "stdout",
     "output_type": "stream",
     "text": [
      "[[1, 1, 1], [1, 1, 1], [1, 1, 1]]\n"
     ]
    }
   ],
   "source": [
    "n = 3\n",
    "ans = [[1]*n]*n\n",
    "print(ans)"
   ]
  },
  {
   "cell_type": "code",
   "execution_count": 2,
   "metadata": {},
   "outputs": [
    {
     "name": "stdout",
     "output_type": "stream",
     "text": [
      "['af', 'ar', 'ff', 'gf', 'hf']\n"
     ]
    }
   ],
   "source": [
    "#a = [\"aba\", \"bbb\", \"bab\"]\n",
    "#a = [\"ab\", \"bb\", \"aa\"]\n",
    "a = [\"ff\", \n",
    " \"gf\", \n",
    " \"af\", \n",
    " \"ar\", \n",
    " \"hf\"]\n",
    "a.sort()\n",
    "print(a)"
   ]
  },
  {
   "cell_type": "code",
   "execution_count": 7,
   "metadata": {},
   "outputs": [
    {
     "name": "stdout",
     "output_type": "stream",
     "text": [
      "[292, 293, 294]\n"
     ]
    }
   ],
   "source": [
    "def solve(a):\n",
    "    a.sort()\n",
    "    ans = []\n",
    "    for i in range(len(a)):\n",
    "        val = 0\n",
    "        for j in a[i]:\n",
    "            val += ord(j)\n",
    "        ans.append(val)\n",
    "    return ans\n",
    "#a = [\"ab\", \"bb\", \"aa\"]\n",
    "a = [\"aba\", \"bbb\", \"bab\"]\n",
    "print(solve(a))\n",
    "            \n",
    "            "
   ]
  },
  {
   "cell_type": "code",
   "execution_count": 4,
   "metadata": {},
   "outputs": [
    {
     "data": {
      "text/plain": [
       "97"
      ]
     },
     "execution_count": 4,
     "metadata": {},
     "output_type": "execute_result"
    }
   ],
   "source": [
    "ord('a')"
   ]
  },
  {
   "cell_type": "code",
   "execution_count": 12,
   "metadata": {},
   "outputs": [
    {
     "name": "stdout",
     "output_type": "stream",
     "text": [
      "['abc', 'abc', 'abx', 'abx', 'axx']\n",
      "1\n",
      "False\n"
     ]
    }
   ],
   "source": [
    "def stringsRearrangement(inputArray):\n",
    "    inputArray.sort()\n",
    "    print(inputArray)\n",
    "    n = len(inputArray)\n",
    "    #c = 0\n",
    "    for i in range(n-1):\n",
    "        c = 0\n",
    "        if inputArray[i] == inputArray[i+1]:\n",
    "            print(1)\n",
    "            return False\n",
    "        for j in range(len(inputArray[i])):\n",
    "            \n",
    "            if inputArray[i][j] != inputArray[i+1][j]:\n",
    "                c += 1\n",
    "            \n",
    "        if c != 1:\n",
    "            return False\n",
    "   \n",
    "            \n",
    "    return True\n",
    "            \n",
    "            \n",
    "#a = [\"aba\", \"bbb\", \"bab\"]\n",
    "a = [\"abc\", \n",
    " \"abx\", \n",
    " \"axx\", \n",
    " \"abx\", \n",
    " \"abc\"]\n",
    "print(stringsRearrangement(a))\n",
    "        "
   ]
  },
  {
   "cell_type": "code",
   "execution_count": 13,
   "metadata": {},
   "outputs": [
    {
     "name": "stdout",
     "output_type": "stream",
     "text": [
      "9\n"
     ]
    }
   ],
   "source": [
    "def arrayMaxConsecutiveSum(inputArray, k):\n",
    "    maxSum = sum(inputArray[:k])\n",
    "    val = maxSum\n",
    "    for i in range(k,len(inputArray)):\n",
    "        #print(val)\n",
    "        val = val - inputArray[i-k] + inputArray[k]\n",
    "        \n",
    "        maxSum = max(maxSum,val)\n",
    "    return maxSum\n",
    "#a = [2, 4, 10, 1]   \n",
    "a = [1, 3, 2, 4]\n",
    "print(arrayMaxConsecutiveSum(a, 3))\n"
   ]
  },
  {
   "cell_type": "code",
   "execution_count": 13,
   "metadata": {},
   "outputs": [
    {
     "name": "stdout",
     "output_type": "stream",
     "text": [
      "True\n"
     ]
    }
   ],
   "source": [
    "def isPal(s):\n",
    "    n = len(s)\n",
    "    m = n//2\n",
    "    for i in range(m):\n",
    "        if s[i] != s[n-i-1]:\n",
    "            return False\n",
    "    return True\n",
    "s = \"abba\"\n",
    "print(isPal(s))"
   ]
  },
  {
   "cell_type": "code",
   "execution_count": 32,
   "metadata": {},
   "outputs": [
    {
     "name": "stdout",
     "output_type": "stream",
     "text": [
      "abcdc\n"
     ]
    }
   ],
   "source": [
    "s = \"abcdc\"\n",
    "\n",
    "print(s)"
   ]
  },
  {
   "cell_type": "code",
   "execution_count": 33,
   "metadata": {},
   "outputs": [
    {
     "name": "stdout",
     "output_type": "stream",
     "text": [
      "abcdcba\n"
     ]
    }
   ],
   "source": [
    "t = s[:2]\n",
    "t = t[::-1]\n",
    "s += t\n",
    "#s[::-1]\n",
    "print(s)"
   ]
  },
  {
   "cell_type": "code",
   "execution_count": 34,
   "metadata": {},
   "outputs": [
    {
     "data": {
      "text/plain": [
       "''"
      ]
     },
     "execution_count": 34,
     "metadata": {},
     "output_type": "execute_result"
    }
   ],
   "source": [
    "s[:0]"
   ]
  },
  {
   "cell_type": "code",
   "execution_count": 1,
   "metadata": {},
   "outputs": [
    {
     "data": {
      "text/plain": [
       "['00', '1B', '63', '84', '45', 'E6']"
      ]
     },
     "execution_count": 1,
     "metadata": {},
     "output_type": "execute_result"
    }
   ],
   "source": [
    "s = \"00-1B-63-84-45-E6\"\n",
    "s.split(\"-\")\n"
   ]
  },
  {
   "cell_type": "code",
   "execution_count": 4,
   "metadata": {},
   "outputs": [
    {
     "data": {
      "text/plain": [
       "'abs '"
      ]
     },
     "execution_count": 4,
     "metadata": {},
     "output_type": "execute_result"
    }
   ],
   "source": [
    "s =\"abs\"\n",
    "s += \" \"\n",
    "s"
   ]
  },
  {
   "cell_type": "code",
   "execution_count": 5,
   "metadata": {},
   "outputs": [
    {
     "data": {
      "text/plain": [
       "int"
      ]
     },
     "execution_count": 5,
     "metadata": {},
     "output_type": "execute_result"
    }
   ],
   "source": [
    "type(ord('A'))"
   ]
  },
  {
   "cell_type": "code",
   "execution_count": 7,
   "metadata": {},
   "outputs": [
    {
     "data": {
      "text/plain": [
       "104"
      ]
     },
     "execution_count": 7,
     "metadata": {},
     "output_type": "execute_result"
    }
   ],
   "source": [
    "ord('h')"
   ]
  },
  {
   "cell_type": "code",
   "execution_count": 9,
   "metadata": {},
   "outputs": [
    {
     "data": {
      "text/plain": [
       "'134'"
      ]
     },
     "execution_count": 9,
     "metadata": {},
     "output_type": "execute_result"
    }
   ],
   "source": [
    "n = '1234'\n",
    "s =n[:1] + n[2:]\n",
    "s"
   ]
  },
  {
   "cell_type": "code",
   "execution_count": 16,
   "metadata": {},
   "outputs": [
    {
     "data": {
      "text/plain": [
       "7"
      ]
     },
     "execution_count": 16,
     "metadata": {},
     "output_type": "execute_result"
    }
   ],
   "source": [
    "s = \"Ready, steady, go!\"\n",
    "z = [len(i) for i in s.split()]\n",
    "x = max([len(i) for i in s.split()])\n",
    "x\n"
   ]
  },
  {
   "cell_type": "code",
   "execution_count": 18,
   "metadata": {},
   "outputs": [
    {
     "data": {
      "text/plain": [
       "'abc'"
      ]
     },
     "execution_count": 18,
     "metadata": {},
     "output_type": "execute_result"
    }
   ],
   "source": [
    "x = ''\n",
    "x = \"abc\"\n",
    "x"
   ]
  },
  {
   "cell_type": "code",
   "execution_count": 22,
   "metadata": {},
   "outputs": [],
   "source": [
    "s = \"Ready, steady, go!\"\n",
    "#s.split(\" \")\n"
   ]
  },
  {
   "cell_type": "code",
   "execution_count": 24,
   "metadata": {},
   "outputs": [
    {
     "data": {
      "text/plain": [
       "['R',\n",
       " 'e',\n",
       " 'a',\n",
       " 'd',\n",
       " 'y',\n",
       " ',',\n",
       " ' ',\n",
       " 's',\n",
       " 't',\n",
       " 'e',\n",
       " 'a',\n",
       " 'd',\n",
       " 'y',\n",
       " ',',\n",
       " ' ',\n",
       " 'g',\n",
       " 'o',\n",
       " '!']"
      ]
     },
     "execution_count": 24,
     "metadata": {},
     "output_type": "execute_result"
    }
   ],
   "source": [
    "l = sorted(s,key=len)\n",
    "l"
   ]
  },
  {
   "cell_type": "code",
   "execution_count": 25,
   "metadata": {},
   "outputs": [
    {
     "data": {
      "text/plain": [
       "['13', '58']"
      ]
     },
     "execution_count": 25,
     "metadata": {},
     "output_type": "execute_result"
    }
   ],
   "source": [
    "t = \"13:58\"\n",
    "t.split(\":\")"
   ]
  },
  {
   "cell_type": "code",
   "execution_count": 1,
   "metadata": {},
   "outputs": [
    {
     "name": "stdout",
     "output_type": "stream",
     "text": [
      "[[1], [2], [2], [], []]\n"
     ]
    }
   ],
   "source": [
    "matrix = [[1, 2, 1],\n",
    "          [2, 2, 2],\n",
    "          [2, 2, 2],\n",
    "          [1, 2, 3],\n",
    "          [2, 2, 1]]\n",
    "rs,cs = 0,0\n",
    "ans = []\n",
    "for i in range(rs,5):\n",
    "    t = []\n",
    "    for j in range(cs,3):\n",
    "        \n",
    "        if i+2 <5 and j+2 <3:\n",
    "            t.append(matrix[i][j])\n",
    "    ans.append(t)\n",
    "print(ans)\n",
    "    \n",
    "        "
   ]
  },
  {
   "cell_type": "code",
   "execution_count": 12,
   "metadata": {},
   "outputs": [
    {
     "name": "stdout",
     "output_type": "stream",
     "text": [
      "[[1, 2, 2, 2], [2, 1, 2, 2], [2, 2, 2, 2], [2, 2, 1, 2], [2, 2, 2, 3], [2, 3, 2, 1]]\n"
     ]
    }
   ],
   "source": [
    "def differentSquares(matrix):\n",
    "    dire = [(0,0),(0,1),(1,0),(1,1)]\n",
    "    r = len(matrix)\n",
    "    c = len(matrix[0])\n",
    "    ans = []\n",
    "    H = {}\n",
    "    for i in range(r):\n",
    "        \n",
    "        for j in range(c):\n",
    "            t = []\n",
    "            if i+2 <= r and j+2 <= c:\n",
    "                for k in range(len(dire)):\n",
    "                    x = i + dire[k][0]\n",
    "                    y = j + dire[k][1]\n",
    "                    t += [matrix[x][y]]\n",
    "            if len(t)>0:\n",
    "                ans += [t]\n",
    "    res = []      \n",
    "    for i in ans:\n",
    "        if i not in res:\n",
    "            res += [i]\n",
    "    \n",
    "    \n",
    "    \n",
    "        \n",
    "                    \n",
    "    return res\n",
    "                    \n",
    "matrix = [[1, 2, 1],\n",
    "          [2, 2, 2],\n",
    "          [2, 2, 2],\n",
    "          [1, 2, 3],\n",
    "          [2, 2, 1]]\n",
    "print(differentSquares(matrix))          \n",
    "    \n",
    "\n"
   ]
  },
  {
   "cell_type": "code",
   "execution_count": 29,
   "metadata": {},
   "outputs": [
    {
     "name": "stdout",
     "output_type": "stream",
     "text": [
      "26\n",
      "26\n",
      "26\n",
      "26\n",
      "26\n"
     ]
    }
   ],
   "source": [
    "\n",
    "product = 12\n",
    "def f(product):\n",
    "    def isProd(x,t):\n",
    "        p = 1\n",
    "        for i in x:\n",
    "            p *= int(i)\n",
    "        if p == t:\n",
    "            return True\n",
    "        return False\n",
    "            \n",
    "    factors = []\n",
    "    for i in range(1,product+1):\n",
    "        div = product//i\n",
    "        if i*div == product:\n",
    "            factors += [(i,div)]\n",
    "            \n",
    "    small = pow(10,9)\n",
    "    for k in range(len(factors)):\n",
    "        n = str(factors[k][0])+str(factors[k][1])\n",
    "        \n",
    "        if isProd(n,product):\n",
    "            small = min(small,int(n))\n",
    "            print(small)\n",
    "    return small\n",
    "\n",
    "\n",
    "print(f(product))"
   ]
  },
  {
   "cell_type": "code",
   "execution_count": 32,
   "metadata": {},
   "outputs": [
    {
     "name": "stdout",
     "output_type": "stream",
     "text": [
      "112\n",
      "26\n",
      "34\n",
      "43\n",
      "62\n",
      "121\n",
      "26\n"
     ]
    }
   ],
   "source": [
    "def digitsProduct(product):\n",
    "    def isProd(x,t):\n",
    "        p = 1\n",
    "        for i in x:\n",
    "            p *= int(i)\n",
    "        if p == t:\n",
    "            return True\n",
    "        return False\n",
    "            \n",
    "    factors = []\n",
    "    for i in range(1,product+1):\n",
    "        div = product//i\n",
    "        if i*div == product:\n",
    "            factors += [(i,div)]\n",
    "            \n",
    "    small = []\n",
    "    \n",
    "    for k in range(len(factors)):\n",
    "        n = str(factors[k][0])+str(factors[k][1])\n",
    "        print(n)\n",
    "        if isProd(n,product):\n",
    "            small+= [int(n)]\n",
    "    return min(small) if len(small) > 0 else -1\n",
    "product = 12\n",
    "print(digitsProduct(product))"
   ]
  },
  {
   "cell_type": "code",
   "execution_count": 37,
   "metadata": {},
   "outputs": [
    {
     "name": "stdout",
     "output_type": "stream",
     "text": [
      "[[3], [3, 0, -2], [3]]\n"
     ]
    }
   ],
   "source": [
    "def sumInRange(nums, queries):\n",
    "    \n",
    "    M = pow(10,9) + 7\n",
    "    P = [nums[:queries[i][0]+1] for i in range(len(queries))]\n",
    "    S = [nums[:queries[i][1]+1] for i in range(len(queries))]\n",
    "    #res = [S[k]-P[k] for k in range(len(P))]\n",
    "    #ans = sum(res)\n",
    "    return P\n",
    "\n",
    "nums = [3, 0, -2, 6, -3, 2]\n",
    "queries = [[0, 2], [2, 5], [0, 5]]\n",
    "print(sumInRange(nums, queries))"
   ]
  },
  {
   "cell_type": "code",
   "execution_count": null,
   "metadata": {},
   "outputs": [],
   "source": []
  }
 ],
 "metadata": {
  "kernelspec": {
   "display_name": "Python 3",
   "language": "python",
   "name": "python3"
  },
  "language_info": {
   "codemirror_mode": {
    "name": "ipython",
    "version": 3
   },
   "file_extension": ".py",
   "mimetype": "text/x-python",
   "name": "python",
   "nbconvert_exporter": "python",
   "pygments_lexer": "ipython3",
   "version": "3.8.5"
  }
 },
 "nbformat": 4,
 "nbformat_minor": 4
}
