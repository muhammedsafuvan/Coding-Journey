{
 "cells": [
  {
   "cell_type": "code",
   "execution_count": 41,
   "metadata": {},
   "outputs": [
    {
     "name": "stdout",
     "output_type": "stream",
     "text": [
      "ABC\n",
      "ACB\n",
      "BAC\n",
      "BCA\n",
      "CBA\n",
      "CAB\n",
      "None\n"
     ]
    }
   ],
   "source": [
    "def perm(s,l,r):\n",
    "    \n",
    "    ans = []\n",
    "    res = set()\n",
    "    if l == r:\n",
    "        t = \"\".join(s)\n",
    "        print(t)\n",
    "        if t not in res:\n",
    "            res.add(t)\n",
    "#         print(res)\n",
    "    \n",
    "#         print(ans)\n",
    "    else:\n",
    "        for i in range(l,r+1):\n",
    "            s[l],s[i] = s[i],s[l]\n",
    "            perm(s,l+1,r)\n",
    "            s[l],s[i] = s[i],s[l]\n",
    "#     print(res)\n",
    "#     return \"\".join(res)\n",
    "#     return res\n",
    "\n",
    "s = \"ABC\"\n",
    "n = len(s)\n",
    "x = list(s)\n",
    "print(perm(x,0,n-1))"
   ]
  },
  {
   "cell_type": "code",
   "execution_count": null,
   "metadata": {},
   "outputs": [],
   "source": []
  }
 ],
 "metadata": {
  "kernelspec": {
   "display_name": "Python 3",
   "language": "python",
   "name": "python3"
  },
  "language_info": {
   "codemirror_mode": {
    "name": "ipython",
    "version": 3
   },
   "file_extension": ".py",
   "mimetype": "text/x-python",
   "name": "python",
   "nbconvert_exporter": "python",
   "pygments_lexer": "ipython3",
   "version": "3.8.5"
  }
 },
 "nbformat": 4,
 "nbformat_minor": 4
}
