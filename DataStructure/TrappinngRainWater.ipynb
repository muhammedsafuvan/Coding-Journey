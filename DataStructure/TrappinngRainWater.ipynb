{
 "cells": [
  {
   "cell_type": "code",
   "execution_count": 1,
   "metadata": {},
   "outputs": [
    {
     "name": "stdout",
     "output_type": "stream",
     "text": [
      "6\n"
     ]
    }
   ],
   "source": [
    "def solve(arr,n):\n",
    "    l,r = 0,n-1\n",
    "    lm,rm = 0,0\n",
    "    ans = 0\n",
    "    while l <= r:\n",
    "        if rm<=lm:\n",
    "            ans += max(0,rm-arr[r])\n",
    "            rm = max(rm,arr[r])\n",
    "            r -= 1\n",
    "        else:\n",
    "            ans += max(0,lm-arr[l])\n",
    "            lm = max(lm,arr[l])\n",
    "            l += 1\n",
    "    return ans\n",
    "arr = [0, 1, 0, 2, 1, 0, 1, 3, 2, 1, 2, 1]\n",
    "n = len(arr)\n",
    "print(solve(arr,n))"
   ]
  },
  {
   "cell_type": "code",
   "execution_count": null,
   "metadata": {},
   "outputs": [],
   "source": []
  }
 ],
 "metadata": {
  "kernelspec": {
   "display_name": "Python 3",
   "language": "python",
   "name": "python3"
  },
  "language_info": {
   "codemirror_mode": {
    "name": "ipython",
    "version": 3
   },
   "file_extension": ".py",
   "mimetype": "text/x-python",
   "name": "python",
   "nbconvert_exporter": "python",
   "pygments_lexer": "ipython3",
   "version": "3.8.5"
  }
 },
 "nbformat": 4,
 "nbformat_minor": 4
}
