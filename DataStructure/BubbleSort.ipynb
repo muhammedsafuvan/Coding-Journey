{
 "cells": [
  {
   "cell_type": "code",
   "execution_count": 2,
   "metadata": {},
   "outputs": [
    {
     "name": "stdout",
     "output_type": "stream",
     "text": [
      "[1, 2, 2, 3, 3, 4]\n"
     ]
    }
   ],
   "source": [
    "def bubble(A,n):\n",
    "    \n",
    "    for i in range(n):\n",
    "        for j in range(0,n-i-1):\n",
    "            if A[j] > A[j+1]:\n",
    "                A[j],A[j+1] = A[j+1],A[j]\n",
    "    return A\n",
    "\n",
    "A = [1,4,2,3,2,3]\n",
    "print(bubble(A,6))"
   ]
  },
  {
   "cell_type": "code",
   "execution_count": null,
   "metadata": {},
   "outputs": [],
   "source": []
  }
 ],
 "metadata": {
  "kernelspec": {
   "display_name": "Python 3",
   "language": "python",
   "name": "python3"
  },
  "language_info": {
   "codemirror_mode": {
    "name": "ipython",
    "version": 3
   },
   "file_extension": ".py",
   "mimetype": "text/x-python",
   "name": "python",
   "nbconvert_exporter": "python",
   "pygments_lexer": "ipython3",
   "version": "3.8.5"
  }
 },
 "nbformat": 4,
 "nbformat_minor": 4
}
