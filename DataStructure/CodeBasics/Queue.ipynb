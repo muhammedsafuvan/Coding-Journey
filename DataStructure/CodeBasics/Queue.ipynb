{
 "cells": [
  {
   "cell_type": "code",
   "execution_count": 20,
   "id": "2abc1f93",
   "metadata": {},
   "outputs": [],
   "source": [
    "from collections import deque\n",
    "\n",
    "class Queue:\n",
    "    def __init__(self):\n",
    "        self.buffer = deque()\n",
    "        \n",
    "    def enqueue(self, val):\n",
    "        self.buffer.appendleft(val)\n",
    "        \n",
    "    def dequeue(self):\n",
    "        return self.buffer.pop()\n",
    "    \n",
    "    def size(self):\n",
    "        return len(self.buffer)\n",
    "    \n",
    "    def is_empty(self):\n",
    "        return len(self.buffer) == 0\n",
    "    \n",
    "    def front(self):\n",
    "        \n",
    "        return self.buffer[-1]\n",
    "    \n",
    "    "
   ]
  },
  {
   "cell_type": "code",
   "execution_count": 16,
   "id": "b694b1b9",
   "metadata": {},
   "outputs": [
    {
     "data": {
      "text/plain": [
       "2"
      ]
     },
     "execution_count": 16,
     "metadata": {},
     "output_type": "execute_result"
    }
   ],
   "source": [
    "q = Queue()\n",
    "q.enqueue(2)\n",
    "q.enqueue(3)\n",
    "q.enqueue(5)\n",
    "q.buffer\n",
    "q.front()"
   ]
  },
  {
   "cell_type": "code",
   "execution_count": 17,
   "id": "3e422c6e",
   "metadata": {},
   "outputs": [
    {
     "data": {
      "text/plain": [
       "2"
      ]
     },
     "execution_count": 17,
     "metadata": {},
     "output_type": "execute_result"
    }
   ],
   "source": [
    "q.dequeue()"
   ]
  },
  {
   "cell_type": "markdown",
   "id": "37092964",
   "metadata": {},
   "source": [
    "### Binary Numbers using Queue"
   ]
  },
  {
   "cell_type": "code",
   "execution_count": 27,
   "id": "adf1b29c",
   "metadata": {},
   "outputs": [
    {
     "name": "stdout",
     "output_type": "stream",
     "text": [
      "  1\n",
      "  10\n",
      "  11\n",
      "  100\n",
      "  101\n",
      "  110\n",
      "  111\n",
      "  1000\n",
      "  1001\n",
      "  1010\n"
     ]
    }
   ],
   "source": [
    "        \n",
    "def binary_nums(limit):\n",
    "    count = 0\n",
    "    queue = Queue()\n",
    "    queue.enqueue(1)\n",
    "    while count <limit:\n",
    "        front = queue.dequeue()\n",
    "        print(\" \",front)\n",
    "        queue.enqueue(str(front) + '0')\n",
    "        queue.enqueue(str(front) + '1')\n",
    "        \n",
    "        count += 1\n",
    "        \n",
    "binary_nums(10)\n",
    "        "
   ]
  },
  {
   "cell_type": "code",
   "execution_count": 12,
   "id": "e8d196b9",
   "metadata": {},
   "outputs": [
    {
     "name": "stdout",
     "output_type": "stream",
     "text": [
      "STARTING\n",
      "placing order: pizza\n",
      "FINISHED\n",
      "placing order: samosa\n",
      "serving order: pizza\n",
      "placing order: pasta\n",
      "placing order: biryani\n",
      "placing order: burger\n",
      "serving order: samosa\n",
      "serving order: pasta\n",
      "serving order: biryani\n",
      "serving order: burger\n"
     ]
    },
    {
     "name": "stderr",
     "output_type": "stream",
     "text": [
      "Exception in thread Thread-18:\n",
      "Traceback (most recent call last):\n",
      "  File \"/usr/local/Cellar/python@3.9/3.9.17_1/Frameworks/Python.framework/Versions/3.9/lib/python3.9/threading.py\", line 980, in _bootstrap_inner\n",
      "    self.run()\n",
      "  File \"/usr/local/Cellar/python@3.9/3.9.17_1/Frameworks/Python.framework/Versions/3.9/lib/python3.9/threading.py\", line 917, in run\n",
      "    self._target(*self._args, **self._kwargs)\n",
      "  File \"/var/folders/9h/jjg9yt4s2k728z15_6m2x_qr0000gn/T/ipykernel_55528/2905641893.py\", line 17, in serve_order\n",
      "  File \"/var/folders/9h/jjg9yt4s2k728z15_6m2x_qr0000gn/T/ipykernel_55528/2396005333.py\", line 11, in dequeue\n",
      "IndexError: pop from an empty deque\n"
     ]
    }
   ],
   "source": [
    "import threading\n",
    "import time\n",
    "queue = Queue()\n",
    "\n",
    "def place_order(items):\n",
    "    \n",
    "    for item in items:\n",
    "        print(\"placing order:\", item)\n",
    "        queue.enqueue(item)\n",
    "        time.sleep(0.5)\n",
    "    \n",
    "    \n",
    "def serve_order():\n",
    "    time.sleep(1)\n",
    "\n",
    "    while True:\n",
    "        order = queue.dequeue()\n",
    "        print(\"serving order:\", order)\n",
    "        time.sleep(2)\n",
    "    \n",
    "orders = ['pizza','samosa','pasta','biryani','burger']\n",
    "\n",
    "t1 = threading.Thread(target=place_order, args=(orders,))\n",
    "t2 = threading.Thread(target=serve_order, args=())\n",
    "\n",
    "print(\"STARTING\")\n",
    "\n",
    "t1.start()\n",
    "t2.start()\n",
    "\n",
    "print(\"FINISHED\")\n",
    "    "
   ]
  },
  {
   "cell_type": "code",
   "execution_count": null,
   "id": "ea46362d",
   "metadata": {},
   "outputs": [],
   "source": []
  }
 ],
 "metadata": {
  "kernelspec": {
   "display_name": "Python 3 (ipykernel)",
   "language": "python",
   "name": "python3"
  },
  "language_info": {
   "codemirror_mode": {
    "name": "ipython",
    "version": 3
   },
   "file_extension": ".py",
   "mimetype": "text/x-python",
   "name": "python",
   "nbconvert_exporter": "python",
   "pygments_lexer": "ipython3",
   "version": "3.9.17"
  }
 },
 "nbformat": 4,
 "nbformat_minor": 5
}
