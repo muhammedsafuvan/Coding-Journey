{
 "cells": [
  {
   "cell_type": "code",
   "execution_count": 10,
   "id": "686066cc",
   "metadata": {},
   "outputs": [],
   "source": [
    "class HashTable:\n",
    "    def __init__(self):\n",
    "        self.SIZE = 10\n",
    "        self.arr = [[] for _ in range(self.SIZE)]\n",
    "        \n",
    "    def get_hash(self, key):\n",
    "        h = 0\n",
    "        for i in key:\n",
    "            h += ord(i)\n",
    "        return h%self.SIZE\n",
    "    \n",
    "    def __getitem__(self, key):\n",
    "        h = self.get_hash(key)\n",
    "        return self.arr[h]\n",
    "    \n",
    "    def __setitem__(self, key, val):\n",
    "        h = self.get_hash(key)\n",
    "        found = False\n",
    "        for ind, ele in enumerate(self.arr[h]):\n",
    "            if len(ele) == 2 and ele[0] == key:\n",
    "                self.arr[h][index] = (key, val)\n",
    "                found = True\n",
    "                break\n",
    "        if not found:\n",
    "            self.arr[h].append((key, val))\n",
    "        \n",
    "        \n",
    "# if __name__ == \"__main__\":\n",
    "#     ht = HashTable()\n",
    "#     ht.__setitem__('mar 2', 120)\n",
    "#     print(ht.__getitem__('mar 2'))"
   ]
  },
  {
   "cell_type": "code",
   "execution_count": 12,
   "id": "94d807fa",
   "metadata": {},
   "outputs": [],
   "source": [
    "ht = HashTable()\n",
    "ht['mar 6'] = 2\n",
    "ht['mar 17'] = 3"
   ]
  },
  {
   "cell_type": "code",
   "execution_count": 15,
   "id": "19368ccf",
   "metadata": {},
   "outputs": [
    {
     "data": {
      "text/plain": [
       "[('mar 6', 2), ('mar 17', 3)]"
      ]
     },
     "execution_count": 15,
     "metadata": {},
     "output_type": "execute_result"
    }
   ],
   "source": [
    "ht.__getitem__('mar 6')\n"
   ]
  },
  {
   "cell_type": "code",
   "execution_count": 14,
   "id": "7426e165",
   "metadata": {},
   "outputs": [
    {
     "data": {
      "text/plain": [
       "[[], [], [], [], [], [], [('mar 6', 2), ('mar 17', 3)], [], [], []]"
      ]
     },
     "execution_count": 14,
     "metadata": {},
     "output_type": "execute_result"
    }
   ],
   "source": [
    "ht.arr"
   ]
  },
  {
   "cell_type": "markdown",
   "id": "dd0083eb",
   "metadata": {},
   "source": [
    "# Exercise"
   ]
  },
  {
   "cell_type": "code",
   "execution_count": 51,
   "id": "af92ad3e",
   "metadata": {},
   "outputs": [
    {
     "name": "stdout",
     "output_type": "stream",
     "text": [
      "Invalid Input\n"
     ]
    }
   ],
   "source": [
    "import csv\n",
    "with open('nyc_weather.csv','r') as csvfile:\n",
    "    weather = csv.reader(csvfile, delimiter=' ',)\n",
    "    arr = []\n",
    "    h = dict()\n",
    "    for row in csvfile:\n",
    "        try:\n",
    "            tokens = row.split(',')\n",
    "            h[str(tokens[0])] = int(tokens[1])\n",
    "            arr.append(int(tokens[1]))\n",
    "        except:\n",
    "            print(\"Invalid Input\")"
   ]
  },
  {
   "cell_type": "code",
   "execution_count": 42,
   "id": "2ecbaf27",
   "metadata": {},
   "outputs": [
    {
     "name": "stdout",
     "output_type": "stream",
     "text": [
      "31.285714285714285\n"
     ]
    }
   ],
   "source": [
    "temp = 0\n",
    "for i in range(7):\n",
    "    temp += arr[i]\n",
    "print(temp/7)"
   ]
  },
  {
   "cell_type": "code",
   "execution_count": 43,
   "id": "58b03d5d",
   "metadata": {},
   "outputs": [
    {
     "data": {
      "text/plain": [
       "10"
      ]
     },
     "execution_count": 43,
     "metadata": {},
     "output_type": "execute_result"
    }
   ],
   "source": [
    "len(arr)"
   ]
  },
  {
   "cell_type": "code",
   "execution_count": 44,
   "id": "eb78996a",
   "metadata": {},
   "outputs": [
    {
     "data": {
      "text/plain": [
       "38"
      ]
     },
     "execution_count": 44,
     "metadata": {},
     "output_type": "execute_result"
    }
   ],
   "source": [
    "max(arr[:10])"
   ]
  },
  {
   "cell_type": "code",
   "execution_count": 52,
   "id": "678e4580",
   "metadata": {},
   "outputs": [
    {
     "data": {
      "text/plain": [
       "{'Jan 1': 27,\n",
       " 'Jan 2': 31,\n",
       " 'Jan 3': 23,\n",
       " 'Jan 4': 34,\n",
       " 'Jan 5': 37,\n",
       " 'Jan 6': 38,\n",
       " 'Jan 7': 29,\n",
       " 'Jan 8': 30,\n",
       " 'Jan 9': 35,\n",
       " 'Jan 10': 30}"
      ]
     },
     "execution_count": 52,
     "metadata": {},
     "output_type": "execute_result"
    }
   ],
   "source": [
    "h"
   ]
  },
  {
   "cell_type": "code",
   "execution_count": 53,
   "id": "c33b8506",
   "metadata": {},
   "outputs": [
    {
     "data": {
      "text/plain": [
       "35"
      ]
     },
     "execution_count": 53,
     "metadata": {},
     "output_type": "execute_result"
    }
   ],
   "source": [
    "h['Jan 9']"
   ]
  },
  {
   "cell_type": "code",
   "execution_count": 64,
   "id": "70ee04bd",
   "metadata": {},
   "outputs": [],
   "source": [
    "with open('poem.txt', 'r') as f:\n",
    "    words_map = {}\n",
    "    for words in f:\n",
    "        word_list = words.split(\" \")\n",
    "        for word in word_list:\n",
    "            word = word.replace('\\n','')\n",
    "            if str(word) in words_map:\n",
    "                words_map[str(word)] += 1\n",
    "            else:\n",
    "                words_map[str(word)] = 1\n",
    "            \n",
    "        "
   ]
  },
  {
   "cell_type": "code",
   "execution_count": 65,
   "id": "1677333c",
   "metadata": {},
   "outputs": [
    {
     "data": {
      "text/plain": [
       "{'Two': 2,\n",
       " 'roads': 2,\n",
       " 'diverged': 2,\n",
       " 'in': 3,\n",
       " 'a': 3,\n",
       " 'yellow': 1,\n",
       " 'wood,': 2,\n",
       " 'And': 6,\n",
       " 'sorry': 1,\n",
       " 'I': 8,\n",
       " 'could': 2,\n",
       " 'not': 1,\n",
       " 'travel': 1,\n",
       " 'both': 2,\n",
       " 'be': 2,\n",
       " 'one': 3,\n",
       " 'traveler,': 1,\n",
       " 'long': 1,\n",
       " 'stood': 1,\n",
       " 'looked': 1,\n",
       " 'down': 1,\n",
       " 'as': 5,\n",
       " 'far': 1,\n",
       " 'To': 1,\n",
       " 'where': 1,\n",
       " 'it': 2,\n",
       " 'bent': 1,\n",
       " 'the': 8,\n",
       " 'undergrowth;': 1,\n",
       " '': 3,\n",
       " 'Then': 1,\n",
       " 'took': 2,\n",
       " 'other,': 1,\n",
       " 'just': 1,\n",
       " 'fair,': 1,\n",
       " 'having': 1,\n",
       " 'perhaps': 1,\n",
       " 'better': 1,\n",
       " 'claim,': 1,\n",
       " 'Because': 1,\n",
       " 'was': 1,\n",
       " 'grassy': 1,\n",
       " 'and': 3,\n",
       " 'wanted': 1,\n",
       " 'wear;': 1,\n",
       " 'Though': 1,\n",
       " 'for': 2,\n",
       " 'that': 3,\n",
       " 'passing': 1,\n",
       " 'there': 1,\n",
       " 'Had': 1,\n",
       " 'worn': 1,\n",
       " 'them': 1,\n",
       " 'really': 1,\n",
       " 'about': 1,\n",
       " 'same,': 1,\n",
       " 'morning': 1,\n",
       " 'equally': 1,\n",
       " 'lay': 1,\n",
       " 'In': 1,\n",
       " 'leaves': 1,\n",
       " 'no': 1,\n",
       " 'step': 1,\n",
       " 'had': 1,\n",
       " 'trodden': 1,\n",
       " 'black.': 1,\n",
       " 'Oh,': 1,\n",
       " 'kept': 1,\n",
       " 'first': 1,\n",
       " 'another': 1,\n",
       " 'day!': 1,\n",
       " 'Yet': 1,\n",
       " 'knowing': 1,\n",
       " 'how': 1,\n",
       " 'way': 1,\n",
       " 'leads': 1,\n",
       " 'on': 1,\n",
       " 'to': 1,\n",
       " 'way,': 1,\n",
       " 'doubted': 1,\n",
       " 'if': 1,\n",
       " 'should': 1,\n",
       " 'ever': 1,\n",
       " 'come': 1,\n",
       " 'back.': 1,\n",
       " 'shall': 1,\n",
       " 'telling': 1,\n",
       " 'this': 1,\n",
       " 'with': 1,\n",
       " 'sigh': 1,\n",
       " 'Somewhere': 1,\n",
       " 'ages': 2,\n",
       " 'hence:': 1,\n",
       " 'I—': 1,\n",
       " 'less': 1,\n",
       " 'traveled': 1,\n",
       " 'by,': 1,\n",
       " 'has': 1,\n",
       " 'made': 1,\n",
       " 'all': 1,\n",
       " 'difference.': 1}"
      ]
     },
     "execution_count": 65,
     "metadata": {},
     "output_type": "execute_result"
    }
   ],
   "source": [
    "words_map"
   ]
  },
  {
   "cell_type": "code",
   "execution_count": null,
   "id": "a3d4342f",
   "metadata": {},
   "outputs": [],
   "source": []
  }
 ],
 "metadata": {
  "kernelspec": {
   "display_name": "Python 3 (ipykernel)",
   "language": "python",
   "name": "python3"
  },
  "language_info": {
   "codemirror_mode": {
    "name": "ipython",
    "version": 3
   },
   "file_extension": ".py",
   "mimetype": "text/x-python",
   "name": "python",
   "nbconvert_exporter": "python",
   "pygments_lexer": "ipython3",
   "version": "3.9.17"
  }
 },
 "nbformat": 4,
 "nbformat_minor": 5
}
