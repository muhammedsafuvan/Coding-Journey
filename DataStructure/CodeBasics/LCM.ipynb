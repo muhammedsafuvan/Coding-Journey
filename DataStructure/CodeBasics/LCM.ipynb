{
 "cells": [
  {
   "cell_type": "code",
   "execution_count": 1,
   "id": "4d7cff3a",
   "metadata": {},
   "outputs": [],
   "source": []
  },
  {
   "cell_type": "code",
   "execution_count": 15,
   "id": "2385e666",
   "metadata": {},
   "outputs": [
    {
     "name": "stdout",
     "output_type": "stream",
     "text": [
      "48\n"
     ]
    }
   ],
   "source": [
    "def lcm_2(a, b):\n",
    "    if a == b:\n",
    "        return a\n",
    "    max_val = max(a,b)\n",
    "    min_val = min(a, b)\n",
    "    if not max_val%min_val:\n",
    "        return max_val\n",
    "    val = max_val\n",
    "    while True:\n",
    "        if val%a ==0 and val%b == 0:\n",
    "            return val\n",
    "        else:\n",
    "            val += max_val\n",
    "    \n",
    "    return \n",
    "\n",
    "def lcm(nums):\n",
    "    if len(nums) == 1:\n",
    "        return nums[0]\n",
    "    if len(nums) == 2:\n",
    "        return lcm_2(nums[0], nums[1])\n",
    "    \n",
    "\n",
    "    while len(nums):\n",
    "        print(nums)\n",
    "        if len(nums) == 1:\n",
    "            return nums[0]\n",
    "        a = nums.pop(0)\n",
    "        b = nums.pop(0)\n",
    "        nums.append(lcm_2(a,b))\n",
    "        \n",
    "    return\n",
    "        \n",
    "        \n",
    "        \n",
    "    \n",
    "    \n",
    "    \n",
    "    \n",
    "print(lcm_2(24,16))\n",
    "# print(lcm([2,3,4]))"
   ]
  },
  {
   "cell_type": "code",
   "execution_count": null,
   "id": "945b281a",
   "metadata": {},
   "outputs": [],
   "source": []
  }
 ],
 "metadata": {
  "kernelspec": {
   "display_name": "Python 3 (ipykernel)",
   "language": "python",
   "name": "python3"
  },
  "language_info": {
   "codemirror_mode": {
    "name": "ipython",
    "version": 3
   },
   "file_extension": ".py",
   "mimetype": "text/x-python",
   "name": "python",
   "nbconvert_exporter": "python",
   "pygments_lexer": "ipython3",
   "version": "3.9.17"
  }
 },
 "nbformat": 4,
 "nbformat_minor": 5
}
