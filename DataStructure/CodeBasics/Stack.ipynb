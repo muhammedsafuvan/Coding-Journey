{
 "cells": [
  {
   "cell_type": "code",
   "execution_count": 23,
   "id": "f3b50cf6",
   "metadata": {},
   "outputs": [],
   "source": [
    "from collections import deque\n",
    "class Stack:\n",
    "    def __init__(self):\n",
    "        self.container = deque()\n",
    "        \n",
    "    def push(self, value):\n",
    "        self.container.append(value)\n",
    "        \n",
    "    def pop(self,):\n",
    "        return self.container.pop()\n",
    "    \n",
    "    def peek(self):\n",
    "        return self.container[-1]\n",
    "    \n",
    "    def is_empty(self):\n",
    "        return len(self.container) == 0\n",
    "    \n",
    "    def size(self):\n",
    "        return len(self.container)\n",
    "    \n",
    "def reverse_string(s):\n",
    "    reversed_str = \"\"\n",
    "    st = Stack()\n",
    "    for i in s:\n",
    "        st.push(i)\n",
    "\n",
    "    while st.size() != 0:\n",
    "        reversed_str += st.pop()\n",
    "\n",
    "    return reversed_str\n"
   ]
  },
  {
   "cell_type": "code",
   "execution_count": 24,
   "id": "6cabf5da",
   "metadata": {},
   "outputs": [
    {
     "name": "stdout",
     "output_type": "stream",
     "text": [
      "91-DIVOC ereuqnoc lliw eW\n"
     ]
    }
   ],
   "source": [
    "s = Stack()\n",
    "s.push(2)\n",
    "s.push(3)\n",
    "print(reverse_string(\"We will conquere COVID-19\"))"
   ]
  },
  {
   "cell_type": "markdown",
   "id": "e58cf013",
   "metadata": {},
   "source": [
    "### Balanced Parntheses"
   ]
  },
  {
   "cell_type": "code",
   "execution_count": 35,
   "id": "574a26b2",
   "metadata": {},
   "outputs": [
    {
     "name": "stdout",
     "output_type": "stream",
     "text": [
      "True\n",
      "False\n",
      "True\n",
      "False\n",
      "True\n"
     ]
    }
   ],
   "source": [
    "def is_balanced(exp):\n",
    "    opening_pantheses = \"{([\"\n",
    "    closing_parantheses = \"])}\"\n",
    "    par_map = {\n",
    "        \")\": \"(\",\n",
    "        \"]\": \"[\",\n",
    "        \"}\": \"{\"\n",
    "    }\n",
    "    stack = Stack()\n",
    "    for i in exp:\n",
    "        if i in opening_pantheses:\n",
    "            stack.push(i)\n",
    "        if i in closing_parantheses:\n",
    "            if stack.size() == 0:\n",
    "                return False\n",
    "            p = stack.pop()\n",
    "            if p != par_map[i]:\n",
    "                return False\n",
    "    \n",
    "    return stack.size() == 0\n",
    "            \n",
    "    \n",
    "print(is_balanced(\"({a+b})\"))\n",
    "print(is_balanced(\"))((a+b}{\"))\n",
    "print(is_balanced(\"((a+b))\"))\n",
    "print(is_balanced(\"))\"))\n",
    "print(is_balanced(\"[a+b]*(x+2y)*{gg+kk}\") )\n"
   ]
  },
  {
   "cell_type": "code",
   "execution_count": null,
   "id": "1595e749",
   "metadata": {},
   "outputs": [],
   "source": []
  }
 ],
 "metadata": {
  "kernelspec": {
   "display_name": "Python 3 (ipykernel)",
   "language": "python",
   "name": "python3"
  },
  "language_info": {
   "codemirror_mode": {
    "name": "ipython",
    "version": 3
   },
   "file_extension": ".py",
   "mimetype": "text/x-python",
   "name": "python",
   "nbconvert_exporter": "python",
   "pygments_lexer": "ipython3",
   "version": "3.9.17"
  }
 },
 "nbformat": 4,
 "nbformat_minor": 5
}
