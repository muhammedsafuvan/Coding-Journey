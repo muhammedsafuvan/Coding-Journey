{
 "cells": [
  {
   "cell_type": "code",
   "execution_count": 45,
   "id": "fde4d1c7",
   "metadata": {},
   "outputs": [
    {
     "name": "stdout",
     "output_type": "stream",
     "text": [
      "{'M': ['P', 'D'], 'P': ['D', 'N'], 'D': ['N'], 'N': ['T']}\n",
      "[['M', 'P', 'D', 'N'], ['M', 'P', 'N'], ['M', 'D', 'N']]\n",
      "[['M', 'P', 'N'], ['M', 'D', 'N']]\n",
      "Flight from M to N : [['M', 'P', 'D', 'N'], ['M', 'P', 'N'], ['M', 'D', 'N']]\n"
     ]
    }
   ],
   "source": [
    "class Graph:\n",
    "    def __init__(self, edges):\n",
    "        self.edges = edges\n",
    "        self.graph_dict = {}\n",
    "        \n",
    "        for start,end in self.edges:\n",
    "            if start in self.graph_dict:\n",
    "                self.graph_dict[start].append(end)\n",
    "            else:\n",
    "                self.graph_dict[start] = [end]\n",
    "                \n",
    "        print(self.graph_dict)\n",
    "        \n",
    "        \n",
    "    def get_paths(self, start, end, path=[]):\n",
    "            path = path + [start]\n",
    "\n",
    "            if start == end:\n",
    "                return [path]\n",
    "\n",
    "            if start not in self.graph_dict:\n",
    "                return []\n",
    "\n",
    "            paths = []\n",
    "            for node in self.graph_dict[start]:\n",
    "                if node not in path:\n",
    "                    new_paths = self.get_paths(node, end, path)\n",
    "                    for p in new_paths:\n",
    "                        paths.append(p)\n",
    "\n",
    "            return paths\n",
    "        \n",
    "    def shortest_paths(self, start, end, path=[]):\n",
    "        paths = self.get_paths(start,end)\n",
    "        \n",
    "        len_map = {}\n",
    "        \n",
    "        for node in paths:\n",
    "            if len(node) in len_map:\n",
    "                len_map[len(node)].append(node)\n",
    "            else:\n",
    "                len_map[len(node)] = [node]\n",
    "                \n",
    "        min_length = min(len_map)\n",
    "        \n",
    "        return len_map[min_length]\n",
    "                \n",
    "        \n",
    "                \n",
    "\n",
    "if __name__ == \"__main__\":\n",
    "    routes = [\n",
    "        (\"M\",\"P\"),\n",
    "        (\"M\",\"D\"),\n",
    "        (\"P\",\"D\"),\n",
    "        (\"P\",\"N\"),\n",
    "        (\"D\",\"N\"),\n",
    "        (\"N\",\"T\"),\n",
    "    ]\n",
    "    g = Graph(routes)\n",
    "#     print(g.graph_dict)\n",
    "    s = \"M\"\n",
    "    e = \"N\"\n",
    "    print(g.get_paths(s,e))\n",
    "    print(g.shortest_paths(s,e))\n",
    "    print(f\"Flight from {s} to {e} :\", g.get_paths(s,e))\n",
    "#     print(g.edges)\n",
    "    "
   ]
  },
  {
   "cell_type": "code",
   "execution_count": null,
   "id": "0734199f",
   "metadata": {},
   "outputs": [],
   "source": []
  }
 ],
 "metadata": {
  "kernelspec": {
   "display_name": "Python 3 (ipykernel)",
   "language": "python",
   "name": "python3"
  },
  "language_info": {
   "codemirror_mode": {
    "name": "ipython",
    "version": 3
   },
   "file_extension": ".py",
   "mimetype": "text/x-python",
   "name": "python",
   "nbconvert_exporter": "python",
   "pygments_lexer": "ipython3",
   "version": "3.9.17"
  }
 },
 "nbformat": 4,
 "nbformat_minor": 5
}
