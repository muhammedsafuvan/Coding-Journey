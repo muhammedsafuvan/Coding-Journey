{
 "cells": [
  {
   "cell_type": "code",
   "execution_count": 13,
   "metadata": {},
   "outputs": [
    {
     "name": "stdout",
     "output_type": "stream",
     "text": [
      "[[7, 4, 1], [8, 5, 2], [9, 6, 3]]\n"
     ]
    }
   ],
   "source": [
    "def rotate_matrix(mat,n):\n",
    "    ans = []\n",
    "    j = 0\n",
    "    while(j<n):\n",
    "        res = []\n",
    "        for i in range(n-1,-1,-1):\n",
    "            res.append(mat[i][j])\n",
    "        ans.append(res)\n",
    "        j += 1\n",
    "    return(ans)\n",
    "arr = [[1,2,3],[4,5,6],[7,8,9]]\n",
    "#print(arr)\n",
    "#arr = [[1,2],[3,4]]\n",
    "print(rotate_matrix(arr,3))\n",
    "\n",
    "    \n",
    "        \n",
    "    \n",
    "        \n",
    "    "
   ]
  },
  {
   "cell_type": "code",
   "execution_count": null,
   "metadata": {},
   "outputs": [],
   "source": [
    "#second occurance"
   ]
  },
  {
   "cell_type": "code",
   "execution_count": 17,
   "metadata": {},
   "outputs": [
    {
     "name": "stdout",
     "output_type": "stream",
     "text": [
      "-1\n"
     ]
    }
   ],
   "source": [
    "def second_occurance(arr,n):\n",
    "    ans = {}\n",
    "    res = -1\n",
    "    for i in arr:\n",
    "        if(i in ans):\n",
    "            ans[i] += 1\n",
    "        else:\n",
    "            ans[i] = 1\n",
    "        if(ans[i]>1):\n",
    "            res = i\n",
    "            break\n",
    "    return res\n",
    "arr = [2,1,3,5,8,9]\n",
    "print(second_occurance(arr,6))\n",
    "    "
   ]
  },
  {
   "cell_type": "code",
   "execution_count": null,
   "metadata": {},
   "outputs": [],
   "source": [
    "#gautam soln"
   ]
  },
  {
   "cell_type": "code",
   "execution_count": 19,
   "metadata": {},
   "outputs": [
    {
     "name": "stdout",
     "output_type": "stream",
     "text": [
      "2\n"
     ]
    }
   ],
   "source": [
    "def second_occurance(arr,n):\n",
    "    ans = {}\n",
    "    for i in arr:\n",
    "        if(i not in ans.keys()):\n",
    "            ans[i] = 1\n",
    "        else:\n",
    "            return i\n",
    "        \n",
    "arr = [2,2,3,5,3,2]\n",
    "print(second_occurance(arr,6))"
   ]
  },
  {
   "cell_type": "code",
   "execution_count": null,
   "metadata": {},
   "outputs": [],
   "source": [
    "#transpose of matrix"
   ]
  },
  {
   "cell_type": "code",
   "execution_count": 21,
   "metadata": {},
   "outputs": [
    {
     "name": "stdout",
     "output_type": "stream",
     "text": [
      "[[1, 4, 7], [2, 5, 8], [3, 6, 9]]\n"
     ]
    }
   ],
   "source": [
    "def transpose_matrix(mat,n):\n",
    "    ans = []\n",
    "    j = 0\n",
    "    while(j<n):\n",
    "        res = []\n",
    "        for i in range(n):\n",
    "            res.append(mat[i][j])\n",
    "        ans.append(res)\n",
    "        j += 1\n",
    "    return(ans)\n",
    "arr = [[1,2,3],[4,5,6],[7,8,9]]\n",
    "#print(arr)\n",
    "#arr = [[1,2],[3,4]]\n",
    "print(transpose_matrix(arr,3))\n",
    "\n",
    "    "
   ]
  },
  {
   "cell_type": "code",
   "execution_count": null,
   "metadata": {},
   "outputs": [],
   "source": []
  }
 ],
 "metadata": {
  "kernelspec": {
   "display_name": "Python 3",
   "language": "python",
   "name": "python3"
  },
  "language_info": {
   "codemirror_mode": {
    "name": "ipython",
    "version": 3
   },
   "file_extension": ".py",
   "mimetype": "text/x-python",
   "name": "python",
   "nbconvert_exporter": "python",
   "pygments_lexer": "ipython3",
   "version": "3.8.5"
  }
 },
 "nbformat": 4,
 "nbformat_minor": 4
}
