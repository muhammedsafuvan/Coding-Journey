{
 "cells": [
  {
   "cell_type": "code",
   "execution_count": 10,
   "metadata": {},
   "outputs": [
    {
     "name": "stdout",
     "output_type": "stream",
     "text": [
      "g4g\n"
     ]
    }
   ],
   "source": [
    "def let(S):\n",
    "    x = S.split()\n",
    "    n = len(x)\n",
    "    ans = \"\"\n",
    "    for i in range(n):\n",
    "        ans+= x[i][0]\n",
    "    \n",
    "    return ans\n",
    "S = \"geeks 4 geeks\"\n",
    "print(let(S))"
   ]
  },
  {
   "cell_type": "code",
   "execution_count": 14,
   "metadata": {},
   "outputs": [
    {
     "data": {
      "text/plain": [
       "'geeks, 4, geeks'"
      ]
     },
     "execution_count": 14,
     "metadata": {},
     "output_type": "execute_result"
    }
   ],
   "source": [
    "S = \"geeks, 4, geeks\"\n",
    "S.strip(\",\")\n",
    "#S.split()"
   ]
  },
  {
   "cell_type": "code",
   "execution_count": 20,
   "metadata": {},
   "outputs": [
    {
     "name": "stdout",
     "output_type": "stream",
     "text": [
      "[[3, 6, 9], [2, 5, 8], [1, 4, 7]]\n"
     ]
    }
   ],
   "source": [
    "def rotate(matrix): \n",
    "    #code here\n",
    "    ans = []\n",
    "    n = len(matrix)\n",
    "    for i in range(n-1,-1,-1):\n",
    "        res = []\n",
    "        for j in range(n):\n",
    "            res.append(matrix[j][i])\n",
    "        ans.append(res)\n",
    "    return ans\n",
    "matrix = [[1,2,3],\n",
    "          [4,5,6],\n",
    "          [7,8,9]]\n",
    "print(rotate(matrix))"
   ]
  },
  {
   "cell_type": "code",
   "execution_count": null,
   "metadata": {},
   "outputs": [],
   "source": []
  }
 ],
 "metadata": {
  "kernelspec": {
   "display_name": "Python 3",
   "language": "python",
   "name": "python3"
  },
  "language_info": {
   "codemirror_mode": {
    "name": "ipython",
    "version": 3
   },
   "file_extension": ".py",
   "mimetype": "text/x-python",
   "name": "python",
   "nbconvert_exporter": "python",
   "pygments_lexer": "ipython3",
   "version": "3.8.5"
  }
 },
 "nbformat": 4,
 "nbformat_minor": 4
}
