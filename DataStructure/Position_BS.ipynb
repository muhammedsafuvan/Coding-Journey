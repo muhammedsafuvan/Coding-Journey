{
 "cells": [
  {
   "cell_type": "code",
   "execution_count": 6,
   "metadata": {},
   "outputs": [
    {
     "name": "stdout",
     "output_type": "stream",
     "text": [
      "10 10\n"
     ]
    }
   ],
   "source": [
    "def binery_search(low,high,condition):\n",
    "    \n",
    "    while low <= high:\n",
    "        mid = (low+high)//2\n",
    "        result = condition(mid)\n",
    "        if result == \"found\":\n",
    "            return mid\n",
    "        elif result == \"left\":\n",
    "            high= mid-1\n",
    "        else:\n",
    "            low=mid+1\n",
    "    return -1\n",
    "    \n",
    "\n",
    "\n",
    "def starting_position(nums,target):\n",
    "    \n",
    "    def condition(mid):\n",
    "        if nums[mid] == target:\n",
    "            if mid-1 > 0 and nums[mid-1] == target:\n",
    "                return \"left\"\n",
    "            return \"found\"\n",
    "        elif nums[mid] < target:\n",
    "            return \"right\"\n",
    "        else:\n",
    "            return \"left\"\n",
    "    return binery_search(0,len(nums)-1,condition)\n",
    "\n",
    "def ending_position(nums,target):\n",
    "    \n",
    "    def condition(mid):\n",
    "        if nums[mid] == target:\n",
    "            if mid < len(nums)-1 and nums[mid+1] == target:\n",
    "                return \"right\"\n",
    "            return \"found\"\n",
    "        elif nums[mid] < target:\n",
    "            return \"right\"\n",
    "        else:\n",
    "            return \"left\"\n",
    "    return binery_search(0,len(nums)-1,condition)\n",
    "    \n",
    "        \n",
    "        \n",
    "        \n",
    "\n",
    "if __name__ == \"__main__\":\n",
    "    l=[5,5,5,5,7,7,7,8,8,8,10]\n",
    "    t=10\n",
    "    print(starting_position(l,t),ending_position(l,t))\n",
    "\n"
   ]
  },
  {
   "cell_type": "code",
   "execution_count": null,
   "metadata": {},
   "outputs": [],
   "source": []
  }
 ],
 "metadata": {
  "kernelspec": {
   "display_name": "Python 3",
   "language": "python",
   "name": "python3"
  },
  "language_info": {
   "codemirror_mode": {
    "name": "ipython",
    "version": 3
   },
   "file_extension": ".py",
   "mimetype": "text/x-python",
   "name": "python",
   "nbconvert_exporter": "python",
   "pygments_lexer": "ipython3",
   "version": "3.8.5"
  }
 },
 "nbformat": 4,
 "nbformat_minor": 4
}
