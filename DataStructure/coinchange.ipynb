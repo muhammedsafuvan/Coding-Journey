{
 "cells": [
  {
   "cell_type": "code",
   "execution_count": null,
   "metadata": {},
   "outputs": [
    {
     "name": "stdout",
     "output_type": "stream",
     "text": [
      "[5, 2, 1]\n"
     ]
    }
   ],
   "source": [
    "def coinChange(coins, amount):\n",
    "        count = 0\n",
    "        coins.sort(reverse = True)\n",
    "        i = j = 0\n",
    "        print(coins)\n",
    "        while j < amount:\n",
    "            while i < len(coins):\n",
    "                k = i\n",
    "                d = amount - coins[i]\n",
    "                if d == 0:\n",
    "                    return j\n",
    "                elif d < 0:\n",
    "                    i += 1\n",
    "                else:\n",
    "                    i = k\n",
    "                j += 1\n",
    "        return -1\n",
    "            \n",
    "coins = [1,2,5]\n",
    "amount = 11\n",
    "print(coinChange(coins, amount))\n",
    "        "
   ]
  },
  {
   "cell_type": "code",
   "execution_count": null,
   "metadata": {},
   "outputs": [],
   "source": []
  }
 ],
 "metadata": {
  "kernelspec": {
   "display_name": "Python 3",
   "language": "python",
   "name": "python3"
  },
  "language_info": {
   "codemirror_mode": {
    "name": "ipython",
    "version": 3
   },
   "file_extension": ".py",
   "mimetype": "text/x-python",
   "name": "python",
   "nbconvert_exporter": "python",
   "pygments_lexer": "ipython3",
   "version": "3.8.5"
  }
 },
 "nbformat": 4,
 "nbformat_minor": 4
}
