{
 "cells": [
  {
   "cell_type": "code",
   "execution_count": 34,
   "metadata": {},
   "outputs": [
    {
     "name": "stdout",
     "output_type": "stream",
     "text": [
      "[[0, 0, 0], [0, 0, 0], [0, 0, 0]]\n",
      "[[0, 0, 0], [0, 0, 0], [0, 0, 0]]\n",
      "[[1, 2, 1], [2, 1, 1], [1, 1, 1]]\n"
     ]
    }
   ],
   "source": [
    "def minesweeper(matrix):\n",
    "    n = len(matrix)\n",
    "    m = len(matrix[0])\n",
    "    a = [[0]*m]*n\n",
    "    print(a)\n",
    "    ans = []\n",
    "    for i in range(n):\n",
    "        temp = [0 for j in range(m)]\n",
    "        ans.append(temp)\n",
    "    print(ans)\n",
    "    d = [(0,1),[-1,0],[1,0],[0,-1],[1,1],[1,-1],[-1,1],[-1,-1]]\n",
    "    for i in range(n):\n",
    "        for j in range(m):\n",
    "            for k in range(len(d)):\n",
    "                x = i + d[k][0]\n",
    "                y = j + d[k][1]\n",
    "                if 0<= x < n and 0 <= y < m and matrix[x][y]:\n",
    "                    ans [i][j] += 1\n",
    "    return ans\n",
    "                \n",
    "        \n",
    "matrix = [[True, False, False],\n",
    "          [False, True, False],\n",
    "          [False, False, False]]\n",
    "print(minesweeper(matrix))"
   ]
  },
  {
   "cell_type": "code",
   "execution_count": 35,
   "metadata": {},
   "outputs": [
    {
     "data": {
      "text/plain": [
       "122"
      ]
     },
     "execution_count": 35,
     "metadata": {},
     "output_type": "execute_result"
    }
   ],
   "source": [
    "ord('z')"
   ]
  },
  {
   "cell_type": "code",
   "execution_count": 37,
   "metadata": {},
   "outputs": [
    {
     "data": {
      "text/plain": [
       "97"
      ]
     },
     "execution_count": 37,
     "metadata": {},
     "output_type": "execute_result"
    }
   ],
   "source": [
    "ord('a')"
   ]
  },
  {
   "cell_type": "code",
   "execution_count": null,
   "metadata": {},
   "outputs": [],
   "source": []
  }
 ],
 "metadata": {
  "kernelspec": {
   "display_name": "Python 3",
   "language": "python",
   "name": "python3"
  },
  "language_info": {
   "codemirror_mode": {
    "name": "ipython",
    "version": 3
   },
   "file_extension": ".py",
   "mimetype": "text/x-python",
   "name": "python",
   "nbconvert_exporter": "python",
   "pygments_lexer": "ipython3",
   "version": "3.8.5"
  }
 },
 "nbformat": 4,
 "nbformat_minor": 4
}
