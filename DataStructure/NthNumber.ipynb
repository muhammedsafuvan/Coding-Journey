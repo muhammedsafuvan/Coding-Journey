{
 "cells": [
  {
   "cell_type": "code",
   "execution_count": 10,
   "metadata": {},
   "outputs": [
    {
     "name": "stdout",
     "output_type": "stream",
     "text": [
      "81\n",
      "89\n"
     ]
    }
   ],
   "source": [
    "n = int(input())\n",
    "ans = 0\n",
    "#for i in range(n):\n",
    "x = n//10\n",
    "if(n%10 == 9):\n",
    "    ans = n + x + 1\n",
    "else:\n",
    "    ans = n + x\n",
    "print(ans)\n",
    "        "
   ]
  },
  {
   "cell_type": "code",
   "execution_count": null,
   "metadata": {},
   "outputs": [],
   "source": [
    "#Nonal Number"
   ]
  },
  {
   "cell_type": "code",
   "execution_count": 11,
   "metadata": {},
   "outputs": [],
   "source": [
    "#Number Sym with base 9"
   ]
  },
  {
   "cell_type": "code",
   "execution_count": 30,
   "metadata": {},
   "outputs": [
    {
     "name": "stdout",
     "output_type": "stream",
     "text": [
      "121\n"
     ]
    }
   ],
   "source": [
    "def Nonal(N):\n",
    "    i = 0\n",
    "    res = 0\n",
    "    while(N>0):\n",
    "        rem = N%9\n",
    "        res += pow(10,i)*rem\n",
    "        i += 1\n",
    "        N //=9\n",
    "        \n",
    "    return res\n",
    "print(Nonal(100))\n",
    "        "
   ]
  },
  {
   "cell_type": "code",
   "execution_count": 23,
   "metadata": {},
   "outputs": [
    {
     "name": "stdout",
     "output_type": "stream",
     "text": [
      "1010\n"
     ]
    }
   ],
   "source": [
    "def Bin(N):\n",
    "    \n",
    "    i = 0\n",
    "    res = 0\n",
    "    while(N>0):\n",
    "        rem = N%2\n",
    "        res += pow(10,i)*rem\n",
    "        i += 1\n",
    "        N //=2\n",
    "        \n",
    "    return res\n",
    "print(Bin(10))\n",
    "    \n",
    "        "
   ]
  },
  {
   "cell_type": "code",
   "execution_count": 41,
   "metadata": {},
   "outputs": [
    {
     "name": "stdout",
     "output_type": "stream",
     "text": [
      "['2', '5']\n"
     ]
    }
   ],
   "source": [
    "def fract(N,M):\n",
    "    res = N/M\n",
    "    #l = \" \"\n",
    "    l = (str(res).split('.'))\n",
    "    if(len(l) > 2):\n",
    "        \n",
    "    return l\n",
    "print(fract(5,2))"
   ]
  },
  {
   "cell_type": "code",
   "execution_count": 49,
   "metadata": {},
   "outputs": [
    {
     "name": "stdout",
     "output_type": "stream",
     "text": [
      "<class 'dict_values'>\n"
     ]
    }
   ],
   "source": [
    " def frequencyCount(arr, N, P):\n",
    "        # code here\n",
    "        ans = {}\n",
    "        for i in range(1,P+1):\n",
    "            if(i in arr):\n",
    "                c=arr.count(i)\n",
    "                ans[i] = c\n",
    "            else:\n",
    "                ans[i] = 0\n",
    "        x = ans.values()\n",
    "        l=str(x)\n",
    "                \n",
    "        return type(x)\n",
    "a = [3, 3, 3, 3, 3]\n",
    "print(frequencyCount(a,5,3))"
   ]
  },
  {
   "cell_type": "code",
   "execution_count": 53,
   "metadata": {},
   "outputs": [
    {
     "name": "stdout",
     "output_type": "stream",
     "text": [
      "10 5 "
     ]
    }
   ],
   "source": [
    "def findMissing(a, b, n, m):\n",
    " \n",
    "    for i in range(n):\n",
    "        for j in range(m):\n",
    "            if (a[i] == b[j]):\n",
    "                break\n",
    " \n",
    "        if (j == m - 1):\n",
    "            print(a[i], end = \" \")\n",
    " \n",
    "# Driver code\n",
    "if __name__ == \"__main__\":\n",
    "     \n",
    "    a = [ 4,10,5,9,11 ]\n",
    "    b = [ 4,9,3,11,10 ]\n",
    "    n = len(a)\n",
    "    m = len(b)\n",
    "    findMissing(a, b, n, m)"
   ]
  },
  {
   "cell_type": "code",
   "execution_count": null,
   "metadata": {},
   "outputs": [],
   "source": []
  }
 ],
 "metadata": {
  "kernelspec": {
   "display_name": "Python 3",
   "language": "python",
   "name": "python3"
  },
  "language_info": {
   "codemirror_mode": {
    "name": "ipython",
    "version": 3
   },
   "file_extension": ".py",
   "mimetype": "text/x-python",
   "name": "python",
   "nbconvert_exporter": "python",
   "pygments_lexer": "ipython3",
   "version": "3.8.5"
  }
 },
 "nbformat": 4,
 "nbformat_minor": 4
}
