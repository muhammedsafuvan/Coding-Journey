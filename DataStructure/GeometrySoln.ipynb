{
 "cells": [
  {
   "cell_type": "code",
   "execution_count": 37,
   "metadata": {},
   "outputs": [
    {
     "name": "stdout",
     "output_type": "stream",
     "text": [
      "[13.00943102542602, -73.00943102542601, -83.00943102542601, 23.009431025426018]\n"
     ]
    }
   ],
   "source": [
    "import math\n",
    "def solve(x,y,d):\n",
    "    m = []\n",
    "    c1 = []\n",
    "    c2 = []\n",
    "    c3 = []\n",
    "    x += [x[0]]\n",
    "    y += [y[0]]\n",
    "    n = len(x)\n",
    "    P = []\n",
    "    Q = []\n",
    "\n",
    "    for i in range(n-1):\n",
    "        try:\n",
    "            slope = (y[i+1] -y[i]) / (x[i+1]-x[i])\n",
    "            m += [slope]\n",
    "        except ZeroDivisionError:\n",
    "            slope = 100\n",
    "            m += [slope]\n",
    "            \n",
    "    for i in range(n-1):\n",
    "        c1 += [y[i] - m[i]*x[i]]\n",
    "        \n",
    "    for i in range(n-1):\n",
    "        c2 += [c1[i] + d*math.sqrt(1+pow(m[i],2))]\n",
    "    for i in range(n-1):\n",
    "        c3 += [c1[i] - d*math.sqrt(1+pow(m[i],2))]\n",
    "    #print(c1)\n",
    "    #print(c2)\n",
    "    #print(c3)     \n",
    "    c2 += [c2[0]]\n",
    "    m += [m[0]]\n",
    "    for i in range(n-1):\n",
    "        P += [(c2[i]-c2[i+1])/(m[i]-m[i+1])]\n",
    "    \n",
    "        \n",
    "        \n",
    "    \n",
    "    return P\n",
    "#x = [-10,80,80,-10]\n",
    "x = [-10,0,60,70]\n",
    "y = [-20,50,50,-20]\n",
    "#y = [50,50,-10,-10]\n",
    "d = 15\n",
    "print(solve(x,y,d))"
   ]
  },
  {
   "cell_type": "code",
   "execution_count": 2,
   "metadata": {},
   "outputs": [
    {
     "data": {
      "image/png": "[encoded data removed]",
      "text/plain": [
       "<Figure size 432x288 with 1 Axes>"
      ]
     },
     "metadata": {
      "needs_background": "light"
     },
     "output_type": "display_data"
    }
   ],
   "source": [
    "from matplotlib import pyplot as plt\n",
    "import numpy as np\n",
    "\n",
    "x = np.array([13.00943102542602, -73.00943102542601, -83.00943102542601, 23.009431025426018])\n",
    "plt.plot(x)\n",
    "plt.show()"
   ]
  },
  {
   "cell_type": "code",
   "execution_count": null,
   "metadata": {},
   "outputs": [],
   "source": []
  }
 ],
 "metadata": {
  "kernelspec": {
   "display_name": "Python 3",
   "language": "python",
   "name": "python3"
  },
  "language_info": {
   "codemirror_mode": {
    "name": "ipython",
    "version": 3
   },
   "file_extension": ".py",
   "mimetype": "text/x-python",
   "name": "python",
   "nbconvert_exporter": "python",
   "pygments_lexer": "ipython3",
   "version": "3.8.5"
  }
 },
 "nbformat": 4,
 "nbformat_minor": 4
}
