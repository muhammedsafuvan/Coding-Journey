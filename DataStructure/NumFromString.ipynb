{
 "cells": [
  {
   "cell_type": "code",
   "execution_count": 4,
   "metadata": {},
   "outputs": [
    {
     "name": "stdout",
     "output_type": "stream",
     "text": [
      "50\n"
     ]
    }
   ],
   "source": [
    "def ext_num(S):\n",
    "    sen = S.split(\" \")\n",
    "    ans = []\n",
    "    for i in sen:\n",
    "        if(i.isnumeric()):\n",
    "            ans.append(i)\n",
    "    l = -1\n",
    "    for i in ans:\n",
    "        if(int(i) %2  == 0):\n",
    "            return i\n",
    "    #return ans\n",
    "str = \"i am 25 yo 50\"\n",
    "print(ext_num(str))"
   ]
  },
  {
   "cell_type": "code",
   "execution_count": 14,
   "metadata": {},
   "outputs": [
    {
     "name": "stdout",
     "output_type": "stream",
     "text": [
      "2\n"
     ]
    }
   ],
   "source": [
    "def check9(s):\n",
    "    nine = \"9\"\n",
    "    for i in s:\n",
    "        if(i.isnumeric()):\n",
    "            if(nine in i):\n",
    "                return 1\n",
    "        \n",
    "    return 2\n",
    "s = \"1234 dds fdxf\"\n",
    "print(check9(s))"
   ]
  },
  {
   "cell_type": "code",
   "execution_count": null,
   "metadata": {},
   "outputs": [],
   "source": []
  }
 ],
 "metadata": {
  "kernelspec": {
   "display_name": "Python 3",
   "language": "python",
   "name": "python3"
  },
  "language_info": {
   "codemirror_mode": {
    "name": "ipython",
    "version": 3
   },
   "file_extension": ".py",
   "mimetype": "text/x-python",
   "name": "python",
   "nbconvert_exporter": "python",
   "pygments_lexer": "ipython3",
   "version": "3.8.5"
  }
 },
 "nbformat": 4,
 "nbformat_minor": 4
}
