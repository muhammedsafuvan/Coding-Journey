{
 "cells": [
  {
   "cell_type": "code",
   "execution_count": 9,
   "metadata": {},
   "outputs": [
    {
     "name": "stdout",
     "output_type": "stream",
     "text": [
      "-1\n"
     ]
    }
   ],
   "source": [
    "def kadane(arr):\n",
    "    max_curr = max_glo = arr[0]\n",
    "    if arr[0] < 0:\n",
    "        max_curr = max_glo = arr[0]\n",
    "    else:\n",
    "        max_curr = max_glo = 0\n",
    "    for i in range(len(arr)):\n",
    "        max_curr = max(arr[i],max_curr + arr[i])\n",
    "        if max_curr > max_glo :\n",
    "            max_glo = max_curr\n",
    "    \n",
    "    return max_glo\n",
    "#a = [-2,3,2,-1]\n",
    "a = [-1,-2,-3,-4]\n",
    "#a = [1,2,3,-2,5]\n",
    "print(kadane(a))"
   ]
  },
  {
   "cell_type": "code",
   "execution_count": null,
   "metadata": {},
   "outputs": [],
   "source": []
  }
 ],
 "metadata": {
  "kernelspec": {
   "display_name": "Python 3",
   "language": "python",
   "name": "python3"
  },
  "language_info": {
   "codemirror_mode": {
    "name": "ipython",
    "version": 3
   },
   "file_extension": ".py",
   "mimetype": "text/x-python",
   "name": "python",
   "nbconvert_exporter": "python",
   "pygments_lexer": "ipython3",
   "version": "3.8.5"
  }
 },
 "nbformat": 4,
 "nbformat_minor": 4
}
