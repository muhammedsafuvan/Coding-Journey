{
 "cells": [
  {
   "cell_type": "code",
   "execution_count": 11,
   "metadata": {},
   "outputs": [
    {
     "name": "stdout",
     "output_type": "stream",
     "text": [
      "[24, 12, 8, 6]\n"
     ]
    }
   ],
   "source": [
    "def poa(a):\n",
    "    pre = []\n",
    "    pos = []\n",
    "    ans = []\n",
    "    n = len(a)\n",
    "    \n",
    "    for i in range(n):\n",
    "        p = 1\n",
    "        for j in range(i):\n",
    "            p *= a[j]\n",
    "        pre.append(p)\n",
    "        \n",
    "    for i in range(n):\n",
    "        p = 1\n",
    "        for j in range(i+1,n):\n",
    "            p *= a[j]\n",
    "        pos.append(p)\n",
    "        \n",
    "    for i in range(n):\n",
    "        ans.append(pos[i]*pre[i])\n",
    "        \n",
    "    return ans\n",
    "\n",
    "a = [1,2,3,4]\n",
    "print(poa(a))"
   ]
  },
  {
   "cell_type": "code",
   "execution_count": null,
   "metadata": {},
   "outputs": [],
   "source": []
  }
 ],
 "metadata": {
  "kernelspec": {
   "display_name": "Python 3",
   "language": "python",
   "name": "python3"
  },
  "language_info": {
   "codemirror_mode": {
    "name": "ipython",
    "version": 3
   },
   "file_extension": ".py",
   "mimetype": "text/x-python",
   "name": "python",
   "nbconvert_exporter": "python",
   "pygments_lexer": "ipython3",
   "version": "3.8.5"
  }
 },
 "nbformat": 4,
 "nbformat_minor": 4
}
