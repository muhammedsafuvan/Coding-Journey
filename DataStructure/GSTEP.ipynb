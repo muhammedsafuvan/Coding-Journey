{
 "cells": [
  {
   "cell_type": "code",
   "execution_count": 14,
   "metadata": {},
   "outputs": [
    {
     "name": "stdout",
     "output_type": "stream",
     "text": [
      "[1, 5, 14]\n",
      "[5, 6, 14]\n",
      "[2, 5, 6]\n",
      "[2, 3, 6]\n",
      "[5.0, 6.0, 5.0, 3.0]\n"
     ]
    }
   ],
   "source": [
    "def median(A,K):\n",
    "    ans = []\n",
    "    N = len(A)\n",
    "    for i in range(N-K+1):\n",
    "        t = A[i:K+i]\n",
    "        t.sort()\n",
    "        print(t)\n",
    "        if K%2:\n",
    "            ans.append(t[K//2]*1.0000)\n",
    "        else:\n",
    "            ans.append((t[K//2]+t[K//2-1])//2)\n",
    "    return ans\n",
    "A = [1,14,5,6,2,3]\n",
    "K = 3\n",
    "print(median(A,K))"
   ]
  },
  {
   "cell_type": "code",
   "execution_count": null,
   "metadata": {},
   "outputs": [],
   "source": []
  }
 ],
 "metadata": {
  "kernelspec": {
   "display_name": "Python 3",
   "language": "python",
   "name": "python3"
  },
  "language_info": {
   "codemirror_mode": {
    "name": "ipython",
    "version": 3
   },
   "file_extension": ".py",
   "mimetype": "text/x-python",
   "name": "python",
   "nbconvert_exporter": "python",
   "pygments_lexer": "ipython3",
   "version": "3.8.5"
  }
 },
 "nbformat": 4,
 "nbformat_minor": 4
}
