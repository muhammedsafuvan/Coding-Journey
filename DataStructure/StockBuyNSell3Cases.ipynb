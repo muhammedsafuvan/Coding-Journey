{
 "cells": [
  {
   "cell_type": "markdown",
   "metadata": {},
   "source": [
    "#  OneTransaction"
   ]
  },
  {
   "cell_type": "raw",
   "metadata": {},
   "source": [
    "#BruteForce"
   ]
  },
  {
   "cell_type": "code",
   "execution_count": 11,
   "metadata": {},
   "outputs": [
    {
     "name": "stdout",
     "output_type": "stream",
     "text": [
      "5\n",
      "6\n",
      "10\n",
      "10\n",
      "10\n",
      "10\n"
     ]
    }
   ],
   "source": [
    "def profit(n,k,A):\n",
    "    res = 0\n",
    "    start = 0\n",
    "    ans = 0\n",
    "    count = 0\n",
    "    for i in range(n-1):\n",
    "        start = i\n",
    "        for j in range(i+1,n):\n",
    "            if A[j] > A[start]:\n",
    "                ans = max(ans,A[j]-A[start])\n",
    "                start = j+1\n",
    "                print(ans)\n",
    "    return ans\n",
    "# A = [10,2,3,24,5,11]\n",
    "# A = [10,9,5,3,1]\n",
    "A = [12,5,11,7,17]\n",
    "n = len(A)\n",
    "k = 1\n",
    "print(profit(n,k,A))"
   ]
  },
  {
   "cell_type": "code",
   "execution_count": null,
   "metadata": {},
   "outputs": [],
   "source": [
    "# "
   ]
  }
 ],
 "metadata": {
  "kernelspec": {
   "display_name": "Python 3",
   "language": "python",
   "name": "python3"
  },
  "language_info": {
   "codemirror_mode": {
    "name": "ipython",
    "version": 3
   },
   "file_extension": ".py",
   "mimetype": "text/x-python",
   "name": "python",
   "nbconvert_exporter": "python",
   "pygments_lexer": "ipython3",
   "version": "3.8.5"
  }
 },
 "nbformat": 4,
 "nbformat_minor": 4
}
