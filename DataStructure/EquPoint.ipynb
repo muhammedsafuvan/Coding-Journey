{
 "cells": [
  {
   "cell_type": "code",
   "execution_count": 14,
   "metadata": {},
   "outputs": [
    {
     "name": "stdout",
     "output_type": "stream",
     "text": [
      "4\n"
     ]
    }
   ],
   "source": [
    "def equ_point(arr,n):\n",
    "    \n",
    "    for i in range(n):\n",
    "        l,r = 0,0\n",
    "        l = sum(arr[:i])\n",
    "        r = sum(arr[i+1:])\n",
    "        if(l == r):\n",
    "            return i+1\n",
    "    return sum(arr[3:]),sum(arr[:2])\n",
    "arr = [1,3,5,2,9]\n",
    "print(equ_point(arr,5))"
   ]
  },
  {
   "cell_type": "code",
   "execution_count": null,
   "metadata": {},
   "outputs": [],
   "source": [
    "#Wave"
   ]
  },
  {
   "cell_type": "code",
   "execution_count": 26,
   "metadata": {},
   "outputs": [
    {
     "name": "stdout",
     "output_type": "stream",
     "text": [
      "[3, 4, 7, 6, 2, 1, 8]\n"
     ]
    }
   ],
   "source": [
    "def wave(arr,n):\n",
    "    for i in range(0,n-1):\n",
    "        if(arr[i]< arr[i+1]):\n",
    "            continue\n",
    "        else:\n",
    "            arr[i] = arr[i] + arr[i+1]\n",
    "            arr[i+1] = arr[i] - arr[i+1]\n",
    "            arr[i] = arr[i] - arr[i+1]\n",
    "    return arr\n",
    "arr = [4, 3, 7, 8, 6, 2, 1]\n",
    "print(wave(arr,7))"
   ]
  },
  {
   "cell_type": "code",
   "execution_count": null,
   "metadata": {},
   "outputs": [],
   "source": [
    "#swap"
   ]
  },
  {
   "cell_type": "code",
   "execution_count": 22,
   "metadata": {},
   "outputs": [
    {
     "name": "stdout",
     "output_type": "stream",
     "text": [
      "(2, 1)\n"
     ]
    }
   ],
   "source": [
    "def swap(a,b):\n",
    "    a = a+b\n",
    "    b = a-b\n",
    "    a = a-b\n",
    "    return(a,b)\n",
    "print(swap(1,2))"
   ]
  },
  {
   "cell_type": "code",
   "execution_count": 29,
   "metadata": {},
   "outputs": [
    {
     "name": "stdout",
     "output_type": "stream",
     "text": [
      "3 2\n"
     ]
    }
   ],
   "source": [
    "a = 2\n",
    "b = 3\n",
    "a,b = b,a\n",
    "print(a,b)"
   ]
  },
  {
   "cell_type": "code",
   "execution_count": 28,
   "metadata": {},
   "outputs": [
    {
     "name": "stdout",
     "output_type": "stream",
     "text": [
      "True\n"
     ]
    }
   ],
   "source": [
    "flag = False\n",
    "flag = bool(1 - flag)\n",
    "print(flag)\n"
   ]
  },
  {
   "cell_type": "code",
   "execution_count": null,
   "metadata": {},
   "outputs": [],
   "source": []
  }
 ],
 "metadata": {
  "kernelspec": {
   "display_name": "Python 3",
   "language": "python",
   "name": "python3"
  },
  "language_info": {
   "codemirror_mode": {
    "name": "ipython",
    "version": 3
   },
   "file_extension": ".py",
   "mimetype": "text/x-python",
   "name": "python",
   "nbconvert_exporter": "python",
   "pygments_lexer": "ipython3",
   "version": "3.8.5"
  }
 },
 "nbformat": 4,
 "nbformat_minor": 4
}
